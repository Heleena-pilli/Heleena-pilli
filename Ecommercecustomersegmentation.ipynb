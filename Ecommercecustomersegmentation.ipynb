{
  "cells": [
    {
      "cell_type": "markdown",
      "metadata": {
        "id": "view-in-github",
        "colab_type": "text"
      },
      "source": [
        "<a href=\"https://colab.research.google.com/github/Heleena-pilli/Heleena-pilli/blob/main/Ecommercecustomersegmentation.ipynb\" target=\"_parent\"><img src=\"https://colab.research.google.com/assets/colab-badge.svg\" alt=\"Open In Colab\"/></a>"
      ]
    },
    {
      "cell_type": "markdown",
      "metadata": {
        "id": "zJn0wI7yqulv"
      },
      "source": [
        "**Problem Statement**\n",
        "As an e-commerce platform, it is very important to profile your customers, dividing your clientele base into groups based on their needs and expectations. Grouping will help us come up with dedicated marketing strategies and will aid us in recommending products to different user bases. In this project, we are interested in analyzing the content of an E-commerce database that lists purchases made by ∼4000 customers over a period of one year (1/12/2010 to 9/12/2011). Based on this analysis, we would like to develop models to group the 4000 customers into different buckets. Such a model must take into account the similarity between the products purchased between the users (i.e. a user might purchase 2 different products which are very similar to each other), the spending patterns of a user, their meta information, etc. \n",
        "\n"
      ]
    },
    {
      "cell_type": "markdown",
      "metadata": {
        "id": "7SCkQj2eq58S"
      },
      "source": [
        "IMPORT NECESSARY PACKAGES"
      ]
    },
    {
      "cell_type": "code",
      "execution_count": 1,
      "metadata": {
        "colab": {
          "base_uri": "https://localhost:8080/"
        },
        "id": "lQY7L_k5qp0T",
        "outputId": "afe5e809-bc98-4427-aeb3-63612a2f5210"
      },
      "outputs": [
        {
          "output_type": "stream",
          "name": "stderr",
          "text": [
            "[nltk_data] Downloading package punkt to /root/nltk_data...\n",
            "[nltk_data]   Unzipping tokenizers/punkt.zip.\n",
            "[nltk_data] Downloading package stopwords to /root/nltk_data...\n",
            "[nltk_data]   Unzipping corpora/stopwords.zip.\n",
            "[nltk_data] Downloading package averaged_perceptron_tagger to\n",
            "[nltk_data]     /root/nltk_data...\n",
            "[nltk_data]   Unzipping taggers/averaged_perceptron_tagger.zip.\n"
          ]
        },
        {
          "output_type": "execute_result",
          "data": {
            "text/plain": [
              "True"
            ]
          },
          "metadata": {},
          "execution_count": 1
        }
      ],
      "source": [
        "import numpy as np\n",
        "import pandas as pd\n",
        "import matplotlib.pyplot as plt\n",
        "import warnings\n",
        "warnings.filterwarnings('ignore')\n",
        "import nltk\n",
        "nltk.download('punkt')\n",
        "nltk.download('stopwords')\n",
        "from nltk.corpus import stopwords\n",
        "nltk.download('averaged_perceptron_tagger')"
      ]
    },
    {
      "cell_type": "markdown",
      "metadata": {
        "id": "MhZjKofi3kKt"
      },
      "source": [
        "Import the dataset\n"
      ]
    },
    {
      "cell_type": "code",
      "execution_count": 2,
      "metadata": {
        "colab": {
          "base_uri": "https://localhost:8080/",
          "height": 424
        },
        "id": "kmNVw-MZxodw",
        "outputId": "e75a1852-fbf1-401f-f424-f6af8f99b100"
      },
      "outputs": [
        {
          "output_type": "execute_result",
          "data": {
            "text/plain": [
              "       InvoiceNo StockCode                          Description  Quantity  \\\n",
              "0         536365    85123A   WHITE HANGING HEART T-LIGHT HOLDER         6   \n",
              "1         536365     71053                  WHITE METAL LANTERN         6   \n",
              "2         536365    84406B       CREAM CUPID HEARTS COAT HANGER         8   \n",
              "3         536365    84029G  KNITTED UNION FLAG HOT WATER BOTTLE         6   \n",
              "4         536365    84029E       RED WOOLLY HOTTIE WHITE HEART.         6   \n",
              "...          ...       ...                                  ...       ...   \n",
              "541904    581587     22613          PACK OF 20 SPACEBOY NAPKINS        12   \n",
              "541905    581587     22899         CHILDREN'S APRON DOLLY GIRL          6   \n",
              "541906    581587     23254        CHILDRENS CUTLERY DOLLY GIRL          4   \n",
              "541907    581587     23255      CHILDRENS CUTLERY CIRCUS PARADE         4   \n",
              "541908    581587     22138        BAKING SET 9 PIECE RETROSPOT          3   \n",
              "\n",
              "            InvoiceDate  UnitPrice  CustomerID         Country  \n",
              "0        12/1/2010 8:26       2.55     17850.0  United Kingdom  \n",
              "1        12/1/2010 8:26       3.39     17850.0  United Kingdom  \n",
              "2        12/1/2010 8:26       2.75     17850.0  United Kingdom  \n",
              "3        12/1/2010 8:26       3.39     17850.0  United Kingdom  \n",
              "4        12/1/2010 8:26       3.39     17850.0  United Kingdom  \n",
              "...                 ...        ...         ...             ...  \n",
              "541904  12/9/2011 12:50       0.85     12680.0          France  \n",
              "541905  12/9/2011 12:50       2.10     12680.0          France  \n",
              "541906  12/9/2011 12:50       4.15     12680.0          France  \n",
              "541907  12/9/2011 12:50       4.15     12680.0          France  \n",
              "541908  12/9/2011 12:50       4.95     12680.0          France  \n",
              "\n",
              "[541909 rows x 8 columns]"
            ],
            "text/html": [
              "\n",
              "  <div id=\"df-089ee40a-2a87-43c1-b2e8-f952255a72b0\">\n",
              "    <div class=\"colab-df-container\">\n",
              "      <div>\n",
              "<style scoped>\n",
              "    .dataframe tbody tr th:only-of-type {\n",
              "        vertical-align: middle;\n",
              "    }\n",
              "\n",
              "    .dataframe tbody tr th {\n",
              "        vertical-align: top;\n",
              "    }\n",
              "\n",
              "    .dataframe thead th {\n",
              "        text-align: right;\n",
              "    }\n",
              "</style>\n",
              "<table border=\"1\" class=\"dataframe\">\n",
              "  <thead>\n",
              "    <tr style=\"text-align: right;\">\n",
              "      <th></th>\n",
              "      <th>InvoiceNo</th>\n",
              "      <th>StockCode</th>\n",
              "      <th>Description</th>\n",
              "      <th>Quantity</th>\n",
              "      <th>InvoiceDate</th>\n",
              "      <th>UnitPrice</th>\n",
              "      <th>CustomerID</th>\n",
              "      <th>Country</th>\n",
              "    </tr>\n",
              "  </thead>\n",
              "  <tbody>\n",
              "    <tr>\n",
              "      <th>0</th>\n",
              "      <td>536365</td>\n",
              "      <td>85123A</td>\n",
              "      <td>WHITE HANGING HEART T-LIGHT HOLDER</td>\n",
              "      <td>6</td>\n",
              "      <td>12/1/2010 8:26</td>\n",
              "      <td>2.55</td>\n",
              "      <td>17850.0</td>\n",
              "      <td>United Kingdom</td>\n",
              "    </tr>\n",
              "    <tr>\n",
              "      <th>1</th>\n",
              "      <td>536365</td>\n",
              "      <td>71053</td>\n",
              "      <td>WHITE METAL LANTERN</td>\n",
              "      <td>6</td>\n",
              "      <td>12/1/2010 8:26</td>\n",
              "      <td>3.39</td>\n",
              "      <td>17850.0</td>\n",
              "      <td>United Kingdom</td>\n",
              "    </tr>\n",
              "    <tr>\n",
              "      <th>2</th>\n",
              "      <td>536365</td>\n",
              "      <td>84406B</td>\n",
              "      <td>CREAM CUPID HEARTS COAT HANGER</td>\n",
              "      <td>8</td>\n",
              "      <td>12/1/2010 8:26</td>\n",
              "      <td>2.75</td>\n",
              "      <td>17850.0</td>\n",
              "      <td>United Kingdom</td>\n",
              "    </tr>\n",
              "    <tr>\n",
              "      <th>3</th>\n",
              "      <td>536365</td>\n",
              "      <td>84029G</td>\n",
              "      <td>KNITTED UNION FLAG HOT WATER BOTTLE</td>\n",
              "      <td>6</td>\n",
              "      <td>12/1/2010 8:26</td>\n",
              "      <td>3.39</td>\n",
              "      <td>17850.0</td>\n",
              "      <td>United Kingdom</td>\n",
              "    </tr>\n",
              "    <tr>\n",
              "      <th>4</th>\n",
              "      <td>536365</td>\n",
              "      <td>84029E</td>\n",
              "      <td>RED WOOLLY HOTTIE WHITE HEART.</td>\n",
              "      <td>6</td>\n",
              "      <td>12/1/2010 8:26</td>\n",
              "      <td>3.39</td>\n",
              "      <td>17850.0</td>\n",
              "      <td>United Kingdom</td>\n",
              "    </tr>\n",
              "    <tr>\n",
              "      <th>...</th>\n",
              "      <td>...</td>\n",
              "      <td>...</td>\n",
              "      <td>...</td>\n",
              "      <td>...</td>\n",
              "      <td>...</td>\n",
              "      <td>...</td>\n",
              "      <td>...</td>\n",
              "      <td>...</td>\n",
              "    </tr>\n",
              "    <tr>\n",
              "      <th>541904</th>\n",
              "      <td>581587</td>\n",
              "      <td>22613</td>\n",
              "      <td>PACK OF 20 SPACEBOY NAPKINS</td>\n",
              "      <td>12</td>\n",
              "      <td>12/9/2011 12:50</td>\n",
              "      <td>0.85</td>\n",
              "      <td>12680.0</td>\n",
              "      <td>France</td>\n",
              "    </tr>\n",
              "    <tr>\n",
              "      <th>541905</th>\n",
              "      <td>581587</td>\n",
              "      <td>22899</td>\n",
              "      <td>CHILDREN'S APRON DOLLY GIRL</td>\n",
              "      <td>6</td>\n",
              "      <td>12/9/2011 12:50</td>\n",
              "      <td>2.10</td>\n",
              "      <td>12680.0</td>\n",
              "      <td>France</td>\n",
              "    </tr>\n",
              "    <tr>\n",
              "      <th>541906</th>\n",
              "      <td>581587</td>\n",
              "      <td>23254</td>\n",
              "      <td>CHILDRENS CUTLERY DOLLY GIRL</td>\n",
              "      <td>4</td>\n",
              "      <td>12/9/2011 12:50</td>\n",
              "      <td>4.15</td>\n",
              "      <td>12680.0</td>\n",
              "      <td>France</td>\n",
              "    </tr>\n",
              "    <tr>\n",
              "      <th>541907</th>\n",
              "      <td>581587</td>\n",
              "      <td>23255</td>\n",
              "      <td>CHILDRENS CUTLERY CIRCUS PARADE</td>\n",
              "      <td>4</td>\n",
              "      <td>12/9/2011 12:50</td>\n",
              "      <td>4.15</td>\n",
              "      <td>12680.0</td>\n",
              "      <td>France</td>\n",
              "    </tr>\n",
              "    <tr>\n",
              "      <th>541908</th>\n",
              "      <td>581587</td>\n",
              "      <td>22138</td>\n",
              "      <td>BAKING SET 9 PIECE RETROSPOT</td>\n",
              "      <td>3</td>\n",
              "      <td>12/9/2011 12:50</td>\n",
              "      <td>4.95</td>\n",
              "      <td>12680.0</td>\n",
              "      <td>France</td>\n",
              "    </tr>\n",
              "  </tbody>\n",
              "</table>\n",
              "<p>541909 rows × 8 columns</p>\n",
              "</div>\n",
              "      <button class=\"colab-df-convert\" onclick=\"convertToInteractive('df-089ee40a-2a87-43c1-b2e8-f952255a72b0')\"\n",
              "              title=\"Convert this dataframe to an interactive table.\"\n",
              "              style=\"display:none;\">\n",
              "        \n",
              "  <svg xmlns=\"http://www.w3.org/2000/svg\" height=\"24px\"viewBox=\"0 0 24 24\"\n",
              "       width=\"24px\">\n",
              "    <path d=\"M0 0h24v24H0V0z\" fill=\"none\"/>\n",
              "    <path d=\"M18.56 5.44l.94 2.06.94-2.06 2.06-.94-2.06-.94-.94-2.06-.94 2.06-2.06.94zm-11 1L8.5 8.5l.94-2.06 2.06-.94-2.06-.94L8.5 2.5l-.94 2.06-2.06.94zm10 10l.94 2.06.94-2.06 2.06-.94-2.06-.94-.94-2.06-.94 2.06-2.06.94z\"/><path d=\"M17.41 7.96l-1.37-1.37c-.4-.4-.92-.59-1.43-.59-.52 0-1.04.2-1.43.59L10.3 9.45l-7.72 7.72c-.78.78-.78 2.05 0 2.83L4 21.41c.39.39.9.59 1.41.59.51 0 1.02-.2 1.41-.59l7.78-7.78 2.81-2.81c.8-.78.8-2.07 0-2.86zM5.41 20L4 18.59l7.72-7.72 1.47 1.35L5.41 20z\"/>\n",
              "  </svg>\n",
              "      </button>\n",
              "      \n",
              "  <style>\n",
              "    .colab-df-container {\n",
              "      display:flex;\n",
              "      flex-wrap:wrap;\n",
              "      gap: 12px;\n",
              "    }\n",
              "\n",
              "    .colab-df-convert {\n",
              "      background-color: #E8F0FE;\n",
              "      border: none;\n",
              "      border-radius: 50%;\n",
              "      cursor: pointer;\n",
              "      display: none;\n",
              "      fill: #1967D2;\n",
              "      height: 32px;\n",
              "      padding: 0 0 0 0;\n",
              "      width: 32px;\n",
              "    }\n",
              "\n",
              "    .colab-df-convert:hover {\n",
              "      background-color: #E2EBFA;\n",
              "      box-shadow: 0px 1px 2px rgba(60, 64, 67, 0.3), 0px 1px 3px 1px rgba(60, 64, 67, 0.15);\n",
              "      fill: #174EA6;\n",
              "    }\n",
              "\n",
              "    [theme=dark] .colab-df-convert {\n",
              "      background-color: #3B4455;\n",
              "      fill: #D2E3FC;\n",
              "    }\n",
              "\n",
              "    [theme=dark] .colab-df-convert:hover {\n",
              "      background-color: #434B5C;\n",
              "      box-shadow: 0px 1px 3px 1px rgba(0, 0, 0, 0.15);\n",
              "      filter: drop-shadow(0px 1px 2px rgba(0, 0, 0, 0.3));\n",
              "      fill: #FFFFFF;\n",
              "    }\n",
              "  </style>\n",
              "\n",
              "      <script>\n",
              "        const buttonEl =\n",
              "          document.querySelector('#df-089ee40a-2a87-43c1-b2e8-f952255a72b0 button.colab-df-convert');\n",
              "        buttonEl.style.display =\n",
              "          google.colab.kernel.accessAllowed ? 'block' : 'none';\n",
              "\n",
              "        async function convertToInteractive(key) {\n",
              "          const element = document.querySelector('#df-089ee40a-2a87-43c1-b2e8-f952255a72b0');\n",
              "          const dataTable =\n",
              "            await google.colab.kernel.invokeFunction('convertToInteractive',\n",
              "                                                     [key], {});\n",
              "          if (!dataTable) return;\n",
              "\n",
              "          const docLinkHtml = 'Like what you see? Visit the ' +\n",
              "            '<a target=\"_blank\" href=https://colab.research.google.com/notebooks/data_table.ipynb>data table notebook</a>'\n",
              "            + ' to learn more about interactive tables.';\n",
              "          element.innerHTML = '';\n",
              "          dataTable['output_type'] = 'display_data';\n",
              "          await google.colab.output.renderOutput(dataTable, element);\n",
              "          const docLink = document.createElement('div');\n",
              "          docLink.innerHTML = docLinkHtml;\n",
              "          element.appendChild(docLink);\n",
              "        }\n",
              "      </script>\n",
              "    </div>\n",
              "  </div>\n",
              "  "
            ]
          },
          "metadata": {},
          "execution_count": 2
        }
      ],
      "source": [
        "df=pd.read_csv(\"/content/sample_data/data.csv\",encoding=\"unicode_escape\")\n",
        "df"
      ]
    },
    {
      "cell_type": "code",
      "execution_count": 3,
      "metadata": {
        "colab": {
          "base_uri": "https://localhost:8080/"
        },
        "id": "61LjDpOP34tP",
        "outputId": "6fa8fddc-aac9-4bd8-fd74-4a26ce9bfa7e"
      },
      "outputs": [
        {
          "output_type": "execute_result",
          "data": {
            "text/plain": [
              "(541909, 8)"
            ]
          },
          "metadata": {},
          "execution_count": 3
        }
      ],
      "source": [
        "df.shape"
      ]
    },
    {
      "cell_type": "code",
      "execution_count": 4,
      "metadata": {
        "colab": {
          "base_uri": "https://localhost:8080/"
        },
        "id": "A1AWsyj0385w",
        "outputId": "b57c4657-d17e-4184-c97c-c0893de5e415"
      },
      "outputs": [
        {
          "output_type": "stream",
          "name": "stdout",
          "text": [
            "<class 'pandas.core.frame.DataFrame'>\n",
            "RangeIndex: 541909 entries, 0 to 541908\n",
            "Data columns (total 8 columns):\n",
            " #   Column       Non-Null Count   Dtype  \n",
            "---  ------       --------------   -----  \n",
            " 0   InvoiceNo    541909 non-null  object \n",
            " 1   StockCode    541909 non-null  object \n",
            " 2   Description  540455 non-null  object \n",
            " 3   Quantity     541909 non-null  int64  \n",
            " 4   InvoiceDate  541909 non-null  object \n",
            " 5   UnitPrice    541909 non-null  float64\n",
            " 6   CustomerID   406829 non-null  float64\n",
            " 7   Country      541909 non-null  object \n",
            "dtypes: float64(2), int64(1), object(5)\n",
            "memory usage: 33.1+ MB\n"
          ]
        }
      ],
      "source": [
        "df.info()"
      ]
    },
    {
      "cell_type": "markdown",
      "metadata": {
        "id": "Im5F1jPG4oBo"
      },
      "source": [
        "Using the description column to find product categories"
      ]
    },
    {
      "cell_type": "code",
      "execution_count": 5,
      "metadata": {
        "colab": {
          "base_uri": "https://localhost:8080/"
        },
        "id": "MQ8KLi114It3",
        "outputId": "3477cd5f-2ac2-4dda-c7f5-13a2adf0abb2"
      },
      "outputs": [
        {
          "output_type": "execute_result",
          "data": {
            "text/plain": [
              "(541909,)"
            ]
          },
          "metadata": {},
          "execution_count": 5
        }
      ],
      "source": [
        "df[\"Description\"].shape"
      ]
    },
    {
      "cell_type": "code",
      "execution_count": 6,
      "metadata": {
        "colab": {
          "base_uri": "https://localhost:8080/"
        },
        "id": "hECbuEfH4ZI4",
        "outputId": "f40b60a3-269d-4d38-bff1-93bb74cabd43"
      },
      "outputs": [
        {
          "output_type": "execute_result",
          "data": {
            "text/plain": [
              "WHITE HANGING HEART T-LIGHT HOLDER     2369\n",
              "REGENCY CAKESTAND 3 TIER               2200\n",
              "JUMBO BAG RED RETROSPOT                2159\n",
              "PARTY BUNTING                          1727\n",
              "LUNCH BAG RED RETROSPOT                1638\n",
              "                                       ... \n",
              "Missing                                   1\n",
              "historic computer difference?....se       1\n",
              "DUSTY PINK CHRISTMAS TREE 30CM            1\n",
              "WRAP BLUE RUSSIAN FOLKART                 1\n",
              "PINK BERTIE MOBILE PHONE CHARM            1\n",
              "Name: Description, Length: 4223, dtype: int64"
            ]
          },
          "metadata": {},
          "execution_count": 6
        }
      ],
      "source": [
        "df[\"Description\"].value_counts()"
      ]
    },
    {
      "cell_type": "code",
      "execution_count": 7,
      "metadata": {
        "colab": {
          "base_uri": "https://localhost:8080/"
        },
        "id": "BXHAP1It4_QW",
        "outputId": "f8c4b3db-3e05-450c-a916-989ea1281abf"
      },
      "outputs": [
        {
          "output_type": "stream",
          "name": "stdout",
          "text": [
            "InvoiceNo           0\n",
            "StockCode           0\n",
            "Description      1454\n",
            "Quantity            0\n",
            "InvoiceDate         0\n",
            "UnitPrice           0\n",
            "CustomerID     135080\n",
            "Country             0\n",
            "dtype: int64\n"
          ]
        }
      ],
      "source": [
        "print(df.isnull().sum())"
      ]
    },
    {
      "cell_type": "markdown",
      "metadata": {
        "id": "haECBMtU5KzP"
      },
      "source": [
        "Dropping null values"
      ]
    },
    {
      "cell_type": "code",
      "execution_count": 8,
      "metadata": {
        "id": "8ZgpAkqA5Xj-"
      },
      "outputs": [],
      "source": [
        "df.dropna(inplace=True)"
      ]
    },
    {
      "cell_type": "code",
      "execution_count": 9,
      "metadata": {
        "colab": {
          "base_uri": "https://localhost:8080/"
        },
        "id": "wTQqCAN85j-q",
        "outputId": "ff639419-d8be-4a7e-ab0e-36517ca5fa32"
      },
      "outputs": [
        {
          "output_type": "execute_result",
          "data": {
            "text/plain": [
              "(406829, 8)"
            ]
          },
          "metadata": {},
          "execution_count": 9
        }
      ],
      "source": [
        "df.shape"
      ]
    },
    {
      "cell_type": "markdown",
      "metadata": {
        "id": "umIFuSSJ5pWF"
      },
      "source": [
        "To find the product categories, text values from description column are converted to numerical data using NLP"
      ]
    },
    {
      "cell_type": "code",
      "execution_count": 10,
      "metadata": {
        "colab": {
          "base_uri": "https://localhost:8080/"
        },
        "id": "H7zFgG1O6C5q",
        "outputId": "b42e9885-71df-4d69-9fa0-b8791f8580e1"
      },
      "outputs": [
        {
          "output_type": "stream",
          "name": "stdout",
          "text": [
            "(3896, 1)\n",
            "                              Description\n",
            "0      WHITE HANGING HEART T-LIGHT HOLDER\n",
            "1                     WHITE METAL LANTERN\n",
            "2          CREAM CUPID HEARTS COAT HANGER\n",
            "3     KNITTED UNION FLAG HOT WATER BOTTLE\n",
            "4          RED WOOLLY HOTTIE WHITE HEART.\n",
            "...                                   ...\n",
            "3891            LETTER \"W\" BLING KEY RING\n",
            "3892            LETTER \"Z\" BLING KEY RING\n",
            "3893       PINK CRYSTAL SKULL PHONE CHARM\n",
            "3894   CREAM HANGING HEART T-LIGHT HOLDER\n",
            "3895          PAPER CRAFT , LITTLE BIRDIE\n",
            "\n",
            "[3896 rows x 1 columns]\n"
          ]
        }
      ],
      "source": [
        "df_desc=pd.DataFrame(df[\"Description\"].unique()).rename(columns={0:\"Description\"})\n",
        "print(df_desc.shape)\n",
        "print(df_desc)"
      ]
    },
    {
      "cell_type": "markdown",
      "metadata": {
        "id": "BXR-36Ba6wmy"
      },
      "source": [
        "Replacing punctuations and other special charecters with space"
      ]
    },
    {
      "cell_type": "code",
      "execution_count": 11,
      "metadata": {
        "id": "iMgDNFB_7BTg"
      },
      "outputs": [],
      "source": [
        "df_desc[\"Description\"]=df_desc[\"Description\"].str.replace(\"[^a-zA-Z0-9]\", \" \")"
      ]
    },
    {
      "cell_type": "code",
      "execution_count": 12,
      "metadata": {
        "colab": {
          "base_uri": "https://localhost:8080/"
        },
        "id": "KaVJy8A27g_L",
        "outputId": "d10f9b71-03bb-4e0a-bdfd-3402d28afc15"
      },
      "outputs": [
        {
          "output_type": "execute_result",
          "data": {
            "text/plain": [
              "0        WHITE HANGING HEART T LIGHT HOLDER\n",
              "1                       WHITE METAL LANTERN\n",
              "2            CREAM CUPID HEARTS COAT HANGER\n",
              "3       KNITTED UNION FLAG HOT WATER BOTTLE\n",
              "4            RED WOOLLY HOTTIE WHITE HEART \n",
              "                       ...                 \n",
              "3891              LETTER  W  BLING KEY RING\n",
              "3892              LETTER  Z  BLING KEY RING\n",
              "3893         PINK CRYSTAL SKULL PHONE CHARM\n",
              "3894     CREAM HANGING HEART T LIGHT HOLDER\n",
              "3895            PAPER CRAFT   LITTLE BIRDIE\n",
              "Name: Description, Length: 3896, dtype: object"
            ]
          },
          "metadata": {},
          "execution_count": 12
        }
      ],
      "source": [
        "df_desc[\"Description\"]"
      ]
    },
    {
      "cell_type": "markdown",
      "metadata": {
        "id": "SJexzf8H7qp8"
      },
      "source": [
        "Removing short words"
      ]
    },
    {
      "cell_type": "code",
      "execution_count": 13,
      "metadata": {
        "colab": {
          "base_uri": "https://localhost:8080/"
        },
        "id": "I_rMQLbQ7vqO",
        "outputId": "7e1056c3-1e4e-4997-ca5e-dd594614559e"
      },
      "outputs": [
        {
          "output_type": "execute_result",
          "data": {
            "text/plain": [
              "0          WHITE HANGING HEART LIGHT HOLDER\n",
              "1                       WHITE METAL LANTERN\n",
              "2            CREAM CUPID HEARTS COAT HANGER\n",
              "3       KNITTED UNION FLAG HOT WATER BOTTLE\n",
              "4             RED WOOLLY HOTTIE WHITE HEART\n",
              "                       ...                 \n",
              "3891                  LETTER BLING KEY RING\n",
              "3892                  LETTER BLING KEY RING\n",
              "3893         PINK CRYSTAL SKULL PHONE CHARM\n",
              "3894       CREAM HANGING HEART LIGHT HOLDER\n",
              "3895              PAPER CRAFT LITTLE BIRDIE\n",
              "Name: Description, Length: 3896, dtype: object"
            ]
          },
          "metadata": {},
          "execution_count": 13
        }
      ],
      "source": [
        "df_desc[\"Description\"]=df_desc[\"Description\"].apply(lambda row:' '.join([word for word in row.split() if len(word)>2]))\n",
        "df_desc[\"Description\"]"
      ]
    },
    {
      "cell_type": "markdown",
      "metadata": {
        "id": "f_k4NAAf8s7P"
      },
      "source": [
        "Converting into lowercase"
      ]
    },
    {
      "cell_type": "code",
      "execution_count": 14,
      "metadata": {
        "colab": {
          "base_uri": "https://localhost:8080/"
        },
        "id": "raWouZQs8laA",
        "outputId": "2cebdb01-e69e-48fe-8215-bba039d7d6ce"
      },
      "outputs": [
        {
          "output_type": "execute_result",
          "data": {
            "text/plain": [
              "0          white hanging heart light holder\n",
              "1                       white metal lantern\n",
              "2            cream cupid hearts coat hanger\n",
              "3       knitted union flag hot water bottle\n",
              "4             red woolly hottie white heart\n",
              "                       ...                 \n",
              "3891                  letter bling key ring\n",
              "3892                  letter bling key ring\n",
              "3893         pink crystal skull phone charm\n",
              "3894       cream hanging heart light holder\n",
              "3895              paper craft little birdie\n",
              "Name: Description, Length: 3896, dtype: object"
            ]
          },
          "metadata": {},
          "execution_count": 14
        }
      ],
      "source": [
        "df_desc[\"Description\"]=[review.lower() for review in df_desc[\"Description\"]]\n",
        "df_desc[\"Description\"]"
      ]
    },
    {
      "cell_type": "markdown",
      "metadata": {
        "id": "aw1DsFKF9M8Z"
      },
      "source": [
        "Removing stop words"
      ]
    },
    {
      "cell_type": "code",
      "execution_count": 15,
      "metadata": {
        "id": "azsopxDCma9o"
      },
      "outputs": [],
      "source": [
        "from nltk import word_tokenize\n",
        "stop_words = stopwords.words('english')\n",
        "\n",
        "add_words = ['pack','set', 'small', 'large', 'jumbo', 'pink', 'blue', 'tag', 'red', 'white', 'green', 'black', 'purple']\n",
        "\n",
        "stop_words.extend(add_words)\n",
        "\n",
        "# Function to remove stop words \n",
        "def remove_stopwords(rev):\n",
        "    review_tokenized = word_tokenize(rev)\n",
        "    rev_new = \" \".join([i for i in review_tokenized  if i not in stop_words])\n",
        "    return rev_new\n",
        "\n",
        "# Removing stopwords\n",
        "df_desc[\"Description\"] = [remove_stopwords(r) for r in df_desc[\"Description\"]]"
      ]
    },
    {
      "cell_type": "code",
      "execution_count": 16,
      "metadata": {
        "colab": {
          "base_uri": "https://localhost:8080/"
        },
        "id": "cZ_iqiguAne0",
        "outputId": "da489b12-0878-4876-8281-06ee94d3385b"
      },
      "outputs": [
        {
          "output_type": "execute_result",
          "data": {
            "text/plain": [
              "array(['hanging heart light holder', 'metal lantern',\n",
              "       'cream cupid hearts coat hanger', ..., 'crystal skull phone charm',\n",
              "       'cream hanging heart light holder', 'paper craft little birdie'],\n",
              "      dtype=object)"
            ]
          },
          "metadata": {},
          "execution_count": 16
        }
      ],
      "source": [
        "df_desc['Description'].unique()"
      ]
    },
    {
      "cell_type": "code",
      "execution_count": 17,
      "metadata": {
        "colab": {
          "base_uri": "https://localhost:8080/"
        },
        "id": "up2ldqHSdSbT",
        "outputId": "bda4fc6f-58fc-45c9-b07b-fb194d50da55"
      },
      "outputs": [
        {
          "output_type": "execute_result",
          "data": {
            "text/plain": [
              "<module 'nltk' from '/usr/local/lib/python3.8/dist-packages/nltk/__init__.py'>"
            ]
          },
          "metadata": {},
          "execution_count": 17
        }
      ],
      "source": [
        "nltk "
      ]
    },
    {
      "cell_type": "code",
      "execution_count": 18,
      "metadata": {
        "colab": {
          "base_uri": "https://localhost:8080/"
        },
        "id": "jbNViz6mddL2",
        "outputId": "322d1564-8d89-42ab-c272-7408a73b7528"
      },
      "outputs": [
        {
          "output_type": "stream",
          "name": "stderr",
          "text": [
            "[nltk_data] Downloading package omw-1.4 to /root/nltk_data...\n"
          ]
        },
        {
          "output_type": "execute_result",
          "data": {
            "text/plain": [
              "True"
            ]
          },
          "metadata": {},
          "execution_count": 18
        }
      ],
      "source": [
        "import nltk\n",
        "nltk.download('omw-1.4')"
      ]
    },
    {
      "cell_type": "markdown",
      "metadata": {
        "id": "XHoIWNxKA4zn"
      },
      "source": [
        "Lemmatization"
      ]
    },
    {
      "cell_type": "code",
      "execution_count": 19,
      "metadata": {
        "colab": {
          "base_uri": "https://localhost:8080/"
        },
        "id": "LkV-xoUlA9sl",
        "outputId": "80224463-b46e-4420-e435-f0c16ef4409f"
      },
      "outputs": [
        {
          "output_type": "stream",
          "name": "stderr",
          "text": [
            "[nltk_data] Downloading package wordnet to /root/nltk_data...\n",
            "[nltk_data] Downloading package averaged_perceptron_tagger to\n",
            "[nltk_data]     /root/nltk_data...\n",
            "[nltk_data]   Package averaged_perceptron_tagger is already up-to-\n",
            "[nltk_data]       date!\n"
          ]
        }
      ],
      "source": [
        "nltk.download('wordnet')\n",
        "from nltk.stem import WordNetLemmatizer\n",
        "from nltk.corpus import wordnet\n",
        "nltk.download('averaged_perceptron_tagger')\n",
        "\n",
        "#function to convert nltk tag to wordnet tag\n",
        "lemmatizer = WordNetLemmatizer()\n",
        "\n",
        "def nltk_tag_to_wordnet_tag(nltk_tag):\n",
        "  if nltk_tag.startswith('J'):\n",
        "      return wordnet.ADJ\n",
        "  elif nltk_tag.startswith('V'):\n",
        "      return wordnet.VERB\n",
        "  elif nltk_tag.startswith('N'):\n",
        "      return wordnet.NOUN\n",
        "  elif nltk_tag.startswith('R'):\n",
        "      return wordnet.ADV\n",
        "  else:\n",
        "      return None\n",
        "\n",
        "def lemmatize_sentence(sentence):\n",
        "  nltk_tagged=nltk.pos_tag(nltk.word_tokenize(sentence))\n",
        "  wordnet_tagged = map(lambda x: (x[0],nltk_tag_to_wordnet_tag(x[1])),nltk_tagged)\n",
        "  lemmatized_sentence = []\n",
        "  for word,tag in wordnet_tagged:\n",
        "    if tag is None:\n",
        "      lemmatized_sentence.append(word)\n",
        "    else:\n",
        "      lemmatized_sentence.append(lemmatizer.lemmatize(word,tag))\n",
        "  return  \" \".join(lemmatized_sentence)\n",
        "\n",
        "df_desc['Description']=df_desc['Description'].apply(lambda x: lemmatize_sentence(x))"
      ]
    },
    {
      "cell_type": "code",
      "execution_count": 20,
      "metadata": {
        "colab": {
          "base_uri": "https://localhost:8080/"
        },
        "id": "VKCJIyOBeUL9",
        "outputId": "0b2b80d4-d862-44cd-dff2-d5557118d9e8"
      },
      "outputs": [
        {
          "output_type": "execute_result",
          "data": {
            "text/plain": [
              "0                hang heart light holder\n",
              "1                          metal lantern\n",
              "2          cream cupid heart coat hanger\n",
              "3       knit union flag hot water bottle\n",
              "4                    woolly hottie heart\n",
              "                      ...               \n",
              "3891               letter bling key ring\n",
              "3892               letter bling key ring\n",
              "3893           crystal skull phone charm\n",
              "3894       cream hang heart light holder\n",
              "3895           paper craft little birdie\n",
              "Name: Description, Length: 3896, dtype: object"
            ]
          },
          "metadata": {},
          "execution_count": 20
        }
      ],
      "source": [
        "df_desc['Description']"
      ]
    },
    {
      "cell_type": "markdown",
      "metadata": {
        "id": "k4QEF_NHeg26"
      },
      "source": [
        "Extracting words and frequency and plotting top 30 frequent words"
      ]
    },
    {
      "cell_type": "code",
      "execution_count": 21,
      "metadata": {
        "colab": {
          "base_uri": "https://localhost:8080/",
          "height": 610
        },
        "id": "i94C1CCwefrN",
        "outputId": "9457adbd-3e62-4492-df3d-d16d5e90df1b"
      },
      "outputs": [
        {
          "output_type": "display_data",
          "data": {
            "text/plain": [
              "<Figure size 1440x720 with 1 Axes>"
            ],
            "image/png": "[encoded data removed]"
          },
          "metadata": {}
        }
      ],
      "source": [
        "import matplotlib.pyplot as plt\n",
        "import seaborn as sns\n",
        "sns.set(style = 'whitegrid')\n",
        "from nltk import FreqDist\n",
        "\n",
        "all_words_products = df_desc['Description']\n",
        "\n",
        "#Extracts words into list and count frequency\n",
        "all_words = ' '.join([text for text in all_words_products])\n",
        "all_words = all_words.split()\n",
        "words_df=FreqDist(all_words)\n",
        "\n",
        "#Extracting and frequency from words_df object\n",
        "words_df = pd.DataFrame({'word':list(words_df.keys()),'count':list(words_df.values())})\n",
        "words_df\n",
        "#subsets top 30 words by frequency\n",
        "words_df = words_df.nlargest(columns='count', n=30)\n",
        "\n",
        "words_df.sort_values('count',inplace=True)\n",
        "\n",
        "#plotting 30 frequent words\n",
        "plt.figure(figsize=(20,10))\n",
        "ax = plt.barh(words_df['word'],width=words_df['count'])\n",
        "plt.title('Plotting 30 frequent words in the data')\n",
        "plt.show()"
      ]
    },
    {
      "cell_type": "markdown",
      "metadata": {
        "id": "BWPB84taJLT3"
      },
      "source": [
        "Word cloud"
      ]
    },
    {
      "cell_type": "code",
      "execution_count": 22,
      "metadata": {
        "colab": {
          "base_uri": "https://localhost:8080/",
          "height": 623
        },
        "id": "PzSfja89JKm0",
        "outputId": "c3f37c6f-3cd9-4389-8a87-a571be13de14"
      },
      "outputs": [
        {
          "output_type": "display_data",
          "data": {
            "text/plain": [
              "<Figure size 576x576 with 1 Axes>"
            ],
            "image/png": "[encoded data removed]"
          },
          "metadata": {}
        }
      ],
      "source": [
        "import wordcloud\n",
        "from wordcloud import WordCloud \n",
        "word_cloud_df=df_desc['Description']\n",
        "all_words = ' '.join([text for text in word_cloud_df])\n",
        "\n",
        "\n",
        "wordcloud=WordCloud(width = 800, height = 800,\n",
        "                    background_color= 'white',\n",
        "                    min_font_size= 10).generate(all_words)\n",
        "\n",
        "\n",
        "#plot the wordcloud image\n",
        "plt.figure(figsize = (8,8), facecolor= None )\n",
        "plt.imshow(wordcloud)\n",
        "plt.axis('off')\n",
        "plt.tight_layout(pad = 0)\n",
        "plt.title('WordCloud')\n",
        "plt.show()"
      ]
    },
    {
      "cell_type": "markdown",
      "metadata": {
        "id": "gpqpqqJ0M-tf"
      },
      "source": [
        "Bag of words model"
      ]
    },
    {
      "cell_type": "code",
      "execution_count": 23,
      "metadata": {
        "id": "LRyD1aYGNCvi"
      },
      "outputs": [],
      "source": [
        "from sklearn.feature_extraction.text import TfidfVectorizer\n",
        "from sklearn import preprocessing\n",
        "\n",
        "#Creating sparse matrix of top 2500 tokens\n",
        "tfidf = TfidfVectorizer(max_features=2500)\n",
        "data_Description = tfidf.fit_transform(df_desc['Description']).toarray()\n",
        "featureNames = tfidf.get_feature_names()\n"
      ]
    },
    {
      "cell_type": "code",
      "execution_count": 24,
      "metadata": {
        "colab": {
          "base_uri": "https://localhost:8080/"
        },
        "id": "r2LeWhyzTHTu",
        "outputId": "a5d94a48-a99c-44ec-ee45-a6be29231487"
      },
      "outputs": [
        {
          "output_type": "execute_result",
          "data": {
            "text/plain": [
              "array([[0., 0., 0., ..., 0., 0., 0.],\n",
              "       [0., 0., 0., ..., 0., 0., 0.],\n",
              "       [0., 0., 0., ..., 0., 0., 0.],\n",
              "       ...,\n",
              "       [0., 0., 0., ..., 0., 0., 0.],\n",
              "       [0., 0., 0., ..., 0., 0., 0.],\n",
              "       [0., 0., 0., ..., 0., 0., 0.]])"
            ]
          },
          "metadata": {},
          "execution_count": 24
        }
      ],
      "source": [
        "data_Description"
      ]
    },
    {
      "cell_type": "code",
      "execution_count": 25,
      "metadata": {
        "colab": {
          "base_uri": "https://localhost:8080/"
        },
        "id": "osn7FjnATOm8",
        "outputId": "a0f04166-93db-4da2-f2bd-4c6b7b0e8d64"
      },
      "outputs": [
        {
          "output_type": "execute_result",
          "data": {
            "text/plain": [
              "(3896, 1739)"
            ]
          },
          "metadata": {},
          "execution_count": 25
        }
      ],
      "source": [
        "data_Description.shape"
      ]
    },
    {
      "cell_type": "markdown",
      "metadata": {
        "id": "w6DPPBMKU8PU"
      },
      "source": [
        "Calculating Silhouette_score"
      ]
    },
    {
      "cell_type": "code",
      "execution_count": 26,
      "metadata": {
        "id": "MSxnXBoPVOhx"
      },
      "outputs": [],
      "source": [
        "from sklearn.cluster import KMeans\n",
        "from sklearn.metrics import silhouette_samples, silhouette_score"
      ]
    },
    {
      "cell_type": "code",
      "execution_count": 27,
      "metadata": {
        "colab": {
          "base_uri": "https://localhost:8080/",
          "height": 509
        },
        "id": "bu38KgrrV6DM",
        "outputId": "8861f667-ce17-42fe-f61a-48bf46b4bab4"
      },
      "outputs": [
        {
          "output_type": "stream",
          "name": "stdout",
          "text": [
            "For n_cluters = 4 The average silhouette_score is : 0.011253976736163017\n",
            "For n_cluters = 5 The average silhouette_score is : 0.012740567191809571\n",
            "For n_cluters = 6 The average silhouette_score is : 0.014509239937570657\n",
            "For n_cluters = 7 The average silhouette_score is : 0.018256750716051325\n",
            "For n_cluters = 8 The average silhouette_score is : 0.01942856674953842\n",
            "For n_cluters = 9 The average silhouette_score is : 0.02157911219005135\n",
            "For n_cluters = 10 The average silhouette_score is : 0.023260750254195293\n",
            "For n_cluters = 11 The average silhouette_score is : 0.02481007121491241\n",
            "For n_cluters = 12 The average silhouette_score is : 0.02963598124283747\n",
            "For n_cluters = 13 The average silhouette_score is : 0.02932373643764171\n",
            "For n_cluters = 14 The average silhouette_score is : 0.031200402468077128\n",
            "For n_cluters = 15 The average silhouette_score is : 0.03268364656908788\n"
          ]
        },
        {
          "output_type": "display_data",
          "data": {
            "text/plain": [
              "<Figure size 432x288 with 1 Axes>"
            ],
            "image/png": "[encoded data removed]"
          },
          "metadata": {}
        }
      ],
      "source": [
        "def findBestN(matrix):\n",
        "  silhouettescore_avg = []\n",
        "  range_n_cluters = [4,5,6,7,8,9,10,11,12,13,14,15]\n",
        "  for n in range_n_cluters:\n",
        "    kmeans = KMeans(n_clusters= n, n_init= 20, random_state=0)\n",
        "    kmeans.fit(matrix)\n",
        "    clusters = kmeans.predict(matrix)\n",
        "    cluster_labels = kmeans.labels_\n",
        "    silhouette_avg = silhouette_score(matrix,clusters)\n",
        "    print('For n_cluters =', n, 'The average silhouette_score is :', silhouette_avg)\n",
        "    silhouettescore_avg.append(silhouette_score(matrix, cluster_labels))\n",
        "  plt.plot(range_n_cluters,silhouettescore_avg,'go-')\n",
        "  plt.xlabel('Values of K')\n",
        "  plt.ylabel('Silhouette score')\n",
        "  plt.title('Silhouette score plot For Optimal k')\n",
        "  plt.show()\n",
        "findBestN(data_Description) \n"
      ]
    },
    {
      "cell_type": "markdown",
      "metadata": {
        "id": "7eFxA3VGdmpK"
      },
      "source": [
        "Elbow Plot"
      ]
    },
    {
      "cell_type": "code",
      "execution_count": 28,
      "metadata": {
        "colab": {
          "base_uri": "https://localhost:8080/",
          "height": 321
        },
        "id": "5h7W7Ke_drI-",
        "outputId": "48be8e57-174b-4692-bd03-2cb911b6a488"
      },
      "outputs": [
        {
          "output_type": "display_data",
          "data": {
            "text/plain": [
              "<Figure size 432x288 with 1 Axes>"
            ],
            "image/png": "[encoded data removed]"
          },
          "metadata": {}
        }
      ],
      "source": [
        "from sklearn import cluster\n",
        "import matplotlib.style as style\n",
        "\n",
        "range_n_cluters = [4,5,6,7,8,9,10,11,12,13,14,15]\n",
        "avg_distance=[]\n",
        "for n_clusters in range_n_cluters:\n",
        "  cluster = KMeans(n_clusters=n_clusters,random_state=0).fit(data_Description)\n",
        "  avg_distance.append(cluster.inertia_)\n",
        "\n",
        "style.use('fivethirtyeight')\n",
        "plt.plot(range_n_cluters, avg_distance)\n",
        "plt.xlabel('Number of Clusters (k)')\n",
        "plt.ylabel('Distance')\n",
        "plt.title('Elbow Plot')\n",
        "plt.show()"
      ]
    },
    {
      "cell_type": "markdown",
      "metadata": {
        "id": "abHKwUM3hMcU"
      },
      "source": [
        "From the above Silhouette_score plot and Elbow Plot, it is reasonable to assume that number of clusters=12 is a decent value for the given data "
      ]
    },
    {
      "cell_type": "markdown",
      "metadata": {
        "id": "yQzdO3Q_h78B"
      },
      "source": [
        "Performing K-Means clustering on the data to get the Product Categries"
      ]
    },
    {
      "cell_type": "code",
      "execution_count": 29,
      "metadata": {
        "colab": {
          "base_uri": "https://localhost:8080/",
          "height": 363
        },
        "id": "g8Gqz_Z7iYmk",
        "outputId": "a5913a00-01b4-4d0b-f09d-e67a7771dbce"
      },
      "outputs": [
        {
          "output_type": "execute_result",
          "data": {
            "text/plain": [
              "                        Description  cluster_group\n",
              "0           hang heart light holder              8\n",
              "1                     metal lantern              6\n",
              "2     cream cupid heart coat hanger              8\n",
              "3  knit union flag hot water bottle              1\n",
              "4               woolly hottie heart              8\n",
              "5              babushka nesting box             10\n",
              "6     glass star frost light holder              1\n",
              "7            hand warmer union jack              1\n",
              "8             hand warmer polka dot              1\n",
              "9       assort colour bird ornament              1"
            ],
            "text/html": [
              "\n",
              "  <div id=\"df-c641e049-1f53-47b4-9a4f-07304d33519d\">\n",
              "    <div class=\"colab-df-container\">\n",
              "      <div>\n",
              "<style scoped>\n",
              "    .dataframe tbody tr th:only-of-type {\n",
              "        vertical-align: middle;\n",
              "    }\n",
              "\n",
              "    .dataframe tbody tr th {\n",
              "        vertical-align: top;\n",
              "    }\n",
              "\n",
              "    .dataframe thead th {\n",
              "        text-align: right;\n",
              "    }\n",
              "</style>\n",
              "<table border=\"1\" class=\"dataframe\">\n",
              "  <thead>\n",
              "    <tr style=\"text-align: right;\">\n",
              "      <th></th>\n",
              "      <th>Description</th>\n",
              "      <th>cluster_group</th>\n",
              "    </tr>\n",
              "  </thead>\n",
              "  <tbody>\n",
              "    <tr>\n",
              "      <th>0</th>\n",
              "      <td>hang heart light holder</td>\n",
              "      <td>8</td>\n",
              "    </tr>\n",
              "    <tr>\n",
              "      <th>1</th>\n",
              "      <td>metal lantern</td>\n",
              "      <td>6</td>\n",
              "    </tr>\n",
              "    <tr>\n",
              "      <th>2</th>\n",
              "      <td>cream cupid heart coat hanger</td>\n",
              "      <td>8</td>\n",
              "    </tr>\n",
              "    <tr>\n",
              "      <th>3</th>\n",
              "      <td>knit union flag hot water bottle</td>\n",
              "      <td>1</td>\n",
              "    </tr>\n",
              "    <tr>\n",
              "      <th>4</th>\n",
              "      <td>woolly hottie heart</td>\n",
              "      <td>8</td>\n",
              "    </tr>\n",
              "    <tr>\n",
              "      <th>5</th>\n",
              "      <td>babushka nesting box</td>\n",
              "      <td>10</td>\n",
              "    </tr>\n",
              "    <tr>\n",
              "      <th>6</th>\n",
              "      <td>glass star frost light holder</td>\n",
              "      <td>1</td>\n",
              "    </tr>\n",
              "    <tr>\n",
              "      <th>7</th>\n",
              "      <td>hand warmer union jack</td>\n",
              "      <td>1</td>\n",
              "    </tr>\n",
              "    <tr>\n",
              "      <th>8</th>\n",
              "      <td>hand warmer polka dot</td>\n",
              "      <td>1</td>\n",
              "    </tr>\n",
              "    <tr>\n",
              "      <th>9</th>\n",
              "      <td>assort colour bird ornament</td>\n",
              "      <td>1</td>\n",
              "    </tr>\n",
              "  </tbody>\n",
              "</table>\n",
              "</div>\n",
              "      <button class=\"colab-df-convert\" onclick=\"convertToInteractive('df-c641e049-1f53-47b4-9a4f-07304d33519d')\"\n",
              "              title=\"Convert this dataframe to an interactive table.\"\n",
              "              style=\"display:none;\">\n",
              "        \n",
              "  <svg xmlns=\"http://www.w3.org/2000/svg\" height=\"24px\"viewBox=\"0 0 24 24\"\n",
              "       width=\"24px\">\n",
              "    <path d=\"M0 0h24v24H0V0z\" fill=\"none\"/>\n",
              "    <path d=\"M18.56 5.44l.94 2.06.94-2.06 2.06-.94-2.06-.94-.94-2.06-.94 2.06-2.06.94zm-11 1L8.5 8.5l.94-2.06 2.06-.94-2.06-.94L8.5 2.5l-.94 2.06-2.06.94zm10 10l.94 2.06.94-2.06 2.06-.94-2.06-.94-.94-2.06-.94 2.06-2.06.94z\"/><path d=\"M17.41 7.96l-1.37-1.37c-.4-.4-.92-.59-1.43-.59-.52 0-1.04.2-1.43.59L10.3 9.45l-7.72 7.72c-.78.78-.78 2.05 0 2.83L4 21.41c.39.39.9.59 1.41.59.51 0 1.02-.2 1.41-.59l7.78-7.78 2.81-2.81c.8-.78.8-2.07 0-2.86zM5.41 20L4 18.59l7.72-7.72 1.47 1.35L5.41 20z\"/>\n",
              "  </svg>\n",
              "      </button>\n",
              "      \n",
              "  <style>\n",
              "    .colab-df-container {\n",
              "      display:flex;\n",
              "      flex-wrap:wrap;\n",
              "      gap: 12px;\n",
              "    }\n",
              "\n",
              "    .colab-df-convert {\n",
              "      background-color: #E8F0FE;\n",
              "      border: none;\n",
              "      border-radius: 50%;\n",
              "      cursor: pointer;\n",
              "      display: none;\n",
              "      fill: #1967D2;\n",
              "      height: 32px;\n",
              "      padding: 0 0 0 0;\n",
              "      width: 32px;\n",
              "    }\n",
              "\n",
              "    .colab-df-convert:hover {\n",
              "      background-color: #E2EBFA;\n",
              "      box-shadow: 0px 1px 2px rgba(60, 64, 67, 0.3), 0px 1px 3px 1px rgba(60, 64, 67, 0.15);\n",
              "      fill: #174EA6;\n",
              "    }\n",
              "\n",
              "    [theme=dark] .colab-df-convert {\n",
              "      background-color: #3B4455;\n",
              "      fill: #D2E3FC;\n",
              "    }\n",
              "\n",
              "    [theme=dark] .colab-df-convert:hover {\n",
              "      background-color: #434B5C;\n",
              "      box-shadow: 0px 1px 3px 1px rgba(0, 0, 0, 0.15);\n",
              "      filter: drop-shadow(0px 1px 2px rgba(0, 0, 0, 0.3));\n",
              "      fill: #FFFFFF;\n",
              "    }\n",
              "  </style>\n",
              "\n",
              "      <script>\n",
              "        const buttonEl =\n",
              "          document.querySelector('#df-c641e049-1f53-47b4-9a4f-07304d33519d button.colab-df-convert');\n",
              "        buttonEl.style.display =\n",
              "          google.colab.kernel.accessAllowed ? 'block' : 'none';\n",
              "\n",
              "        async function convertToInteractive(key) {\n",
              "          const element = document.querySelector('#df-c641e049-1f53-47b4-9a4f-07304d33519d');\n",
              "          const dataTable =\n",
              "            await google.colab.kernel.invokeFunction('convertToInteractive',\n",
              "                                                     [key], {});\n",
              "          if (!dataTable) return;\n",
              "\n",
              "          const docLinkHtml = 'Like what you see? Visit the ' +\n",
              "            '<a target=\"_blank\" href=https://colab.research.google.com/notebooks/data_table.ipynb>data table notebook</a>'\n",
              "            + ' to learn more about interactive tables.';\n",
              "          element.innerHTML = '';\n",
              "          dataTable['output_type'] = 'display_data';\n",
              "          await google.colab.output.renderOutput(dataTable, element);\n",
              "          const docLink = document.createElement('div');\n",
              "          docLink.innerHTML = docLinkHtml;\n",
              "          element.appendChild(docLink);\n",
              "        }\n",
              "      </script>\n",
              "    </div>\n",
              "  </div>\n",
              "  "
            ]
          },
          "metadata": {},
          "execution_count": 29
        }
      ],
      "source": [
        "best_no_of_clusters = 12\n",
        "kmeans = KMeans(n_clusters = best_no_of_clusters, n_init=20, random_state=0)\n",
        "kmeans.fit(data_Description)\n",
        "km_result=kmeans.predict(data_Description)\n",
        "df_desc['cluster_group']=pd.Series(km_result)\n",
        "\n",
        "df_desc.head(10)"
      ]
    },
    {
      "cell_type": "code",
      "execution_count": 30,
      "metadata": {
        "colab": {
          "base_uri": "https://localhost:8080/"
        },
        "id": "AQeL3QY-kZZN",
        "outputId": "f2c9c360-9f34-4db9-f62f-b49f30570e1f"
      },
      "outputs": [
        {
          "output_type": "execute_result",
          "data": {
            "text/plain": [
              "array([8, 6, 8, ..., 1, 8, 1], dtype=int32)"
            ]
          },
          "metadata": {},
          "execution_count": 30
        }
      ],
      "source": [
        "kmeans.labels_"
      ]
    },
    {
      "cell_type": "markdown",
      "metadata": {
        "id": "ujyOwVpYoqll"
      },
      "source": [
        "Products present in each Product Category"
      ]
    },
    {
      "cell_type": "code",
      "execution_count": 31,
      "metadata": {
        "colab": {
          "base_uri": "https://localhost:8080/"
        },
        "id": "A0wOT6cqo1Aj",
        "outputId": "91a402bb-08f8-46a7-b722-4481df1e3f2f"
      },
      "outputs": [
        {
          "output_type": "stream",
          "name": "stdout",
          "text": [
            "|   cluster_group | Description                                                                |\n",
            "|----------------:|:---------------------------------------------------------------------------|\n",
            "|               0 | ['vintage head tail card game' 'vintage seaside jigsaw puzzle'             |\n",
            "|                 |  'mini paint vintage' 'vintage billboard drink mug'                        |\n",
            "|                 |  'vintage billboard love hate mug' 'bag vintage paisley'                   |\n",
            "|                 |  'shopper vintage paisley' 'vintage snake ladder'                          |\n",
            "|                 |  'vintage union jack cushion cover' 'plaster tin vintage paisley'          |\n",
            "|                 |  'dinner tray vintage paisley' 'airline bag vintage tokyo'                 |\n",
            "|                 |  'vintage snap card' 'boy vintage tin seaside bucket'                      |\n",
            "|                 |  'girl vintage tin seaside bucket' 'vintage paisley stationery'            |\n",
            "|                 |  'vintage union jack bunt' 'airline bag vintage jet'                       |\n",
            "|                 |  'airline bag vintage world champion' 'vintage pistachio cutlery'          |\n",
            "|                 |  'modern vintage cotton napkin' 'vintage union jack apron'                 |\n",
            "|                 |  'vintage glass coffee caddy' 'biscuit tin vintage'                        |\n",
            "|                 |  'cosmetic bag vintage rise paisley' 'overnight bag vintage rise paisley'  |\n",
            "|                 |  'magnet vintage collage' 'square floor cushion vintage'                   |\n",
            "|                 |  'tin vintage bathroom' 'vintage cream basket cake stand'                  |\n",
            "|                 |  'vintage billboard tea mug' 'vintage billboard mug'                       |\n",
            "|                 |  'round cake tin vintage' 'airline bag vintage jet brown'                  |\n",
            "|                 |  'vintage post office cabinet' 'vintage union jack memoboard'              |\n",
            "|                 |  'vintage kid dolly card' 'vintage tinsel reel'                            |\n",
            "|                 |  'weekend bag vintage rise paisley' 'paper bunt vintage paisley'           |\n",
            "|                 |  'vintage kitchen cabinet' 'wash bag vintage rise paisley'                 |\n",
            "|                 |  'cabin bag vintage paisley' 'vintage cream cat food container'            |\n",
            "|                 |  'vintage caravan greet card' 'vintage paisley picnic bag'                 |\n",
            "|                 |  'vintage cream dog food container' 'vintage photo album paris day'        |\n",
            "|                 |  'vintage rise bead bracelet' 'modern vintage cotton shopping bag'         |\n",
            "|                 |  'cat bowl vintage cream' 'vintage union jack pennant'                     |\n",
            "|                 |  'magnet vintage label' 'vintage bead notebook'                            |\n",
            "|                 |  'vintage union jack doorstop' 'vintage rise cutlery'                      |\n",
            "|                 |  'vintage notelets kit' 'vintage postcard' 'vintage caravan gift wrap'     |\n",
            "|                 |  'vintage sky cutlery' 'vintage notebook paris day'                        |\n",
            "|                 |  'vintage bead even bag' 'vintage cutlery' 'vintage notebook beauty girl'  |\n",
            "|                 |  'vintage mug' 'vintage kitchen print seafood' 'triangular pouffe vintage' |\n",
            "|                 |  'vintage bead purse' 'paperweight vintage collage'                        |\n",
            "|                 |  'dog bowl vintage cream' 'vintage victorian earring'                      |\n",
            "|                 |  'vintage union jack shopping bag' 'number tile vintage font'              |\n",
            "|                 |  'vintage bead scarf' 'vintage decorative parasol'                         |\n",
            "|                 |  'apron modern vintage cotton' 'paperweight vintage paisley'               |\n",
            "|                 |  'vintage kitchen print fruit' 'mobile vintage heart'                      |\n",
            "|                 |  'vintage rise bead bracelet raspberr' 'vintage teatime mug'               |\n",
            "|                 |  'vintage glass tea caddy' 'vintage gold tinsel reel'                      |\n",
            "|                 |  'vintage wooden bar stool' 'vintage kitchen print pudding'                |\n",
            "|                 |  'vintage kitchen print vegetable' 'paper vintage chick paper egg'         |\n",
            "|                 |  'vintage enamel crystal earring' 'vintage bead shade'                     |\n",
            "|                 |  'vintage notebook travelogue' 'vintage shell print'                       |\n",
            "|                 |  'vintage crystal earring' 'travel card wallet vintage rise'               |\n",
            "|                 |  'travel card wallet vintage ticket' 'vintage crystal bracelet'            |\n",
            "|                 |  'vintage ivory cutlery' 'vintage bead cosmetic bag'                       |\n",
            "|                 |  'charlotte bag vintage alphabet' 'vintage emboss heart'                   |\n",
            "|                 |  'bag vintage leaf' 'vintage engrave heart' 'vintage glass light holder'   |\n",
            "|                 |  'vintage earring' 'vintage leaf cake case' 'storage tin vintage leaf'     |\n",
            "|                 |  'round storage tin vintage leaf' 'vintage enamel trim jug'                |\n",
            "|                 |  'vintage spot beaker' 'vintage enamel crystal necklace'                   |\n",
            "|                 |  'vintage meter fold ruler' 'biscuit tin vintage leaf'                     |\n",
            "|                 |  'vintage enamel trim mug' 'vintage enamel trim plate'                     |\n",
            "|                 |  'vintage trim enamel bowl' 'vintage donkey tail game'                     |\n",
            "|                 |  'drawer knob vintage glass star' 'drawer knob vintage glass hexagon'      |\n",
            "|                 |  'drawer knob vintage glass ball' 'travel card wallet vintage leaf'        |\n",
            "|                 |  'vintage leaf magnetic notepad' 'doormat vintage leaf'                    |\n",
            "|                 |  'vintage bead jewel stand' 'light vintage doiley'                         |\n",
            "|                 |  'roll wrap vintage spot' 'bag vintage doiley' 'wrap vintage doiley'       |\n",
            "|                 |  'bag vintage doily' 'lunch bag vintage doily' 'candle vintage doily'      |\n",
            "|                 |  'storage tin vintage doily' 'midnight vintage earring'                    |\n",
            "|                 |  'lunch bag vintage doiley' 'wrap vintage doily'                           |\n",
            "|                 |  'storage tin vintage doiley' 'light vintage doily' 'vintage leaf tissue'  |\n",
            "|                 |  'vintage doily tissue' 'play card vintage doiley'                         |\n",
            "|                 |  'vintage doily travel sew kit' 'play card vintage doily'                  |\n",
            "|                 |  'vintage doily deluxe sew kit' 'vintage leaf chop board'                  |\n",
            "|                 |  'vintage metre fold ruler' 'vintage zinc watering' 'vintage zinc planter' |\n",
            "|                 |  'garland vintage bell' 'vintage jingle bell wreath' 'vintage doily chalk' |\n",
            "|                 |  'vintage bell garland' 'vintage doily bag' 'paper bunt vintage party'     |\n",
            "|                 |  'snack tray vintage doily']                                               |\n",
            "|               1 | ['knit union flag hot water bottle' 'glass star frost light holder'        |\n",
            "|                 |  'hand warmer union jack' ... 'ribbon party' 'crystal skull phone charm'   |\n",
            "|                 |  'paper craft little birdie']                                              |\n",
            "|               2 | ['balloon art make flower' 'diner wall clock' 'ivory diner wall clock'     |\n",
            "|                 |  'sweetheart wire wall tidy' 'mirror wall art foxy' 'mirror wall art gent' |\n",
            "|                 |  'cream sweetheart wall cabinet' 'mirror wall art skull'                   |\n",
            "|                 |  'mirror wall art star' 'palmiera wall thermometer' 'folk art greet card'  |\n",
            "|                 |  'skull wall sticker' 'savoy art deco clock' 'chrysanthemum art flower'    |\n",
            "|                 |  'mirror wall art photo frame' 'psychedelic wall thermometer'              |\n",
            "|                 |  'wrap folk art' 'oval wall mirror diamante' 'wall tidy office'            |\n",
            "|                 |  'wall tidy flower' 'wall mirror rectangle diamante'                       |\n",
            "|                 |  'kitchen flower pot wall plaque' 'fruit tree bird wall plaque'            |\n",
            "|                 |  'stitch wall clock' 'baroque wall clock' 'rise art flower'                |\n",
            "|                 |  'medium rise art flower' 'mirror wall art table lamp'                     |\n",
            "|                 |  'mirror wall art lady' 'hydrangea art flower' 'mirror wall art poppy'     |\n",
            "|                 |  'cream climb hydranga art flower' 'grass hopper wooden wall clock'        |\n",
            "|                 |  'mirror dove wall decoration' 'mirror wall art splodge'                   |\n",
            "|                 |  'bull dog bottle top wall clock' 'parlour ceramic wall hook'              |\n",
            "|                 |  'mirror wall art snowflake' 'mint diner wall clock'                       |\n",
            "|                 |  'climb hydranga art flower' 'horse pony wall art'                         |\n",
            "|                 |  'bicycle saftey wall art' 'stop tea wall art' 'wall art classic pudding'  |\n",
            "|                 |  'wall art love secret' 'dog ball wall art' 'dog licence wall art'         |\n",
            "|                 |  'wall art garden' 'alphabet wall art' 'spaceboy wall art'                 |\n",
            "|                 |  'keep calm wall art' 'wall art one person' 'wall art vintage heart'       |\n",
            "|                 |  'cat bird wall art' 'treasure ahoy wall art' 'wall art big love'          |\n",
            "|                 |  'animal nature wall art' 'dolly girl wall art' 'village show wall art'    |\n",
            "|                 |  'wall art mid century modern' 'wall art work rest play'                   |\n",
            "|                 |  'buffalo bill wall art' 'wall art magic forest' 'love london wall art'    |\n",
            "|                 |  'wall art keep calm' 'wall art bicycle saftey' 'wall art buffalo bill'    |\n",
            "|                 |  'wall art village show' 'wall art stop tea' 'wall art dog licence'        |\n",
            "|                 |  'wall art love london' 'wall art alphabet' 'wall art horse pony'          |\n",
            "|                 |  'wall art animal nature' 'wall art bicycle safety' 'wall art spaceboy'    |\n",
            "|                 |  'wall art dolly girl' 'wall art dog ball' 'wall art cat bird'             |\n",
            "|                 |  'wall art pudding' 'wall art treasure ahoy' 'sweetheart wall tidy'        |\n",
            "|                 |  'rococo wall mirror' 'botanical garden wall clock' 'rococo wall miror'    |\n",
            "|                 |  'ivory retro kitchen wall clock' 'retro kitchen wall clock']              |\n",
            "|               3 | ['letter bling key ring' 'bling key ring stand']                           |\n",
            "|               4 | ['retrospot tea towel' 'piece retrospot cutlery' 'lunch bag retrospot'     |\n",
            "|                 |  'lunch box cutlery retrospot' 'retrospot cake case'                       |\n",
            "|                 |  'retrospot tea ceramic' 'piggy bank retrospot'                            |\n",
            "|                 |  'paper chain kit retrospot' 'retrospot milk jug' 'recycle bag retrospot'  |\n",
            "|                 |  'bag retrospot' 'retrospot umbrella' 'retrospot paper napkin'             |\n",
            "|                 |  'retrospot heart hot water bottle' 'retrospot tissue' 'retrospot lamp'    |\n",
            "|                 |  'hand warmer retrospot' 'clothes peg retrospot' 'retrospot mug'           |\n",
            "|                 |  'retrospot cigar box match' 'retrospot lid glass bowl'                    |\n",
            "|                 |  'doormat retrospot' 'retrospot paper doily' 'retrospot plate'             |\n",
            "|                 |  'retrospot tape' 'retrospot mini case' 'bird decoration retrospot'        |\n",
            "|                 |  'doorstop retrospot heart' 'retrospot babushka doorstop'                  |\n",
            "|                 |  'retrospot oven glove' 'retrospot childrens apron' 'cook retrospot'       |\n",
            "|                 |  'retrospot party bag sticker' 'retrospot tube match'                      |\n",
            "|                 |  'pencil tube retrospot' 'retrospot giant tube match'                      |\n",
            "|                 |  'retrospot wash glove' 'retrospot oven glove double' 'retrospot wrap'     |\n",
            "|                 |  'retrospot tissue box' 'recipe box retrospot' 'dolly peg retrospot'       |\n",
            "|                 |  'retrospot cake stand' 'christmas retrospot angel wood'                   |\n",
            "|                 |  'christmas retrospot star wood' 'wall tidy retrospot' 'retrospot cup'     |\n",
            "|                 |  'retrospot childrens umbrella' 'retrospot apron'                          |\n",
            "|                 |  'christmas retrospot heart wood' 'retrospot round cake tin'               |\n",
            "|                 |  'retrospot bowl' 'paper bunting retrospot' 'retrospot mug box'            |\n",
            "|                 |  'retrospot tea coffee sugar' 'pencil tall tube retrospot'                 |\n",
            "|                 |  'retrospot pudding bowl' 'retrospot traditional teapot'                   |\n",
            "|                 |  'party pizza dish retrospot' 'retrospot peg bag'                          |\n",
            "|                 |  'retrospot charlotte bag' 'retrospot shopper bag' 'retrospot butter dish' |\n",
            "|                 |  'retrospot purse' 'retrospot sugar jam bowl' 'retrospot shopping bag'     |\n",
            "|                 |  'retrospot washbag' 'cabin bag vintage retrospot'                         |\n",
            "|                 |  'retrospot tea cup saucer' 'retrospot luggage' 'retrospot picnic bag'     |\n",
            "|                 |  'sew box retrospot design' 'tea bag plate retrospot'                      |\n",
            "|                 |  'rain poncho retrospot' 'retrospot pad seat cushion' 'fry pan retrospot'  |\n",
            "|                 |  'retrospot storage jar' 'milk pan retrospot' 'round container retrospot'  |\n",
            "|                 |  'retrospot windmill' 'retrospot big bowl' 'bake piece retrospot'          |\n",
            "|                 |  'retrospot candle' 'picnic box retrospot' 'bottle bag retrospot'          |\n",
            "|                 |  'retrospot candle medium' 'retrospot wooden heart decoration'             |\n",
            "|                 |  'travel card wallet retrospot' 'childrens cutlery retrospot']             |\n",
            "|               5 | ['bag polkadot' 'piece polkadot cutlery' 'toy tidy polkadot'               |\n",
            "|                 |  'polkadot umbrella' 'polkadot rain hat' 'polkadot party candle'           |\n",
            "|                 |  'lunch bag polkadot' 'polkadot plate' 'fold umbrella pinkwhite polkadot'  |\n",
            "|                 |  'fold umbrella cream polkadot' 'fold umbrella polkadot' 'polkadot tissue' |\n",
            "|                 |  'office mug warmer polkadot' 'ivory polkadot party candle' 'polkadot pen' |\n",
            "|                 |  'polkadot mug' 'polkadot coffee mug' 'fold umbrella chocolate polkadot'   |\n",
            "|                 |  'polkadot bowl' 'milk pan polkadot' 'polkadot cup'                        |\n",
            "|                 |  'charlotte bag polkadot' 'polkadot wrap' 'polkadot pudding bowl'          |\n",
            "|                 |  'polkadot wash glove' 'polkadot passport cover'                           |\n",
            "|                 |  'polkadot childrens umbrella' 'polkadot purse' 'polkadot luggage'         |\n",
            "|                 |  'fry pan polkadot' 'tea one polkadot' 'party pizza dish polkadot'         |\n",
            "|                 |  'polkadot chocolate gift bag' 'cubic mug polkadot' 'polkadot egg cup'     |\n",
            "|                 |  'polkadot kid bag' 'polkadot garden parasol' 'polkadot placemats'         |\n",
            "|                 |  'fold umbrella blackblue polkadot' 'polkadot coffee cup saucer'           |\n",
            "|                 |  'polkadot stacking tin' 'polkadot beaker' 'polkadot coaster'              |\n",
            "|                 |  'bird decoration polkadot' 'childrens cutlery polkadot'                   |\n",
            "|                 |  'big polkadot mug' 'multicolour polkadot plate']                          |\n",
            "|               6 | ['metal lantern' 'airline lounge metal sign' 'confuse metal sign'          |\n",
            "|                 |  'cook wine metal sign' 'gin tonic diet metal sign'                        |\n",
            "|                 |  'ivory giant garden thermometer' 'classic metal birdcage plant holder'    |\n",
            "|                 |  'hand chocolate sign' 'lady gentlemen metal sign'                         |\n",
            "|                 |  'metal sign dinner serve' 'bathroom metal sign' 'kitchen metal sign'      |\n",
            "|                 |  'toilet metal sign' 'metal sign take leave' 'holiday metal sign'          |\n",
            "|                 |  'hang metal star lantern' 'paint metal star holly bell'                   |\n",
            "|                 |  'metal beach spade' 'metal sign empire tea' 'french sign metal'           |\n",
            "|                 |  'giant garden thermometer' 'washroom metal sign' 'garden path journal'    |\n",
            "|                 |  'victorian metal postcard spring' 'metal hook hanger french chateau'      |\n",
            "|                 |  'hook hanger magic garden' 'wooden rounder garden'                        |\n",
            "|                 |  'wood garden plant ladder' 'junk mail metal sign' 'sing metal sign'       |\n",
            "|                 |  'french metal door sign' 'cardholder holly wreath metal'                  |\n",
            "|                 |  'number tile cottage garden' 'please one person metal sign'               |\n",
            "|                 |  'paint metal pear assort' 'child garden brush' 'childrens garden glove'   |\n",
            "|                 |  'party metal sign' 'charlie lola room door sign'                          |\n",
            "|                 |  'french bathroom sign metal' 'yellow giant garden thermometer'            |\n",
            "|                 |  'water garden marker' 'area patrol metal sign' 'child garden spade'       |\n",
            "|                 |  'garden metal sign' 'garden path pocket book'                             |\n",
            "|                 |  'gaoler key decorative garden' 'garden path sketchbook'                   |\n",
            "|                 |  'laundry 15c metal sign' 'chocolate way metal sign' 'hot bath metal sign' |\n",
            "|                 |  'potter shed metal sign' 'wooden croquet garden' 'floral garden tool bag' |\n",
            "|                 |  'english rise garden secateurs' 'butter metal sign'                       |\n",
            "|                 |  'home sweet home metal sign' 'metal decoration naughty child'             |\n",
            "|                 |  'garland magic garden' 'folk art metal star light holder'                 |\n",
            "|                 |  'beware cat metal sign' 'french laundry sign metal'                       |\n",
            "|                 |  'wake cockerel calendar sign' 'cast iron hook garden fork'                |\n",
            "|                 |  'cast iron hook garden trowel' 'daisy garden marker'                      |\n",
            "|                 |  'birdhouse garden marker' 'medina stamp metal bowl'                       |\n",
            "|                 |  'french toilet sign metal' 'metal sign neighbourhood witch'               |\n",
            "|                 |  'medium medina stamp metal bowl' 'metal sign cupcake single hook'         |\n",
            "|                 |  'man flu metal sign' 'house wreck metal sign'                             |\n",
            "|                 |  'birdhouse decoration magic garden' 'way metal sign'                      |\n",
            "|                 |  'wooden skittle garden' 'french garden sign metal'                        |\n",
            "|                 |  'medina stamp metal stool' 'child garden rake' 'child garden fork'        |\n",
            "|                 |  'child garden trowel' 'assort colour metal cat'                           |\n",
            "|                 |  'cake stand tier magic garden' 'metal tube chime bamboo'                  |\n",
            "|                 |  'garden path notebook' 'tier sweetheart garden shelf'                     |\n",
            "|                 |  'love seat antique metal' 'easter tin chick garden'                       |\n",
            "|                 |  'old doc russel metal sign' 'french kitchen sign metal'                   |\n",
            "|                 |  'moroccan beaten metal dish' 'mini paint garden decoration'               |\n",
            "|                 |  'decoration chick magic garden' 'decoration wobbly rabbit metal'          |\n",
            "|                 |  'magic garden felt garland' 'english rise metal waste bin'                |\n",
            "|                 |  'hang metal rabbit decoration' 'decoration butterfly magic garden'        |\n",
            "|                 |  'bunny decoration magic garden' 'lighthouse print metal sign'             |\n",
            "|                 |  'moroccan beaten metal mirror' 'decoration wobbly chicken metal'          |\n",
            "|                 |  '50cm metal string clip' 'metal swing bunny'                              |\n",
            "|                 |  'mini zinc garden decoration' 'metal rabbit ladder easter'                |\n",
            "|                 |  'paint sea shell metal windchime' 'square metal candleholder base'        |\n",
            "|                 |  'giant medina stamp metal bowl' 'hang metal chicken decoration'           |\n",
            "|                 |  'toilet sign occupy vacant' 'open close metal sign'                       |\n",
            "|                 |  'zinc herb garden container' 'metal herb gerden container'                |\n",
            "|                 |  'ivory gold metal bag charm' 'metal bag charm'                            |\n",
            "|                 |  'psychedelic metal sign calendar' 'wrap bird garden'                      |\n",
            "|                 |  'metal sign drop pant' 'vegetable garden chop board'                      |\n",
            "|                 |  'landmark frame covent garden' 'moroccan metal lantern']                  |\n",
            "|               7 | ['zinc willie winkie candle stick' 'homemade jam scent candle'             |\n",
            "|                 |  'new baroque candlestick candle' 'new baroquecandlestick candle'          |\n",
            "|                 |  'football celebration candle' 'girl celebration candle'                   |\n",
            "|                 |  'vanilla scent candle jewel box' 'love bird candle'                       |\n",
            "|                 |  'hyacinth bulb light candle' 'ivory dinner candle silver flock'           |\n",
            "|                 |  'chocolate wick morris box candle' 'flock dinner candle' 'taper candle'   |\n",
            "|                 |  'silver plate candle bowl' 'fairy cake birthday candle' 'cactus candle'   |\n",
            "|                 |  'vanilla scent candle box' 'rise botanical candle'                        |\n",
            "|                 |  'rise wick morris box candle' 'rise scent candle jewel drawer'            |\n",
            "|                 |  'gardenia morris box candle' 'garden rise dinner candle'                  |\n",
            "|                 |  'flute antique candle holder' 'cactus light candle'                       |\n",
            "|                 |  'scent candle digitalis tin' 'columbian candle round'                     |\n",
            "|                 |  'columbian candle rectangle' 'rise dinner candle' 'sky dinner candle'     |\n",
            "|                 |  'citronella candle garden pot' 'ivory pillar candle silver flock'         |\n",
            "|                 |  'feng shui pillar candle' 'cinnamon scent votive candle'                  |\n",
            "|                 |  'jasmine votive candle' 'rise scent candle jewel box'                     |\n",
            "|                 |  'ocean scent candle jewel box' 'scent velvet lounge candle'               |\n",
            "|                 |  'gardenia wick morris box candle' 'rise morris boxed candle'              |\n",
            "|                 |  'baroque flock candle holder' 'fork cactus candle'                        |\n",
            "|                 |  'choc morris box candle' 'dinner candle silver flock'                     |\n",
            "|                 |  'ivory pillar candle gold flock' 'silver flower candle pot'               |\n",
            "|                 |  'pear botanical dinner candle' 'bird light candle'                        |\n",
            "|                 |  'wire spiral candle holder' 'citronella candle flowerpot'                 |\n",
            "|                 |  'rise candle jewel box' 'burgundy wine dinner candle'                     |\n",
            "|                 |  'coffee scent pillar candle' 'silver lattice vanilla candle pot'          |\n",
            "|                 |  'wildflower botanical candle' 'ivory love bird candle'                    |\n",
            "|                 |  'lily botanical dinner candle' 'cupid design scent candle'                |\n",
            "|                 |  'silver vanilla flower candle pot' 'ivory bird light candle'              |\n",
            "|                 |  'mini rise candle bowl' 'hang bead candle holder'                         |\n",
            "|                 |  'ivory sculpt rnd candle' 'columbian cube candle' 'orange votive candle'  |\n",
            "|                 |  'metal base candle' 'box pebble candle' 'tall glass candle holder'        |\n",
            "|                 |  'lavender botanical dinner candle' 'ivory mini rise candle bowl'          |\n",
            "|                 |  'flower candle bowl' 'origami rise incense candle'                        |\n",
            "|                 |  'origami jasmine incense candle' 'origami opium incense candle'           |\n",
            "|                 |  'tall rococo candle holder' 'strawbry scent votive candle'                |\n",
            "|                 |  'mirror mosaic goblet candle holder' 'wire stand candle holder'           |\n",
            "|                 |  'silouette candle plate' 'vanilla botanical candle' 'candle plate lace'   |\n",
            "|                 |  'silver rococo candle stick' 'frog prince light candle'                   |\n",
            "|                 |  'pot plant candle' 'origami vanilla incense candle'                       |\n",
            "|                 |  'eau nil love bird candle' 'frog candle' 'opium scent votive candle'      |\n",
            "|                 |  'lavender scent cake candle' 'flower candle plate'                        |\n",
            "|                 |  'wick christmas briar candle' 'yellow pot plant candle'                   |\n",
            "|                 |  'pillar candle silver flock' 'glass sphere candle stand medium'           |\n",
            "|                 |  'cupid scent candle glass' 'stone wire candle' 'pot shed rise candle'     |\n",
            "|                 |  'best dad candle letter' 'single flame candle holder'                     |\n",
            "|                 |  'pot shed candle citronella' 'mirror mosaic candle plate'                 |\n",
            "|                 |  'lilac votive candle' 'christmas table candle silver spike'               |\n",
            "|                 |  'clear glass candle plate' 'candle holder silver madeline'                |\n",
            "|                 |  'christmas table silver candle spike' 'ceramic candle holder'             |\n",
            "|                 |  'yellow ceramic candle holder' 'candle vintage doiley' 'fork candle'      |\n",
            "|                 |  'round cactus candle' 'sil squ candle plate'                              |\n",
            "|                 |  'rise flower candle incense 16x16cm']                                     |\n",
            "|               8 | ['hang heart light holder' 'cream cupid heart coat hanger'                 |\n",
            "|                 |  'woolly hottie heart' 'heart flower hook' 'hang metal heart lantern'      |\n",
            "|                 |  'natural slate heart chalkboard' 'heart wicker' 'cream heart card holder' |\n",
            "|                 |  'gingham heart doorstop' 'five heart hanging decoration'                  |\n",
            "|                 |  'heart measure spoon' 'hang heart zinc light holder' 'heart card holder'  |\n",
            "|                 |  'glass heart trinket pot' 'heart shape balloon'                           |\n",
            "|                 |  'jazz heart purse notebook' 'candleholder hang heart'                     |\n",
            "|                 |  'heart ivory trellis' 'party invite jazz heart' 'heart cookie cutter'     |\n",
            "|                 |  'single heart zinc light holder' 'doormat heart' 'heart luggage'          |\n",
            "|                 |  'paint metal heart holly bell' 'feltcraft butterfly heart'                |\n",
            "|                 |  'grey heart hot water bottle' 'ceramic heart fairy cake money bank'       |\n",
            "|                 |  'heart filigree dove' 'zinc metal heart decoration' 'heart light holder'  |\n",
            "|                 |  'foil heart cake case' 'heart paper garland'                              |\n",
            "|                 |  'crazy daisy heart decoration' 'card holder gingham heart'                |\n",
            "|                 |  'heart dot hot water bottle' 'place set heart'                            |\n",
            "|                 |  'hang heart mirror decoration' 'heart shape egg fry pan'                  |\n",
            "|                 |  'chest drawer gingham heart' 'antique glass heart decoration'             |\n",
            "|                 |  'ant wire heart spiral' 'napkin charm heart' 'fine wicker heart'          |\n",
            "|                 |  'chocolate love heart light' 'ladle love heart' 'love heart sock hanger'  |\n",
            "|                 |  'glass heart light holder' 'food container love heart'                    |\n",
            "|                 |  'filigris heart butterfly' 'heart decoration paint zinc'                  |\n",
            "|                 |  'cream wall planter heart shape' 'jewelled heart decoration'              |\n",
            "|                 |  'ivory hang decoration heart' 'flock love heart photo frame'              |\n",
            "|                 |  'heart shape love bucket' 'heart shape photo frame'                       |\n",
            "|                 |  'love heart pocket warmer' 'ivy heart wreath' 'cake stand hang heart'     |\n",
            "|                 |  'glitter heart garland bell' 'heart garland rustic pad'                   |\n",
            "|                 |  'lavender scent fabric heart' 'heart decoration rustic hanging'           |\n",
            "|                 |  'heart hang decoration rustic' 'bead pearl heart stick' 'heart wrap tape' |\n",
            "|                 |  'heart sticker' 'love heart shape cup' 'bead pearl heart'                 |\n",
            "|                 |  'bead crystal heart' 'patch purse heart' 'scandinavian heart napkin ring' |\n",
            "|                 |  'heart paper doily' 'heart chopstick' 'multi heart sticker'               |\n",
            "|                 |  'heart decoration pearl' 'bead love heart jewellery'                      |\n",
            "|                 |  'folkart heart napkin ring' 'gingham oven glove heart'                    |\n",
            "|                 |  'hang heart jar light holder' 'heart ice cream patch'                     |\n",
            "|                 |  'alphabet heart sticker sheet' 'french style emboss heart cabinet'        |\n",
            "|                 |  'heart calculator' 'rise folkart heart decoration'                        |\n",
            "|                 |  'heart shape wireless doorbell' 'round heart mirror' 'heart shape mirror' |\n",
            "|                 |  'garland heart bell' 'bake mould heart milk chocolate'                    |\n",
            "|                 |  'bake mould heart chocolate' 'jazz heart address book'                    |\n",
            "|                 |  'folk art metal heart light holder' 'heart string memo holder hang'       |\n",
            "|                 |  'heart compact mirror' 'heart gift tape' 'yellow metal chicken heart'     |\n",
            "|                 |  'candy spot heart decoration' 'crystal pair heart hair slide'             |\n",
            "|                 |  'midnight pair heart hair slide' 'rise colour pair heart hair slide'      |\n",
            "|                 |  'ivory shell heart necklace' 'zinc heart lattice light holder'            |\n",
            "|                 |  'zinc heart lattice charger' 'hang heart basket'                          |\n",
            "|                 |  'heart honeycomb paper garland' 'ceramic love heart money bank'           |\n",
            "|                 |  'heart light chain' 'heart confetti tube' 'french lavender scent heart'   |\n",
            "|                 |  'love heart trinket pot' 'metal chicken heart' 'purse heart'              |\n",
            "|                 |  'mini ladle love heart' 'daisy folkart heart decoration'                  |\n",
            "|                 |  'eau nile heart shape photo frame' 'turquoise heart glass bracelet'       |\n",
            "|                 |  'heart glass bracelet' 'heart handbag' 'bead crystal heart stick'         |\n",
            "|                 |  'zinc heart lattice wall planter' 'diamante heart shape wall mirror'      |\n",
            "|                 |  'glass bracelet heart charm' 'hang wood felt heart'                       |\n",
            "|                 |  'zinc heart lattice tray oval' 'candy heart hang decoration'              |\n",
            "|                 |  'glitter heart decoration' 'gingham heart decoration'                     |\n",
            "|                 |  'musical zinc heart decoration' 'hang heart bell'                         |\n",
            "|                 |  'felt hang heart flower' 'yellow felt hang heart flower'                  |\n",
            "|                 |  'heart bead trellis decoration' 'aluminium stamp heart'                   |\n",
            "|                 |  'cat biscuit barrel heart' 'triple wire hook ivory heart'                 |\n",
            "|                 |  'triple wire hook heart' 'zinc heart wall organiser'                      |\n",
            "|                 |  'ivory heart wall organiser' 'single wire hook heart'                     |\n",
            "|                 |  'single wire hook ivory heart' 'mistletoe heart wreath cream'             |\n",
            "|                 |  'hang engrave metal heart' 'mistletoe heart wreath'                       |\n",
            "|                 |  'edwardian heart photo frame' 'ivory shell heart earring'                 |\n",
            "|                 |  'silver heart table decoration' 'paper table lantern heart'               |\n",
            "|                 |  'parisienne heart photo frame' 'bell heart decoration' 'aluminium heart'  |\n",
            "|                 |  'miseltoe heart wreath' 'jingle bell heart decoration'                    |\n",
            "|                 |  'zinc heart plant pot holder' 'heart wire plant pot holder'               |\n",
            "|                 |  'zinc heart light holder' 'zinc heart flower light holder'                |\n",
            "|                 |  'english rise scented hanging heart' 'heart shape holly wreath'           |\n",
            "|                 |  'filigree heart bird' 'filigree heart butterfly' 'filigree heart daisy'   |\n",
            "|                 |  'jingle bell heart antique gold' 'jingle bell heart antique silver'       |\n",
            "|                 |  'heart wreath decoration bell' 'cherub heart decoration gold'             |\n",
            "|                 |  'reindeer heart decoration silver' 'laurel heart antique gold'            |\n",
            "|                 |  'laurel heart antique silver' 'cherub heart decoration silver'            |\n",
            "|                 |  'wooden heart decoration' 'ceramic paint heart'                           |\n",
            "|                 |  'heart light holder willie winkie' 'reindeer heart decoration gold'       |\n",
            "|                 |  'light holder silver heart handle' 'bell heart antique gold'              |\n",
            "|                 |  'heart shape petit four case' 'miseltoe heart wreath cream'               |\n",
            "|                 |  'ivory wicker heart' 'decorative wicker heart'                            |\n",
            "|                 |  'decorative wicker heart medium' 'ivory wicker heart medium'              |\n",
            "|                 |  'cat heart blank card' 'pair heart hair slide' 'hand warmer love heart'   |\n",
            "|                 |  'natural hanging quilt heart' 'pretty hang quilt heart'                   |\n",
            "|                 |  'home sweet home hang heart' 'hang heart bonheur' 'heart mirror antique'  |\n",
            "|                 |  'rustic mirror lace heart' 'paint heart wreath bell'                      |\n",
            "|                 |  'heart trellistriple light holder' 'heart trellis triple light holder'    |\n",
            "|                 |  'sweet heart cake carrier' 'heart mini portrait frame'                    |\n",
            "|                 |  'pearlised ivory heart' 'vintage jingle bell heart' 'woodland felt heart' |\n",
            "|                 |  'antique heart shelf unit' 'cream hang heart light holder']               |\n",
            "|               9 | ['charlotte bag dolly girl design' 'bag dolly girl design'                 |\n",
            "|                 |  'lunch bag dolly girl design' 'hand warmer scotty dog design'             |\n",
            "|                 |  'hand warmer owl design' 'dog bowl chase ball design'                     |\n",
            "|                 |  'hand warmer bird design' 'napkin fairy cake design'                      |\n",
            "|                 |  'lunch bag spaceboy design' 'lunch bag suki design'                       |\n",
            "|                 |  'toy tidy dolly girl design' 'childrens apron spaceboy design'            |\n",
            "|                 |  'cake case dolly girl design' 'hand warmer babushka design'               |\n",
            "|                 |  'ceramic strawberry design mug' 'tea towel classic design'                |\n",
            "|                 |  'heart design tissue' 'mini funky design tape'                            |\n",
            "|                 |  'ribbon reel stripe design' 'calendar paper cut design'                   |\n",
            "|                 |  'calendar season design' 'napkin pantry design'                           |\n",
            "|                 |  'recipe box pantry yellow design' 'recipe box sketchbook design'          |\n",
            "|                 |  'charlotte bag suki design' 'lolita design cotton tote bag'               |\n",
            "|                 |  'camouflage design teddy' 'ceramic cake design spot mug'                  |\n",
            "|                 |  'bake spaceboy design' 'memo board retrospot design'                      |\n",
            "|                 |  'world war glider asstd design' 'childrens apron apple design'            |\n",
            "|                 |  'asstd design paper sticker' 'coffee mug cat bird design'                 |\n",
            "|                 |  'peg bag apple design' 'bag spaceboy design' 'bird mobile vintage design' |\n",
            "|                 |  'memo board cottage design' 'key fob garage design'                       |\n",
            "|                 |  'fairy cake design umbrella' 'wrap billboard font design'                 |\n",
            "|                 |  'woodland design cotton tote bag' 'skull design cotton tote bag'          |\n",
            "|                 |  'money box confectionery design' 'money box king choice design'           |\n",
            "|                 |  'money box pocket money design' 'ribbon reel lace design'                 |\n",
            "|                 |  'coffee mug dog ball design' 'flower design big mug'                      |\n",
            "|                 |  'yellow flower design big mug' 'strawberry design flannel'                |\n",
            "|                 |  'coffee mug paisley design' 'bathroom love heart design'                  |\n",
            "|                 |  'circle design monkey doll' 'money box biscuit design'                    |\n",
            "|                 |  'asstd design race car pen' 'ribbon reel heart design'                    |\n",
            "|                 |  'stripe design teddy' 'oven mitt apple design' 'tablecloth apple design'  |\n",
            "|                 |  'circle design teddy' 'rabbit design cotton tote bag'                     |\n",
            "|                 |  'summer fun design shower cap' 'stripy design shower cap'                 |\n",
            "|                 |  'skull design dinner tray' 'carousel design washbag'                      |\n",
            "|                 |  'dolly mix design orange bowl' 'ceramic plate strawberry design'          |\n",
            "|                 |  'ceramic cake design spot plate' 'ceramic bowl strawberry design'         |\n",
            "|                 |  'doorstop football design' 'doily spaceboy design'                        |\n",
            "|                 |  'empire design rosette' 'tortilla design bowl' 'skull design flannel'     |\n",
            "|                 |  'kitten design flannel' 'cake rabbit design flannel'                      |\n",
            "|                 |  'party time design flannel' 'doorstop racing car design'                  |\n",
            "|                 |  'spice tin pantry design' 'cake tin pantry design'                        |\n",
            "|                 |  'beach hut design blackboard' 'stripe design monkey doll'                 |\n",
            "|                 |  'coffee mug pear design' 'scottie design washbag'                         |\n",
            "|                 |  'coffee mug apple design' 'ceramic bowl love heart design'                |\n",
            "|                 |  'money box housekeep design' 'money box first ade design'                 |\n",
            "|                 |  'wrap doiley design' 'wrap alphabet design' 'wrap poppy design'           |\n",
            "|                 |  'wrap vintage petal design' 'pig mug two colour design'                   |\n",
            "|                 |  'zinc heart design planter' 'bird garden design mug'                      |\n",
            "|                 |  'ice cream design garden parasol' 'pantry design tea towel'               |\n",
            "|                 |  'cotton apron pantry design' 'yellow flower design big bowl'              |\n",
            "|                 |  'yellow orange flower design plate' 'lunch bag alphabet design'           |\n",
            "|                 |  'lunch bag apple design' 'charlotte bag apple design'                     |\n",
            "|                 |  'charlotte bag alphabet design' 'lunch bag vintage leaf design'           |\n",
            "|                 |  'piece cutlery pantry design' 'paint lightbulb rainbow design'            |\n",
            "|                 |  'doormat vintage leave design' 'wrap summer rise design'                  |\n",
            "|                 |  'kneel mat housework design' 'cutlery pantry design'                      |\n",
            "|                 |  'pantry design cake case' 'doily pantry design'                           |\n",
            "|                 |  'treasure tin gymkhana design' 'cannister vintage leaf design'            |\n",
            "|                 |  'wrap vintage leaf design' 'money box first aid design'                   |\n",
            "|                 |  'flower shop design mug']                                                 |\n",
            "|              10 | ['babushka nesting box' 'box assort colour teaspoon'                       |\n",
            "|                 |  'box vintage jigsaw block' 'box vintage alphabet block'                   |\n",
            "|                 |  'recipe box metal heart' 'round snack box of4 woodland'                   |\n",
            "|                 |  'spaceboy lunch box' 'lunch box love london' 'circus parade lunch box'    |\n",
            "|                 |  'victorian sewing box' 'strawberry lunch box cutlery'                     |\n",
            "|                 |  'rise cottage keepsake box' 'wooden box domino'                           |\n",
            "|                 |  'strawberry ceramic trinket box' 'boudoir square tissue box'              |\n",
            "|                 |  'skull square tissue box' 'chocolate box ribbon' 'harmonica box'          |\n",
            "|                 |  'box bird pannetone' 'box christmas pannetone' 'boom box speaker girl'    |\n",
            "|                 |  'round snack box fruit' 'round snack box skull' 'dolly girl lunch box'    |\n",
            "|                 |  'daisy peg wood box' 'valentine decoupage heart box'                      |\n",
            "|                 |  'ceramic strawberry money box' 'cosy hour cigar box match'                |\n",
            "|                 |  'victorian sew box medium' 'sweetie gift box' 'pizza plate box'           |\n",
            "|                 |  'caravan square tissue box' 'button box' 'handbag gift box'               |\n",
            "|                 |  'paisley tissue box' 'paisley square tissue box' 'skull storage box'      |\n",
            "|                 |  'cream felt craft trinket box' 'pannetone gift box' 'toadstool money box' |\n",
            "|                 |  'swallow square tissue box' 'box cocktail parasol' 'lad tissue box'       |\n",
            "|                 |  'vintage keepsake box paris day' 'gingham rise jewellery box'             |\n",
            "|                 |  'tool box soft toy' 'sweetheart ceramic trinket box'                      |\n",
            "|                 |  'campagne cutlery box' 'felt craft trinket box' 'diamante pen gift box'   |\n",
            "|                 |  'set3 book box gingham flower' 'gingham rise storage box'                 |\n",
            "|                 |  'stripey chocolate nesting box' 'boom box speaker boy'                    |\n",
            "|                 |  'dinosaur lunch box cutlery' 'shoe shine box' 'love heart napkin box'     |\n",
            "|                 |  'lilac diamante pen gift box' 'silver diamante pen gift box'              |\n",
            "|                 |  'woodland storage box' 'yuletide image paper box' 'robot mug display box' |\n",
            "|                 |  'skull lunch box cutlery' 'danish rise round sewing box'                  |\n",
            "|                 |  'pop box funky monkey' 'motor tissue box' 'empire tissue box'             |\n",
            "|                 |  'new england mug gift box' 'vintage keepsake box travelogue'              |\n",
            "|                 |  'wooden box advent calendar' 'silver oval shape trinket box'              |\n",
            "|                 |  'assort tutti frutti heart box' 'tea time teapot gift box'                |\n",
            "|                 |  'coney island oval box' 'tea time tea gift box' 'nursery des round box'   |\n",
            "|                 |  'diamante ring assort box' 'victorian fabric oval box'                    |\n",
            "|                 |  'tea time cake stand gift box' 'spot chocolate nest box'                  |\n",
            "|                 |  'box chick egg basket' 'assort tutti frutti round box'                    |\n",
            "|                 |  'new baroque jewellery box' 'new baroque box' 'bunny egg box'             |\n",
            "|                 |  'oyster trinket box' 'fluffy chick box' 'lunch box cutlery fairy cake'    |\n",
            "|                 |  'retro pill box revolutionary' 'heart button jewellery box'               |\n",
            "|                 |  'treasure island book box' 'buffalo bill treasure book box'               |\n",
            "|                 |  'gymkhanna treasure book box' 'abc treasure book box'                     |\n",
            "|                 |  'clear stationery box' 'gymkhana treasure book box'                       |\n",
            "|                 |  'retro pill box key chain king' 'georgian trinket box'                    |\n",
            "|                 |  'marie antoienett trinket box gold' 'marie antoinette trinket box gold'   |\n",
            "|                 |  'marie antoinette trinket box silver' 'metal box army supply'             |\n",
            "|                 |  'metal box top secret' 'parisienne sew box' 'oval shape trinket box'      |\n",
            "|                 |  'vintage keepsake box flower' 'box mini vintage cracker'                  |\n",
            "|                 |  'box mini cracker' 'vintage bead jewel box' 'gingham recipe book box'     |\n",
            "|                 |  'zinc box sign home' 'vintage coffee grinder box'                         |\n",
            "|                 |  'embossed heart trinket box' 'decrotivevintage coffee grinder box'        |\n",
            "|                 |  'decorative vintage coffee box' 'box christmas panettone'                 |\n",
            "|                 |  'box bird panettone' 'panettone gift box']                                |\n",
            "|              11 | ['paper chain kit christmas' 'traditional christmas ribbon'                |\n",
            "|                 |  'christmas light reindeer' 'paper chain kit vintage christmas'            |\n",
            "|                 |  'disco ball christmas decoration' 'christmas hang heart bell'             |\n",
            "|                 |  'ribbon elegant christmas' 'feltcraft christmas fairy'                    |\n",
            "|                 |  'christmas craft tree top angel' 'christmas craft little friend'          |\n",
            "|                 |  'cake case vintage christmas' 'ribbon reel christmas sock bauble'         |\n",
            "|                 |  'vintage christmas napkin' 'turquoise christmas tree'                     |\n",
            "|                 |  'party cone christmas decoration' 'christmas gingham tree'                |\n",
            "|                 |  'christmas gingham star' 'christmas gingham heart'                        |\n",
            "|                 |  'christmas light santa' 'christmas craft fairy'                           |\n",
            "|                 |  'ribbon reel christmas present' 'christmas metal tag assort'              |\n",
            "|                 |  'christmas tree light holder' 'star wooden christmas decoration'          |\n",
            "|                 |  'wooden heart christmas scandinavian' 'christmas retrospot tree wood'     |\n",
            "|                 |  'christmas light scent' 'christmas stamp sticker'                         |\n",
            "|                 |  'christmas decoupage candle' 'rock horse christmas'                       |\n",
            "|                 |  'metal merry christmas wreath' 'christmas garland star tree'              |\n",
            "|                 |  'christmas hang star bell' 'christmas toilet roll'                        |\n",
            "|                 |  'christmas light vintage bauble' 'christmas tree card holder'             |\n",
            "|                 |  'wrap christmas screen print' 'heart wooden christmas decoration'         |\n",
            "|                 |  'christmas musical zinc star' 'christmas musical zinc heart'              |\n",
            "|                 |  'folkart zinc heart christmas dec' 'silver christmas tree bauble stand'   |\n",
            "|                 |  'glitter christmas heart' 'wood stock christmas scandispot'               |\n",
            "|                 |  'wooden tree christmas scandinavian' 'christmas hang tree bell'           |\n",
            "|                 |  'swallow wooden christmas decoration' 'glitter christmas tree'            |\n",
            "|                 |  'bird box christmas tree decoration' 'card christmas village'             |\n",
            "|                 |  'folkart star christmas dec' 'smallfolkart bauble christmas dec'          |\n",
            "|                 |  'christmas tree 60cm' 'christmas tree string 20light'                     |\n",
            "|                 |  'christmas pudding trinket pot' '15cm christmas glass ball light'         |\n",
            "|                 |  'wooden star christmas scandinavian' 'christmas card stack present'       |\n",
            "|                 |  'traditional christmas sticker' 'christmas tree star decoration'          |\n",
            "|                 |  'christmas tree decoration bell' 'magic christmas tree'                   |\n",
            "|                 |  'christmas card screen print' 'christmas card sing angel'                 |\n",
            "|                 |  'christmas star decoration' 'doormat merry christmas'                     |\n",
            "|                 |  'cardholder gingham christmas tree' 'christmas metal postcard bell'       |\n",
            "|                 |  'vintage christmas sticker' 'christmas tree heart decoration'             |\n",
            "|                 |  'christmas musical zinc tree' 'folkart star christmas decoration'         |\n",
            "|                 |  'robin christmas card' 'folkart zinc star christmas dec'                  |\n",
            "|                 |  'glitter christmas star' 'glitter christmas tree bell'                    |\n",
            "|                 |  'dusty christmas tree 30cm' 'christmas tree paint zinc'                   |\n",
            "|                 |  'goose feather christmas tree' 'christmas craft heart stock'              |\n",
            "|                 |  'flock christmas ball' 'ribbon vintage christmas'                         |\n",
            "|                 |  'holly top christmas stock' 'christmas flock droplet'                     |\n",
            "|                 |  'christmas tree 120cm' 'fluffy christmas decoration'                      |\n",
            "|                 |  'christmas star wish list chalkboard' 'feather christmas decoration'      |\n",
            "|                 |  'biscuit tin christmas' 'doily vintage christmas'                         |\n",
            "|                 |  'folkart christmas tree light hold' 'wooden tree decoration'              |\n",
            "|                 |  'ceramic christmas tree' 'ceramic christmas reindeer'                     |\n",
            "|                 |  'bag vintage christmas' 'biscuit tin vintage christmas' 'bag christmas'   |\n",
            "|                 |  'stock christmas decoration' 'christmas tree hang silver'                 |\n",
            "|                 |  'christmas tree hang gold' 'doormat christmas village'                    |\n",
            "|                 |  'giant christmas cracker' 'vintage christmas bunting'                     |\n",
            "|                 |  'vintage christmas stock' 'vintage christmas tablecloth'                  |\n",
            "|                 |  'vintage christmas gift sack' 'wrap christmas village' 'wrap christmas'   |\n",
            "|                 |  'vintage christmas cake frill' 'vintage christmas paper gift bag'         |\n",
            "|                 |  'gift bag vintage christmas' 'gift tag vintage christmas'                 |\n",
            "|                 |  'gift tag christmas' 'roll wrap vintage christmas' 'roll wrap christmas'  |\n",
            "|                 |  'christmas tree 30cm' 'vintage christmas gift bag'                        |\n",
            "|                 |  'christmas paper gift bag' 'christmas gift bag'                           |\n",
            "|                 |  'vintage christmas tissue' 'christmas tissue' 'gift bag christmas'        |\n",
            "|                 |  'raffia ribbon vintage christmas' 'raffia ribbon christmas'               |\n",
            "|                 |  'christmas hang snowflake' 'christmas fun card'                           |\n",
            "|                 |  'box christmas cake decoration' 'vintage christmas doily'                 |\n",
            "|                 |  'dusty christmas tree 60cm']                                              |\n"
          ]
        }
      ],
      "source": [
        "ProductType = df_desc.groupby(by=['cluster_group'])['Description'].unique()\n",
        "print(ProductType.to_markdown())"
      ]
    },
    {
      "cell_type": "markdown",
      "metadata": {
        "id": "aWj3e31HpckW"
      },
      "source": [
        "Adding Product Categories as a New Column to original dataset"
      ]
    },
    {
      "cell_type": "code",
      "execution_count": 32,
      "metadata": {
        "id": "0XFY4uQKpcKu"
      },
      "outputs": [],
      "source": [
        "products_list = df['Description'].unique()"
      ]
    },
    {
      "cell_type": "code",
      "execution_count": 33,
      "metadata": {
        "id": "53CmPvX5p7Kw"
      },
      "outputs": [],
      "source": [
        "corresp=dict()\n",
        "for key,val in zip (products_list,km_result):\n",
        "  corresp[key]=val\n",
        "\n",
        "df['product_categ']= df.loc[:,'Description'].map(corresp)"
      ]
    },
    {
      "cell_type": "code",
      "execution_count": 34,
      "metadata": {
        "colab": {
          "base_uri": "https://localhost:8080/",
          "height": 424
        },
        "id": "oRKyFykm0gNJ",
        "outputId": "a963cde2-5843-4fb4-d956-daad8b8040dd"
      },
      "outputs": [
        {
          "output_type": "execute_result",
          "data": {
            "text/plain": [
              "       InvoiceNo StockCode                          Description  Quantity  \\\n",
              "0         536365    85123A   WHITE HANGING HEART T-LIGHT HOLDER         6   \n",
              "1         536365     71053                  WHITE METAL LANTERN         6   \n",
              "2         536365    84406B       CREAM CUPID HEARTS COAT HANGER         8   \n",
              "3         536365    84029G  KNITTED UNION FLAG HOT WATER BOTTLE         6   \n",
              "4         536365    84029E       RED WOOLLY HOTTIE WHITE HEART.         6   \n",
              "...          ...       ...                                  ...       ...   \n",
              "541904    581587     22613          PACK OF 20 SPACEBOY NAPKINS        12   \n",
              "541905    581587     22899         CHILDREN'S APRON DOLLY GIRL          6   \n",
              "541906    581587     23254        CHILDRENS CUTLERY DOLLY GIRL          4   \n",
              "541907    581587     23255      CHILDRENS CUTLERY CIRCUS PARADE         4   \n",
              "541908    581587     22138        BAKING SET 9 PIECE RETROSPOT          3   \n",
              "\n",
              "            InvoiceDate  UnitPrice  CustomerID         Country  product_categ  \n",
              "0        12/1/2010 8:26       2.55     17850.0  United Kingdom              8  \n",
              "1        12/1/2010 8:26       3.39     17850.0  United Kingdom              6  \n",
              "2        12/1/2010 8:26       2.75     17850.0  United Kingdom              8  \n",
              "3        12/1/2010 8:26       3.39     17850.0  United Kingdom              1  \n",
              "4        12/1/2010 8:26       3.39     17850.0  United Kingdom              8  \n",
              "...                 ...        ...         ...             ...            ...  \n",
              "541904  12/9/2011 12:50       0.85     12680.0          France              1  \n",
              "541905  12/9/2011 12:50       2.10     12680.0          France              1  \n",
              "541906  12/9/2011 12:50       4.15     12680.0          France              1  \n",
              "541907  12/9/2011 12:50       4.15     12680.0          France              1  \n",
              "541908  12/9/2011 12:50       4.95     12680.0          France              4  \n",
              "\n",
              "[406829 rows x 9 columns]"
            ],
            "text/html": [
              "\n",
              "  <div id=\"df-6f3bac06-0294-4b9b-b40a-00e8912290ee\">\n",
              "    <div class=\"colab-df-container\">\n",
              "      <div>\n",
              "<style scoped>\n",
              "    .dataframe tbody tr th:only-of-type {\n",
              "        vertical-align: middle;\n",
              "    }\n",
              "\n",
              "    .dataframe tbody tr th {\n",
              "        vertical-align: top;\n",
              "    }\n",
              "\n",
              "    .dataframe thead th {\n",
              "        text-align: right;\n",
              "    }\n",
              "</style>\n",
              "<table border=\"1\" class=\"dataframe\">\n",
              "  <thead>\n",
              "    <tr style=\"text-align: right;\">\n",
              "      <th></th>\n",
              "      <th>InvoiceNo</th>\n",
              "      <th>StockCode</th>\n",
              "      <th>Description</th>\n",
              "      <th>Quantity</th>\n",
              "      <th>InvoiceDate</th>\n",
              "      <th>UnitPrice</th>\n",
              "      <th>CustomerID</th>\n",
              "      <th>Country</th>\n",
              "      <th>product_categ</th>\n",
              "    </tr>\n",
              "  </thead>\n",
              "  <tbody>\n",
              "    <tr>\n",
              "      <th>0</th>\n",
              "      <td>536365</td>\n",
              "      <td>85123A</td>\n",
              "      <td>WHITE HANGING HEART T-LIGHT HOLDER</td>\n",
              "      <td>6</td>\n",
              "      <td>12/1/2010 8:26</td>\n",
              "      <td>2.55</td>\n",
              "      <td>17850.0</td>\n",
              "      <td>United Kingdom</td>\n",
              "      <td>8</td>\n",
              "    </tr>\n",
              "    <tr>\n",
              "      <th>1</th>\n",
              "      <td>536365</td>\n",
              "      <td>71053</td>\n",
              "      <td>WHITE METAL LANTERN</td>\n",
              "      <td>6</td>\n",
              "      <td>12/1/2010 8:26</td>\n",
              "      <td>3.39</td>\n",
              "      <td>17850.0</td>\n",
              "      <td>United Kingdom</td>\n",
              "      <td>6</td>\n",
              "    </tr>\n",
              "    <tr>\n",
              "      <th>2</th>\n",
              "      <td>536365</td>\n",
              "      <td>84406B</td>\n",
              "      <td>CREAM CUPID HEARTS COAT HANGER</td>\n",
              "      <td>8</td>\n",
              "      <td>12/1/2010 8:26</td>\n",
              "      <td>2.75</td>\n",
              "      <td>17850.0</td>\n",
              "      <td>United Kingdom</td>\n",
              "      <td>8</td>\n",
              "    </tr>\n",
              "    <tr>\n",
              "      <th>3</th>\n",
              "      <td>536365</td>\n",
              "      <td>84029G</td>\n",
              "      <td>KNITTED UNION FLAG HOT WATER BOTTLE</td>\n",
              "      <td>6</td>\n",
              "      <td>12/1/2010 8:26</td>\n",
              "      <td>3.39</td>\n",
              "      <td>17850.0</td>\n",
              "      <td>United Kingdom</td>\n",
              "      <td>1</td>\n",
              "    </tr>\n",
              "    <tr>\n",
              "      <th>4</th>\n",
              "      <td>536365</td>\n",
              "      <td>84029E</td>\n",
              "      <td>RED WOOLLY HOTTIE WHITE HEART.</td>\n",
              "      <td>6</td>\n",
              "      <td>12/1/2010 8:26</td>\n",
              "      <td>3.39</td>\n",
              "      <td>17850.0</td>\n",
              "      <td>United Kingdom</td>\n",
              "      <td>8</td>\n",
              "    </tr>\n",
              "    <tr>\n",
              "      <th>...</th>\n",
              "      <td>...</td>\n",
              "      <td>...</td>\n",
              "      <td>...</td>\n",
              "      <td>...</td>\n",
              "      <td>...</td>\n",
              "      <td>...</td>\n",
              "      <td>...</td>\n",
              "      <td>...</td>\n",
              "      <td>...</td>\n",
              "    </tr>\n",
              "    <tr>\n",
              "      <th>541904</th>\n",
              "      <td>581587</td>\n",
              "      <td>22613</td>\n",
              "      <td>PACK OF 20 SPACEBOY NAPKINS</td>\n",
              "      <td>12</td>\n",
              "      <td>12/9/2011 12:50</td>\n",
              "      <td>0.85</td>\n",
              "      <td>12680.0</td>\n",
              "      <td>France</td>\n",
              "      <td>1</td>\n",
              "    </tr>\n",
              "    <tr>\n",
              "      <th>541905</th>\n",
              "      <td>581587</td>\n",
              "      <td>22899</td>\n",
              "      <td>CHILDREN'S APRON DOLLY GIRL</td>\n",
              "      <td>6</td>\n",
              "      <td>12/9/2011 12:50</td>\n",
              "      <td>2.10</td>\n",
              "      <td>12680.0</td>\n",
              "      <td>France</td>\n",
              "      <td>1</td>\n",
              "    </tr>\n",
              "    <tr>\n",
              "      <th>541906</th>\n",
              "      <td>581587</td>\n",
              "      <td>23254</td>\n",
              "      <td>CHILDRENS CUTLERY DOLLY GIRL</td>\n",
              "      <td>4</td>\n",
              "      <td>12/9/2011 12:50</td>\n",
              "      <td>4.15</td>\n",
              "      <td>12680.0</td>\n",
              "      <td>France</td>\n",
              "      <td>1</td>\n",
              "    </tr>\n",
              "    <tr>\n",
              "      <th>541907</th>\n",
              "      <td>581587</td>\n",
              "      <td>23255</td>\n",
              "      <td>CHILDRENS CUTLERY CIRCUS PARADE</td>\n",
              "      <td>4</td>\n",
              "      <td>12/9/2011 12:50</td>\n",
              "      <td>4.15</td>\n",
              "      <td>12680.0</td>\n",
              "      <td>France</td>\n",
              "      <td>1</td>\n",
              "    </tr>\n",
              "    <tr>\n",
              "      <th>541908</th>\n",
              "      <td>581587</td>\n",
              "      <td>22138</td>\n",
              "      <td>BAKING SET 9 PIECE RETROSPOT</td>\n",
              "      <td>3</td>\n",
              "      <td>12/9/2011 12:50</td>\n",
              "      <td>4.95</td>\n",
              "      <td>12680.0</td>\n",
              "      <td>France</td>\n",
              "      <td>4</td>\n",
              "    </tr>\n",
              "  </tbody>\n",
              "</table>\n",
              "<p>406829 rows × 9 columns</p>\n",
              "</div>\n",
              "      <button class=\"colab-df-convert\" onclick=\"convertToInteractive('df-6f3bac06-0294-4b9b-b40a-00e8912290ee')\"\n",
              "              title=\"Convert this dataframe to an interactive table.\"\n",
              "              style=\"display:none;\">\n",
              "        \n",
              "  <svg xmlns=\"http://www.w3.org/2000/svg\" height=\"24px\"viewBox=\"0 0 24 24\"\n",
              "       width=\"24px\">\n",
              "    <path d=\"M0 0h24v24H0V0z\" fill=\"none\"/>\n",
              "    <path d=\"M18.56 5.44l.94 2.06.94-2.06 2.06-.94-2.06-.94-.94-2.06-.94 2.06-2.06.94zm-11 1L8.5 8.5l.94-2.06 2.06-.94-2.06-.94L8.5 2.5l-.94 2.06-2.06.94zm10 10l.94 2.06.94-2.06 2.06-.94-2.06-.94-.94-2.06-.94 2.06-2.06.94z\"/><path d=\"M17.41 7.96l-1.37-1.37c-.4-.4-.92-.59-1.43-.59-.52 0-1.04.2-1.43.59L10.3 9.45l-7.72 7.72c-.78.78-.78 2.05 0 2.83L4 21.41c.39.39.9.59 1.41.59.51 0 1.02-.2 1.41-.59l7.78-7.78 2.81-2.81c.8-.78.8-2.07 0-2.86zM5.41 20L4 18.59l7.72-7.72 1.47 1.35L5.41 20z\"/>\n",
              "  </svg>\n",
              "      </button>\n",
              "      \n",
              "  <style>\n",
              "    .colab-df-container {\n",
              "      display:flex;\n",
              "      flex-wrap:wrap;\n",
              "      gap: 12px;\n",
              "    }\n",
              "\n",
              "    .colab-df-convert {\n",
              "      background-color: #E8F0FE;\n",
              "      border: none;\n",
              "      border-radius: 50%;\n",
              "      cursor: pointer;\n",
              "      display: none;\n",
              "      fill: #1967D2;\n",
              "      height: 32px;\n",
              "      padding: 0 0 0 0;\n",
              "      width: 32px;\n",
              "    }\n",
              "\n",
              "    .colab-df-convert:hover {\n",
              "      background-color: #E2EBFA;\n",
              "      box-shadow: 0px 1px 2px rgba(60, 64, 67, 0.3), 0px 1px 3px 1px rgba(60, 64, 67, 0.15);\n",
              "      fill: #174EA6;\n",
              "    }\n",
              "\n",
              "    [theme=dark] .colab-df-convert {\n",
              "      background-color: #3B4455;\n",
              "      fill: #D2E3FC;\n",
              "    }\n",
              "\n",
              "    [theme=dark] .colab-df-convert:hover {\n",
              "      background-color: #434B5C;\n",
              "      box-shadow: 0px 1px 3px 1px rgba(0, 0, 0, 0.15);\n",
              "      filter: drop-shadow(0px 1px 2px rgba(0, 0, 0, 0.3));\n",
              "      fill: #FFFFFF;\n",
              "    }\n",
              "  </style>\n",
              "\n",
              "      <script>\n",
              "        const buttonEl =\n",
              "          document.querySelector('#df-6f3bac06-0294-4b9b-b40a-00e8912290ee button.colab-df-convert');\n",
              "        buttonEl.style.display =\n",
              "          google.colab.kernel.accessAllowed ? 'block' : 'none';\n",
              "\n",
              "        async function convertToInteractive(key) {\n",
              "          const element = document.querySelector('#df-6f3bac06-0294-4b9b-b40a-00e8912290ee');\n",
              "          const dataTable =\n",
              "            await google.colab.kernel.invokeFunction('convertToInteractive',\n",
              "                                                     [key], {});\n",
              "          if (!dataTable) return;\n",
              "\n",
              "          const docLinkHtml = 'Like what you see? Visit the ' +\n",
              "            '<a target=\"_blank\" href=https://colab.research.google.com/notebooks/data_table.ipynb>data table notebook</a>'\n",
              "            + ' to learn more about interactive tables.';\n",
              "          element.innerHTML = '';\n",
              "          dataTable['output_type'] = 'display_data';\n",
              "          await google.colab.output.renderOutput(dataTable, element);\n",
              "          const docLink = document.createElement('div');\n",
              "          docLink.innerHTML = docLinkHtml;\n",
              "          element.appendChild(docLink);\n",
              "        }\n",
              "      </script>\n",
              "    </div>\n",
              "  </div>\n",
              "  "
            ]
          },
          "metadata": {},
          "execution_count": 34
        }
      ],
      "source": [
        "df\n"
      ]
    },
    {
      "cell_type": "markdown",
      "metadata": {
        "id": "HmQgV2xr1L99"
      },
      "source": [
        "As we have calculated the product categories(similarity b/w products),we will now use the product category data to group the customers into different clusters"
      ]
    },
    {
      "cell_type": "markdown",
      "metadata": {
        "id": "6_ZcSvhb9iTp"
      },
      "source": [
        "Doing oneHotEncoding for the 'product category' column"
      ]
    },
    {
      "cell_type": "code",
      "execution_count": 35,
      "metadata": {
        "colab": {
          "base_uri": "https://localhost:8080/",
          "height": 223
        },
        "id": "ot_IZloy9vCB",
        "outputId": "d61fa5d6-93c0-4e4e-b72e-0cac52ea9395"
      },
      "outputs": [
        {
          "output_type": "stream",
          "name": "stdout",
          "text": [
            "(406829, 12)\n"
          ]
        },
        {
          "output_type": "execute_result",
          "data": {
            "text/plain": [
              "   prod_categ_0  prod_categ_1  prod_categ_2  prod_categ_3  prod_categ_4  \\\n",
              "0             0             0             0             0             0   \n",
              "1             0             0             0             0             0   \n",
              "2             0             0             0             0             0   \n",
              "3             0             1             0             0             0   \n",
              "4             0             0             0             0             0   \n",
              "\n",
              "   prod_categ_5  prod_categ_6  prod_categ_7  prod_categ_8  prod_categ_9  \\\n",
              "0             0             0             0             1             0   \n",
              "1             0             1             0             0             0   \n",
              "2             0             0             0             1             0   \n",
              "3             0             0             0             0             0   \n",
              "4             0             0             0             1             0   \n",
              "\n",
              "   prod_categ_10  prod_categ_11  \n",
              "0              0              0  \n",
              "1              0              0  \n",
              "2              0              0  \n",
              "3              0              0  \n",
              "4              0              0  "
            ],
            "text/html": [
              "\n",
              "  <div id=\"df-e531226d-fe46-463a-955d-67305f4d5719\">\n",
              "    <div class=\"colab-df-container\">\n",
              "      <div>\n",
              "<style scoped>\n",
              "    .dataframe tbody tr th:only-of-type {\n",
              "        vertical-align: middle;\n",
              "    }\n",
              "\n",
              "    .dataframe tbody tr th {\n",
              "        vertical-align: top;\n",
              "    }\n",
              "\n",
              "    .dataframe thead th {\n",
              "        text-align: right;\n",
              "    }\n",
              "</style>\n",
              "<table border=\"1\" class=\"dataframe\">\n",
              "  <thead>\n",
              "    <tr style=\"text-align: right;\">\n",
              "      <th></th>\n",
              "      <th>prod_categ_0</th>\n",
              "      <th>prod_categ_1</th>\n",
              "      <th>prod_categ_2</th>\n",
              "      <th>prod_categ_3</th>\n",
              "      <th>prod_categ_4</th>\n",
              "      <th>prod_categ_5</th>\n",
              "      <th>prod_categ_6</th>\n",
              "      <th>prod_categ_7</th>\n",
              "      <th>prod_categ_8</th>\n",
              "      <th>prod_categ_9</th>\n",
              "      <th>prod_categ_10</th>\n",
              "      <th>prod_categ_11</th>\n",
              "    </tr>\n",
              "  </thead>\n",
              "  <tbody>\n",
              "    <tr>\n",
              "      <th>0</th>\n",
              "      <td>0</td>\n",
              "      <td>0</td>\n",
              "      <td>0</td>\n",
              "      <td>0</td>\n",
              "      <td>0</td>\n",
              "      <td>0</td>\n",
              "      <td>0</td>\n",
              "      <td>0</td>\n",
              "      <td>1</td>\n",
              "      <td>0</td>\n",
              "      <td>0</td>\n",
              "      <td>0</td>\n",
              "    </tr>\n",
              "    <tr>\n",
              "      <th>1</th>\n",
              "      <td>0</td>\n",
              "      <td>0</td>\n",
              "      <td>0</td>\n",
              "      <td>0</td>\n",
              "      <td>0</td>\n",
              "      <td>0</td>\n",
              "      <td>1</td>\n",
              "      <td>0</td>\n",
              "      <td>0</td>\n",
              "      <td>0</td>\n",
              "      <td>0</td>\n",
              "      <td>0</td>\n",
              "    </tr>\n",
              "    <tr>\n",
              "      <th>2</th>\n",
              "      <td>0</td>\n",
              "      <td>0</td>\n",
              "      <td>0</td>\n",
              "      <td>0</td>\n",
              "      <td>0</td>\n",
              "      <td>0</td>\n",
              "      <td>0</td>\n",
              "      <td>0</td>\n",
              "      <td>1</td>\n",
              "      <td>0</td>\n",
              "      <td>0</td>\n",
              "      <td>0</td>\n",
              "    </tr>\n",
              "    <tr>\n",
              "      <th>3</th>\n",
              "      <td>0</td>\n",
              "      <td>1</td>\n",
              "      <td>0</td>\n",
              "      <td>0</td>\n",
              "      <td>0</td>\n",
              "      <td>0</td>\n",
              "      <td>0</td>\n",
              "      <td>0</td>\n",
              "      <td>0</td>\n",
              "      <td>0</td>\n",
              "      <td>0</td>\n",
              "      <td>0</td>\n",
              "    </tr>\n",
              "    <tr>\n",
              "      <th>4</th>\n",
              "      <td>0</td>\n",
              "      <td>0</td>\n",
              "      <td>0</td>\n",
              "      <td>0</td>\n",
              "      <td>0</td>\n",
              "      <td>0</td>\n",
              "      <td>0</td>\n",
              "      <td>0</td>\n",
              "      <td>1</td>\n",
              "      <td>0</td>\n",
              "      <td>0</td>\n",
              "      <td>0</td>\n",
              "    </tr>\n",
              "  </tbody>\n",
              "</table>\n",
              "</div>\n",
              "      <button class=\"colab-df-convert\" onclick=\"convertToInteractive('df-e531226d-fe46-463a-955d-67305f4d5719')\"\n",
              "              title=\"Convert this dataframe to an interactive table.\"\n",
              "              style=\"display:none;\">\n",
              "        \n",
              "  <svg xmlns=\"http://www.w3.org/2000/svg\" height=\"24px\"viewBox=\"0 0 24 24\"\n",
              "       width=\"24px\">\n",
              "    <path d=\"M0 0h24v24H0V0z\" fill=\"none\"/>\n",
              "    <path d=\"M18.56 5.44l.94 2.06.94-2.06 2.06-.94-2.06-.94-.94-2.06-.94 2.06-2.06.94zm-11 1L8.5 8.5l.94-2.06 2.06-.94-2.06-.94L8.5 2.5l-.94 2.06-2.06.94zm10 10l.94 2.06.94-2.06 2.06-.94-2.06-.94-.94-2.06-.94 2.06-2.06.94z\"/><path d=\"M17.41 7.96l-1.37-1.37c-.4-.4-.92-.59-1.43-.59-.52 0-1.04.2-1.43.59L10.3 9.45l-7.72 7.72c-.78.78-.78 2.05 0 2.83L4 21.41c.39.39.9.59 1.41.59.51 0 1.02-.2 1.41-.59l7.78-7.78 2.81-2.81c.8-.78.8-2.07 0-2.86zM5.41 20L4 18.59l7.72-7.72 1.47 1.35L5.41 20z\"/>\n",
              "  </svg>\n",
              "      </button>\n",
              "      \n",
              "  <style>\n",
              "    .colab-df-container {\n",
              "      display:flex;\n",
              "      flex-wrap:wrap;\n",
              "      gap: 12px;\n",
              "    }\n",
              "\n",
              "    .colab-df-convert {\n",
              "      background-color: #E8F0FE;\n",
              "      border: none;\n",
              "      border-radius: 50%;\n",
              "      cursor: pointer;\n",
              "      display: none;\n",
              "      fill: #1967D2;\n",
              "      height: 32px;\n",
              "      padding: 0 0 0 0;\n",
              "      width: 32px;\n",
              "    }\n",
              "\n",
              "    .colab-df-convert:hover {\n",
              "      background-color: #E2EBFA;\n",
              "      box-shadow: 0px 1px 2px rgba(60, 64, 67, 0.3), 0px 1px 3px 1px rgba(60, 64, 67, 0.15);\n",
              "      fill: #174EA6;\n",
              "    }\n",
              "\n",
              "    [theme=dark] .colab-df-convert {\n",
              "      background-color: #3B4455;\n",
              "      fill: #D2E3FC;\n",
              "    }\n",
              "\n",
              "    [theme=dark] .colab-df-convert:hover {\n",
              "      background-color: #434B5C;\n",
              "      box-shadow: 0px 1px 3px 1px rgba(0, 0, 0, 0.15);\n",
              "      filter: drop-shadow(0px 1px 2px rgba(0, 0, 0, 0.3));\n",
              "      fill: #FFFFFF;\n",
              "    }\n",
              "  </style>\n",
              "\n",
              "      <script>\n",
              "        const buttonEl =\n",
              "          document.querySelector('#df-e531226d-fe46-463a-955d-67305f4d5719 button.colab-df-convert');\n",
              "        buttonEl.style.display =\n",
              "          google.colab.kernel.accessAllowed ? 'block' : 'none';\n",
              "\n",
              "        async function convertToInteractive(key) {\n",
              "          const element = document.querySelector('#df-e531226d-fe46-463a-955d-67305f4d5719');\n",
              "          const dataTable =\n",
              "            await google.colab.kernel.invokeFunction('convertToInteractive',\n",
              "                                                     [key], {});\n",
              "          if (!dataTable) return;\n",
              "\n",
              "          const docLinkHtml = 'Like what you see? Visit the ' +\n",
              "            '<a target=\"_blank\" href=https://colab.research.google.com/notebooks/data_table.ipynb>data table notebook</a>'\n",
              "            + ' to learn more about interactive tables.';\n",
              "          element.innerHTML = '';\n",
              "          dataTable['output_type'] = 'display_data';\n",
              "          await google.colab.output.renderOutput(dataTable, element);\n",
              "          const docLink = document.createElement('div');\n",
              "          docLink.innerHTML = docLinkHtml;\n",
              "          element.appendChild(docLink);\n",
              "        }\n",
              "      </script>\n",
              "    </div>\n",
              "  </div>\n",
              "  "
            ]
          },
          "metadata": {},
          "execution_count": 35
        }
      ],
      "source": [
        "Prod_Category = pd.get_dummies(df['product_categ'],prefix = 'prod_categ')\n",
        "print(Prod_Category.shape)\n",
        "Prod_Category.head()"
      ]
    },
    {
      "cell_type": "markdown",
      "metadata": {
        "id": "TFNe-qmKCMoR"
      },
      "source": [
        "Adding the 'product category' columns to the original dataset"
      ]
    },
    {
      "cell_type": "code",
      "execution_count": 36,
      "metadata": {
        "colab": {
          "base_uri": "https://localhost:8080/",
          "height": 612
        },
        "id": "wB_Ic1LuCduk",
        "outputId": "e699ee64-e3c8-42f5-88fe-f5841a55b492"
      },
      "outputs": [
        {
          "output_type": "execute_result",
          "data": {
            "text/plain": [
              "  InvoiceNo StockCode                          Description  Quantity  \\\n",
              "0    536365    85123A   WHITE HANGING HEART T-LIGHT HOLDER         6   \n",
              "1    536365     71053                  WHITE METAL LANTERN         6   \n",
              "2    536365    84406B       CREAM CUPID HEARTS COAT HANGER         8   \n",
              "3    536365    84029G  KNITTED UNION FLAG HOT WATER BOTTLE         6   \n",
              "4    536365    84029E       RED WOOLLY HOTTIE WHITE HEART.         6   \n",
              "\n",
              "      InvoiceDate  UnitPrice  CustomerID         Country  product_categ  \\\n",
              "0  12/1/2010 8:26       2.55     17850.0  United Kingdom              8   \n",
              "1  12/1/2010 8:26       3.39     17850.0  United Kingdom              6   \n",
              "2  12/1/2010 8:26       2.75     17850.0  United Kingdom              8   \n",
              "3  12/1/2010 8:26       3.39     17850.0  United Kingdom              1   \n",
              "4  12/1/2010 8:26       3.39     17850.0  United Kingdom              8   \n",
              "\n",
              "   prod_categ_0  ...  prod_categ_2  prod_categ_3  prod_categ_4  prod_categ_5  \\\n",
              "0             0  ...             0             0             0             0   \n",
              "1             0  ...             0             0             0             0   \n",
              "2             0  ...             0             0             0             0   \n",
              "3             0  ...             0             0             0             0   \n",
              "4             0  ...             0             0             0             0   \n",
              "\n",
              "   prod_categ_6  prod_categ_7  prod_categ_8  prod_categ_9  prod_categ_10  \\\n",
              "0             0             0             1             0              0   \n",
              "1             1             0             0             0              0   \n",
              "2             0             0             1             0              0   \n",
              "3             0             0             0             0              0   \n",
              "4             0             0             1             0              0   \n",
              "\n",
              "   prod_categ_11  \n",
              "0              0  \n",
              "1              0  \n",
              "2              0  \n",
              "3              0  \n",
              "4              0  \n",
              "\n",
              "[5 rows x 21 columns]"
            ],
            "text/html": [
              "\n",
              "  <div id=\"df-804db219-e1b7-40ee-9152-60b6d979b31d\">\n",
              "    <div class=\"colab-df-container\">\n",
              "      <div>\n",
              "<style scoped>\n",
              "    .dataframe tbody tr th:only-of-type {\n",
              "        vertical-align: middle;\n",
              "    }\n",
              "\n",
              "    .dataframe tbody tr th {\n",
              "        vertical-align: top;\n",
              "    }\n",
              "\n",
              "    .dataframe thead th {\n",
              "        text-align: right;\n",
              "    }\n",
              "</style>\n",
              "<table border=\"1\" class=\"dataframe\">\n",
              "  <thead>\n",
              "    <tr style=\"text-align: right;\">\n",
              "      <th></th>\n",
              "      <th>InvoiceNo</th>\n",
              "      <th>StockCode</th>\n",
              "      <th>Description</th>\n",
              "      <th>Quantity</th>\n",
              "      <th>InvoiceDate</th>\n",
              "      <th>UnitPrice</th>\n",
              "      <th>CustomerID</th>\n",
              "      <th>Country</th>\n",
              "      <th>product_categ</th>\n",
              "      <th>prod_categ_0</th>\n",
              "      <th>...</th>\n",
              "      <th>prod_categ_2</th>\n",
              "      <th>prod_categ_3</th>\n",
              "      <th>prod_categ_4</th>\n",
              "      <th>prod_categ_5</th>\n",
              "      <th>prod_categ_6</th>\n",
              "      <th>prod_categ_7</th>\n",
              "      <th>prod_categ_8</th>\n",
              "      <th>prod_categ_9</th>\n",
              "      <th>prod_categ_10</th>\n",
              "      <th>prod_categ_11</th>\n",
              "    </tr>\n",
              "  </thead>\n",
              "  <tbody>\n",
              "    <tr>\n",
              "      <th>0</th>\n",
              "      <td>536365</td>\n",
              "      <td>85123A</td>\n",
              "      <td>WHITE HANGING HEART T-LIGHT HOLDER</td>\n",
              "      <td>6</td>\n",
              "      <td>12/1/2010 8:26</td>\n",
              "      <td>2.55</td>\n",
              "      <td>17850.0</td>\n",
              "      <td>United Kingdom</td>\n",
              "      <td>8</td>\n",
              "      <td>0</td>\n",
              "      <td>...</td>\n",
              "      <td>0</td>\n",
              "      <td>0</td>\n",
              "      <td>0</td>\n",
              "      <td>0</td>\n",
              "      <td>0</td>\n",
              "      <td>0</td>\n",
              "      <td>1</td>\n",
              "      <td>0</td>\n",
              "      <td>0</td>\n",
              "      <td>0</td>\n",
              "    </tr>\n",
              "    <tr>\n",
              "      <th>1</th>\n",
              "      <td>536365</td>\n",
              "      <td>71053</td>\n",
              "      <td>WHITE METAL LANTERN</td>\n",
              "      <td>6</td>\n",
              "      <td>12/1/2010 8:26</td>\n",
              "      <td>3.39</td>\n",
              "      <td>17850.0</td>\n",
              "      <td>United Kingdom</td>\n",
              "      <td>6</td>\n",
              "      <td>0</td>\n",
              "      <td>...</td>\n",
              "      <td>0</td>\n",
              "      <td>0</td>\n",
              "      <td>0</td>\n",
              "      <td>0</td>\n",
              "      <td>1</td>\n",
              "      <td>0</td>\n",
              "      <td>0</td>\n",
              "      <td>0</td>\n",
              "      <td>0</td>\n",
              "      <td>0</td>\n",
              "    </tr>\n",
              "    <tr>\n",
              "      <th>2</th>\n",
              "      <td>536365</td>\n",
              "      <td>84406B</td>\n",
              "      <td>CREAM CUPID HEARTS COAT HANGER</td>\n",
              "      <td>8</td>\n",
              "      <td>12/1/2010 8:26</td>\n",
              "      <td>2.75</td>\n",
              "      <td>17850.0</td>\n",
              "      <td>United Kingdom</td>\n",
              "      <td>8</td>\n",
              "      <td>0</td>\n",
              "      <td>...</td>\n",
              "      <td>0</td>\n",
              "      <td>0</td>\n",
              "      <td>0</td>\n",
              "      <td>0</td>\n",
              "      <td>0</td>\n",
              "      <td>0</td>\n",
              "      <td>1</td>\n",
              "      <td>0</td>\n",
              "      <td>0</td>\n",
              "      <td>0</td>\n",
              "    </tr>\n",
              "    <tr>\n",
              "      <th>3</th>\n",
              "      <td>536365</td>\n",
              "      <td>84029G</td>\n",
              "      <td>KNITTED UNION FLAG HOT WATER BOTTLE</td>\n",
              "      <td>6</td>\n",
              "      <td>12/1/2010 8:26</td>\n",
              "      <td>3.39</td>\n",
              "      <td>17850.0</td>\n",
              "      <td>United Kingdom</td>\n",
              "      <td>1</td>\n",
              "      <td>0</td>\n",
              "      <td>...</td>\n",
              "      <td>0</td>\n",
              "      <td>0</td>\n",
              "      <td>0</td>\n",
              "      <td>0</td>\n",
              "      <td>0</td>\n",
              "      <td>0</td>\n",
              "      <td>0</td>\n",
              "      <td>0</td>\n",
              "      <td>0</td>\n",
              "      <td>0</td>\n",
              "    </tr>\n",
              "    <tr>\n",
              "      <th>4</th>\n",
              "      <td>536365</td>\n",
              "      <td>84029E</td>\n",
              "      <td>RED WOOLLY HOTTIE WHITE HEART.</td>\n",
              "      <td>6</td>\n",
              "      <td>12/1/2010 8:26</td>\n",
              "      <td>3.39</td>\n",
              "      <td>17850.0</td>\n",
              "      <td>United Kingdom</td>\n",
              "      <td>8</td>\n",
              "      <td>0</td>\n",
              "      <td>...</td>\n",
              "      <td>0</td>\n",
              "      <td>0</td>\n",
              "      <td>0</td>\n",
              "      <td>0</td>\n",
              "      <td>0</td>\n",
              "      <td>0</td>\n",
              "      <td>1</td>\n",
              "      <td>0</td>\n",
              "      <td>0</td>\n",
              "      <td>0</td>\n",
              "    </tr>\n",
              "  </tbody>\n",
              "</table>\n",
              "<p>5 rows × 21 columns</p>\n",
              "</div>\n",
              "      <button class=\"colab-df-convert\" onclick=\"convertToInteractive('df-804db219-e1b7-40ee-9152-60b6d979b31d')\"\n",
              "              title=\"Convert this dataframe to an interactive table.\"\n",
              "              style=\"display:none;\">\n",
              "        \n",
              "  <svg xmlns=\"http://www.w3.org/2000/svg\" height=\"24px\"viewBox=\"0 0 24 24\"\n",
              "       width=\"24px\">\n",
              "    <path d=\"M0 0h24v24H0V0z\" fill=\"none\"/>\n",
              "    <path d=\"M18.56 5.44l.94 2.06.94-2.06 2.06-.94-2.06-.94-.94-2.06-.94 2.06-2.06.94zm-11 1L8.5 8.5l.94-2.06 2.06-.94-2.06-.94L8.5 2.5l-.94 2.06-2.06.94zm10 10l.94 2.06.94-2.06 2.06-.94-2.06-.94-.94-2.06-.94 2.06-2.06.94z\"/><path d=\"M17.41 7.96l-1.37-1.37c-.4-.4-.92-.59-1.43-.59-.52 0-1.04.2-1.43.59L10.3 9.45l-7.72 7.72c-.78.78-.78 2.05 0 2.83L4 21.41c.39.39.9.59 1.41.59.51 0 1.02-.2 1.41-.59l7.78-7.78 2.81-2.81c.8-.78.8-2.07 0-2.86zM5.41 20L4 18.59l7.72-7.72 1.47 1.35L5.41 20z\"/>\n",
              "  </svg>\n",
              "      </button>\n",
              "      \n",
              "  <style>\n",
              "    .colab-df-container {\n",
              "      display:flex;\n",
              "      flex-wrap:wrap;\n",
              "      gap: 12px;\n",
              "    }\n",
              "\n",
              "    .colab-df-convert {\n",
              "      background-color: #E8F0FE;\n",
              "      border: none;\n",
              "      border-radius: 50%;\n",
              "      cursor: pointer;\n",
              "      display: none;\n",
              "      fill: #1967D2;\n",
              "      height: 32px;\n",
              "      padding: 0 0 0 0;\n",
              "      width: 32px;\n",
              "    }\n",
              "\n",
              "    .colab-df-convert:hover {\n",
              "      background-color: #E2EBFA;\n",
              "      box-shadow: 0px 1px 2px rgba(60, 64, 67, 0.3), 0px 1px 3px 1px rgba(60, 64, 67, 0.15);\n",
              "      fill: #174EA6;\n",
              "    }\n",
              "\n",
              "    [theme=dark] .colab-df-convert {\n",
              "      background-color: #3B4455;\n",
              "      fill: #D2E3FC;\n",
              "    }\n",
              "\n",
              "    [theme=dark] .colab-df-convert:hover {\n",
              "      background-color: #434B5C;\n",
              "      box-shadow: 0px 1px 3px 1px rgba(0, 0, 0, 0.15);\n",
              "      filter: drop-shadow(0px 1px 2px rgba(0, 0, 0, 0.3));\n",
              "      fill: #FFFFFF;\n",
              "    }\n",
              "  </style>\n",
              "\n",
              "      <script>\n",
              "        const buttonEl =\n",
              "          document.querySelector('#df-804db219-e1b7-40ee-9152-60b6d979b31d button.colab-df-convert');\n",
              "        buttonEl.style.display =\n",
              "          google.colab.kernel.accessAllowed ? 'block' : 'none';\n",
              "\n",
              "        async function convertToInteractive(key) {\n",
              "          const element = document.querySelector('#df-804db219-e1b7-40ee-9152-60b6d979b31d');\n",
              "          const dataTable =\n",
              "            await google.colab.kernel.invokeFunction('convertToInteractive',\n",
              "                                                     [key], {});\n",
              "          if (!dataTable) return;\n",
              "\n",
              "          const docLinkHtml = 'Like what you see? Visit the ' +\n",
              "            '<a target=\"_blank\" href=https://colab.research.google.com/notebooks/data_table.ipynb>data table notebook</a>'\n",
              "            + ' to learn more about interactive tables.';\n",
              "          element.innerHTML = '';\n",
              "          dataTable['output_type'] = 'display_data';\n",
              "          await google.colab.output.renderOutput(dataTable, element);\n",
              "          const docLink = document.createElement('div');\n",
              "          docLink.innerHTML = docLinkHtml;\n",
              "          element.appendChild(docLink);\n",
              "        }\n",
              "      </script>\n",
              "    </div>\n",
              "  </div>\n",
              "  "
            ]
          },
          "metadata": {},
          "execution_count": 36
        }
      ],
      "source": [
        "df=pd.concat([df,Prod_Category],axis=1)\n",
        "df.head()"
      ]
    },
    {
      "cell_type": "code",
      "execution_count": 37,
      "metadata": {
        "colab": {
          "base_uri": "https://localhost:8080/",
          "height": 612
        },
        "id": "Pa9v15qfC1tT",
        "outputId": "e91d7a8d-8669-4fe3-b35d-d28c501203f1"
      },
      "outputs": [
        {
          "output_type": "execute_result",
          "data": {
            "text/plain": [
              "  InvoiceNo StockCode                          Description  Quantity  \\\n",
              "0    536365    85123A   WHITE HANGING HEART T-LIGHT HOLDER         6   \n",
              "1    536365     71053                  WHITE METAL LANTERN         6   \n",
              "2    536365    84406B       CREAM CUPID HEARTS COAT HANGER         8   \n",
              "3    536365    84029G  KNITTED UNION FLAG HOT WATER BOTTLE         6   \n",
              "4    536365    84029E       RED WOOLLY HOTTIE WHITE HEART.         6   \n",
              "\n",
              "      InvoiceDate  UnitPrice  CustomerID         Country  product_categ  \\\n",
              "0  12/1/2010 8:26       2.55     17850.0  United Kingdom              8   \n",
              "1  12/1/2010 8:26       3.39     17850.0  United Kingdom              6   \n",
              "2  12/1/2010 8:26       2.75     17850.0  United Kingdom              8   \n",
              "3  12/1/2010 8:26       3.39     17850.0  United Kingdom              1   \n",
              "4  12/1/2010 8:26       3.39     17850.0  United Kingdom              8   \n",
              "\n",
              "   prod_categ_0  ...  prod_categ_2  prod_categ_3  prod_categ_4  prod_categ_5  \\\n",
              "0             0  ...             0             0             0             0   \n",
              "1             0  ...             0             0             0             0   \n",
              "2             0  ...             0             0             0             0   \n",
              "3             0  ...             0             0             0             0   \n",
              "4             0  ...             0             0             0             0   \n",
              "\n",
              "   prod_categ_6  prod_categ_7  prod_categ_8  prod_categ_9  prod_categ_10  \\\n",
              "0             0             0             1             0              0   \n",
              "1             1             0             0             0              0   \n",
              "2             0             0             1             0              0   \n",
              "3             0             0             0             0              0   \n",
              "4             0             0             1             0              0   \n",
              "\n",
              "   prod_categ_11  \n",
              "0              0  \n",
              "1              0  \n",
              "2              0  \n",
              "3              0  \n",
              "4              0  \n",
              "\n",
              "[5 rows x 21 columns]"
            ],
            "text/html": [
              "\n",
              "  <div id=\"df-2fe9494d-186a-469b-9e6d-a90691bbba93\">\n",
              "    <div class=\"colab-df-container\">\n",
              "      <div>\n",
              "<style scoped>\n",
              "    .dataframe tbody tr th:only-of-type {\n",
              "        vertical-align: middle;\n",
              "    }\n",
              "\n",
              "    .dataframe tbody tr th {\n",
              "        vertical-align: top;\n",
              "    }\n",
              "\n",
              "    .dataframe thead th {\n",
              "        text-align: right;\n",
              "    }\n",
              "</style>\n",
              "<table border=\"1\" class=\"dataframe\">\n",
              "  <thead>\n",
              "    <tr style=\"text-align: right;\">\n",
              "      <th></th>\n",
              "      <th>InvoiceNo</th>\n",
              "      <th>StockCode</th>\n",
              "      <th>Description</th>\n",
              "      <th>Quantity</th>\n",
              "      <th>InvoiceDate</th>\n",
              "      <th>UnitPrice</th>\n",
              "      <th>CustomerID</th>\n",
              "      <th>Country</th>\n",
              "      <th>product_categ</th>\n",
              "      <th>prod_categ_0</th>\n",
              "      <th>...</th>\n",
              "      <th>prod_categ_2</th>\n",
              "      <th>prod_categ_3</th>\n",
              "      <th>prod_categ_4</th>\n",
              "      <th>prod_categ_5</th>\n",
              "      <th>prod_categ_6</th>\n",
              "      <th>prod_categ_7</th>\n",
              "      <th>prod_categ_8</th>\n",
              "      <th>prod_categ_9</th>\n",
              "      <th>prod_categ_10</th>\n",
              "      <th>prod_categ_11</th>\n",
              "    </tr>\n",
              "  </thead>\n",
              "  <tbody>\n",
              "    <tr>\n",
              "      <th>0</th>\n",
              "      <td>536365</td>\n",
              "      <td>85123A</td>\n",
              "      <td>WHITE HANGING HEART T-LIGHT HOLDER</td>\n",
              "      <td>6</td>\n",
              "      <td>12/1/2010 8:26</td>\n",
              "      <td>2.55</td>\n",
              "      <td>17850.0</td>\n",
              "      <td>United Kingdom</td>\n",
              "      <td>8</td>\n",
              "      <td>0</td>\n",
              "      <td>...</td>\n",
              "      <td>0</td>\n",
              "      <td>0</td>\n",
              "      <td>0</td>\n",
              "      <td>0</td>\n",
              "      <td>0</td>\n",
              "      <td>0</td>\n",
              "      <td>1</td>\n",
              "      <td>0</td>\n",
              "      <td>0</td>\n",
              "      <td>0</td>\n",
              "    </tr>\n",
              "    <tr>\n",
              "      <th>1</th>\n",
              "      <td>536365</td>\n",
              "      <td>71053</td>\n",
              "      <td>WHITE METAL LANTERN</td>\n",
              "      <td>6</td>\n",
              "      <td>12/1/2010 8:26</td>\n",
              "      <td>3.39</td>\n",
              "      <td>17850.0</td>\n",
              "      <td>United Kingdom</td>\n",
              "      <td>6</td>\n",
              "      <td>0</td>\n",
              "      <td>...</td>\n",
              "      <td>0</td>\n",
              "      <td>0</td>\n",
              "      <td>0</td>\n",
              "      <td>0</td>\n",
              "      <td>1</td>\n",
              "      <td>0</td>\n",
              "      <td>0</td>\n",
              "      <td>0</td>\n",
              "      <td>0</td>\n",
              "      <td>0</td>\n",
              "    </tr>\n",
              "    <tr>\n",
              "      <th>2</th>\n",
              "      <td>536365</td>\n",
              "      <td>84406B</td>\n",
              "      <td>CREAM CUPID HEARTS COAT HANGER</td>\n",
              "      <td>8</td>\n",
              "      <td>12/1/2010 8:26</td>\n",
              "      <td>2.75</td>\n",
              "      <td>17850.0</td>\n",
              "      <td>United Kingdom</td>\n",
              "      <td>8</td>\n",
              "      <td>0</td>\n",
              "      <td>...</td>\n",
              "      <td>0</td>\n",
              "      <td>0</td>\n",
              "      <td>0</td>\n",
              "      <td>0</td>\n",
              "      <td>0</td>\n",
              "      <td>0</td>\n",
              "      <td>1</td>\n",
              "      <td>0</td>\n",
              "      <td>0</td>\n",
              "      <td>0</td>\n",
              "    </tr>\n",
              "    <tr>\n",
              "      <th>3</th>\n",
              "      <td>536365</td>\n",
              "      <td>84029G</td>\n",
              "      <td>KNITTED UNION FLAG HOT WATER BOTTLE</td>\n",
              "      <td>6</td>\n",
              "      <td>12/1/2010 8:26</td>\n",
              "      <td>3.39</td>\n",
              "      <td>17850.0</td>\n",
              "      <td>United Kingdom</td>\n",
              "      <td>1</td>\n",
              "      <td>0</td>\n",
              "      <td>...</td>\n",
              "      <td>0</td>\n",
              "      <td>0</td>\n",
              "      <td>0</td>\n",
              "      <td>0</td>\n",
              "      <td>0</td>\n",
              "      <td>0</td>\n",
              "      <td>0</td>\n",
              "      <td>0</td>\n",
              "      <td>0</td>\n",
              "      <td>0</td>\n",
              "    </tr>\n",
              "    <tr>\n",
              "      <th>4</th>\n",
              "      <td>536365</td>\n",
              "      <td>84029E</td>\n",
              "      <td>RED WOOLLY HOTTIE WHITE HEART.</td>\n",
              "      <td>6</td>\n",
              "      <td>12/1/2010 8:26</td>\n",
              "      <td>3.39</td>\n",
              "      <td>17850.0</td>\n",
              "      <td>United Kingdom</td>\n",
              "      <td>8</td>\n",
              "      <td>0</td>\n",
              "      <td>...</td>\n",
              "      <td>0</td>\n",
              "      <td>0</td>\n",
              "      <td>0</td>\n",
              "      <td>0</td>\n",
              "      <td>0</td>\n",
              "      <td>0</td>\n",
              "      <td>1</td>\n",
              "      <td>0</td>\n",
              "      <td>0</td>\n",
              "      <td>0</td>\n",
              "    </tr>\n",
              "  </tbody>\n",
              "</table>\n",
              "<p>5 rows × 21 columns</p>\n",
              "</div>\n",
              "      <button class=\"colab-df-convert\" onclick=\"convertToInteractive('df-2fe9494d-186a-469b-9e6d-a90691bbba93')\"\n",
              "              title=\"Convert this dataframe to an interactive table.\"\n",
              "              style=\"display:none;\">\n",
              "        \n",
              "  <svg xmlns=\"http://www.w3.org/2000/svg\" height=\"24px\"viewBox=\"0 0 24 24\"\n",
              "       width=\"24px\">\n",
              "    <path d=\"M0 0h24v24H0V0z\" fill=\"none\"/>\n",
              "    <path d=\"M18.56 5.44l.94 2.06.94-2.06 2.06-.94-2.06-.94-.94-2.06-.94 2.06-2.06.94zm-11 1L8.5 8.5l.94-2.06 2.06-.94-2.06-.94L8.5 2.5l-.94 2.06-2.06.94zm10 10l.94 2.06.94-2.06 2.06-.94-2.06-.94-.94-2.06-.94 2.06-2.06.94z\"/><path d=\"M17.41 7.96l-1.37-1.37c-.4-.4-.92-.59-1.43-.59-.52 0-1.04.2-1.43.59L10.3 9.45l-7.72 7.72c-.78.78-.78 2.05 0 2.83L4 21.41c.39.39.9.59 1.41.59.51 0 1.02-.2 1.41-.59l7.78-7.78 2.81-2.81c.8-.78.8-2.07 0-2.86zM5.41 20L4 18.59l7.72-7.72 1.47 1.35L5.41 20z\"/>\n",
              "  </svg>\n",
              "      </button>\n",
              "      \n",
              "  <style>\n",
              "    .colab-df-container {\n",
              "      display:flex;\n",
              "      flex-wrap:wrap;\n",
              "      gap: 12px;\n",
              "    }\n",
              "\n",
              "    .colab-df-convert {\n",
              "      background-color: #E8F0FE;\n",
              "      border: none;\n",
              "      border-radius: 50%;\n",
              "      cursor: pointer;\n",
              "      display: none;\n",
              "      fill: #1967D2;\n",
              "      height: 32px;\n",
              "      padding: 0 0 0 0;\n",
              "      width: 32px;\n",
              "    }\n",
              "\n",
              "    .colab-df-convert:hover {\n",
              "      background-color: #E2EBFA;\n",
              "      box-shadow: 0px 1px 2px rgba(60, 64, 67, 0.3), 0px 1px 3px 1px rgba(60, 64, 67, 0.15);\n",
              "      fill: #174EA6;\n",
              "    }\n",
              "\n",
              "    [theme=dark] .colab-df-convert {\n",
              "      background-color: #3B4455;\n",
              "      fill: #D2E3FC;\n",
              "    }\n",
              "\n",
              "    [theme=dark] .colab-df-convert:hover {\n",
              "      background-color: #434B5C;\n",
              "      box-shadow: 0px 1px 3px 1px rgba(0, 0, 0, 0.15);\n",
              "      filter: drop-shadow(0px 1px 2px rgba(0, 0, 0, 0.3));\n",
              "      fill: #FFFFFF;\n",
              "    }\n",
              "  </style>\n",
              "\n",
              "      <script>\n",
              "        const buttonEl =\n",
              "          document.querySelector('#df-2fe9494d-186a-469b-9e6d-a90691bbba93 button.colab-df-convert');\n",
              "        buttonEl.style.display =\n",
              "          google.colab.kernel.accessAllowed ? 'block' : 'none';\n",
              "\n",
              "        async function convertToInteractive(key) {\n",
              "          const element = document.querySelector('#df-2fe9494d-186a-469b-9e6d-a90691bbba93');\n",
              "          const dataTable =\n",
              "            await google.colab.kernel.invokeFunction('convertToInteractive',\n",
              "                                                     [key], {});\n",
              "          if (!dataTable) return;\n",
              "\n",
              "          const docLinkHtml = 'Like what you see? Visit the ' +\n",
              "            '<a target=\"_blank\" href=https://colab.research.google.com/notebooks/data_table.ipynb>data table notebook</a>'\n",
              "            + ' to learn more about interactive tables.';\n",
              "          element.innerHTML = '';\n",
              "          dataTable['output_type'] = 'display_data';\n",
              "          await google.colab.output.renderOutput(dataTable, element);\n",
              "          const docLink = document.createElement('div');\n",
              "          docLink.innerHTML = docLinkHtml;\n",
              "          element.appendChild(docLink);\n",
              "        }\n",
              "      </script>\n",
              "    </div>\n",
              "  </div>\n",
              "  "
            ]
          },
          "metadata": {},
          "execution_count": 37
        }
      ],
      "source": [
        "df_customer = df.copy(deep = True)\n",
        "df_customer.head()"
      ]
    },
    {
      "cell_type": "markdown",
      "metadata": {
        "id": "AeDKkWchDOLR"
      },
      "source": [
        "Dropping number of rows with unit price as zero(0)"
      ]
    },
    {
      "cell_type": "code",
      "execution_count": 38,
      "metadata": {
        "id": "0VXsl-v-DdLQ"
      },
      "outputs": [],
      "source": [
        "df_customer = df_customer[df_customer['UnitPrice'] != 0]"
      ]
    },
    {
      "cell_type": "markdown",
      "metadata": {
        "id": "ox0Ao0gVDvyp"
      },
      "source": [
        "Dropping rows with negative quantity"
      ]
    },
    {
      "cell_type": "code",
      "execution_count": 39,
      "metadata": {
        "id": "7f5zQ1OVD_Ne"
      },
      "outputs": [],
      "source": [
        "df_customer=df_customer[df_customer['Quantity'] > 0]"
      ]
    },
    {
      "cell_type": "code",
      "execution_count": 40,
      "metadata": {
        "colab": {
          "base_uri": "https://localhost:8080/",
          "height": 612
        },
        "id": "l4M2K6o-EM5x",
        "outputId": "50c23c71-3b52-492e-d609-bb6fa601b806"
      },
      "outputs": [
        {
          "output_type": "execute_result",
          "data": {
            "text/plain": [
              "  InvoiceNo StockCode                          Description  Quantity  \\\n",
              "0    536365    85123A   WHITE HANGING HEART T-LIGHT HOLDER         6   \n",
              "1    536365     71053                  WHITE METAL LANTERN         6   \n",
              "2    536365    84406B       CREAM CUPID HEARTS COAT HANGER         8   \n",
              "3    536365    84029G  KNITTED UNION FLAG HOT WATER BOTTLE         6   \n",
              "4    536365    84029E       RED WOOLLY HOTTIE WHITE HEART.         6   \n",
              "\n",
              "      InvoiceDate  UnitPrice  CustomerID         Country  product_categ  \\\n",
              "0  12/1/2010 8:26       2.55     17850.0  United Kingdom              8   \n",
              "1  12/1/2010 8:26       3.39     17850.0  United Kingdom              6   \n",
              "2  12/1/2010 8:26       2.75     17850.0  United Kingdom              8   \n",
              "3  12/1/2010 8:26       3.39     17850.0  United Kingdom              1   \n",
              "4  12/1/2010 8:26       3.39     17850.0  United Kingdom              8   \n",
              "\n",
              "   prod_categ_0  ...  prod_categ_2  prod_categ_3  prod_categ_4  prod_categ_5  \\\n",
              "0             0  ...             0             0             0             0   \n",
              "1             0  ...             0             0             0             0   \n",
              "2             0  ...             0             0             0             0   \n",
              "3             0  ...             0             0             0             0   \n",
              "4             0  ...             0             0             0             0   \n",
              "\n",
              "   prod_categ_6  prod_categ_7  prod_categ_8  prod_categ_9  prod_categ_10  \\\n",
              "0             0             0             1             0              0   \n",
              "1             1             0             0             0              0   \n",
              "2             0             0             1             0              0   \n",
              "3             0             0             0             0              0   \n",
              "4             0             0             1             0              0   \n",
              "\n",
              "   prod_categ_11  \n",
              "0              0  \n",
              "1              0  \n",
              "2              0  \n",
              "3              0  \n",
              "4              0  \n",
              "\n",
              "[5 rows x 21 columns]"
            ],
            "text/html": [
              "\n",
              "  <div id=\"df-a2f849f1-96e9-4356-8e59-6d8765703d1a\">\n",
              "    <div class=\"colab-df-container\">\n",
              "      <div>\n",
              "<style scoped>\n",
              "    .dataframe tbody tr th:only-of-type {\n",
              "        vertical-align: middle;\n",
              "    }\n",
              "\n",
              "    .dataframe tbody tr th {\n",
              "        vertical-align: top;\n",
              "    }\n",
              "\n",
              "    .dataframe thead th {\n",
              "        text-align: right;\n",
              "    }\n",
              "</style>\n",
              "<table border=\"1\" class=\"dataframe\">\n",
              "  <thead>\n",
              "    <tr style=\"text-align: right;\">\n",
              "      <th></th>\n",
              "      <th>InvoiceNo</th>\n",
              "      <th>StockCode</th>\n",
              "      <th>Description</th>\n",
              "      <th>Quantity</th>\n",
              "      <th>InvoiceDate</th>\n",
              "      <th>UnitPrice</th>\n",
              "      <th>CustomerID</th>\n",
              "      <th>Country</th>\n",
              "      <th>product_categ</th>\n",
              "      <th>prod_categ_0</th>\n",
              "      <th>...</th>\n",
              "      <th>prod_categ_2</th>\n",
              "      <th>prod_categ_3</th>\n",
              "      <th>prod_categ_4</th>\n",
              "      <th>prod_categ_5</th>\n",
              "      <th>prod_categ_6</th>\n",
              "      <th>prod_categ_7</th>\n",
              "      <th>prod_categ_8</th>\n",
              "      <th>prod_categ_9</th>\n",
              "      <th>prod_categ_10</th>\n",
              "      <th>prod_categ_11</th>\n",
              "    </tr>\n",
              "  </thead>\n",
              "  <tbody>\n",
              "    <tr>\n",
              "      <th>0</th>\n",
              "      <td>536365</td>\n",
              "      <td>85123A</td>\n",
              "      <td>WHITE HANGING HEART T-LIGHT HOLDER</td>\n",
              "      <td>6</td>\n",
              "      <td>12/1/2010 8:26</td>\n",
              "      <td>2.55</td>\n",
              "      <td>17850.0</td>\n",
              "      <td>United Kingdom</td>\n",
              "      <td>8</td>\n",
              "      <td>0</td>\n",
              "      <td>...</td>\n",
              "      <td>0</td>\n",
              "      <td>0</td>\n",
              "      <td>0</td>\n",
              "      <td>0</td>\n",
              "      <td>0</td>\n",
              "      <td>0</td>\n",
              "      <td>1</td>\n",
              "      <td>0</td>\n",
              "      <td>0</td>\n",
              "      <td>0</td>\n",
              "    </tr>\n",
              "    <tr>\n",
              "      <th>1</th>\n",
              "      <td>536365</td>\n",
              "      <td>71053</td>\n",
              "      <td>WHITE METAL LANTERN</td>\n",
              "      <td>6</td>\n",
              "      <td>12/1/2010 8:26</td>\n",
              "      <td>3.39</td>\n",
              "      <td>17850.0</td>\n",
              "      <td>United Kingdom</td>\n",
              "      <td>6</td>\n",
              "      <td>0</td>\n",
              "      <td>...</td>\n",
              "      <td>0</td>\n",
              "      <td>0</td>\n",
              "      <td>0</td>\n",
              "      <td>0</td>\n",
              "      <td>1</td>\n",
              "      <td>0</td>\n",
              "      <td>0</td>\n",
              "      <td>0</td>\n",
              "      <td>0</td>\n",
              "      <td>0</td>\n",
              "    </tr>\n",
              "    <tr>\n",
              "      <th>2</th>\n",
              "      <td>536365</td>\n",
              "      <td>84406B</td>\n",
              "      <td>CREAM CUPID HEARTS COAT HANGER</td>\n",
              "      <td>8</td>\n",
              "      <td>12/1/2010 8:26</td>\n",
              "      <td>2.75</td>\n",
              "      <td>17850.0</td>\n",
              "      <td>United Kingdom</td>\n",
              "      <td>8</td>\n",
              "      <td>0</td>\n",
              "      <td>...</td>\n",
              "      <td>0</td>\n",
              "      <td>0</td>\n",
              "      <td>0</td>\n",
              "      <td>0</td>\n",
              "      <td>0</td>\n",
              "      <td>0</td>\n",
              "      <td>1</td>\n",
              "      <td>0</td>\n",
              "      <td>0</td>\n",
              "      <td>0</td>\n",
              "    </tr>\n",
              "    <tr>\n",
              "      <th>3</th>\n",
              "      <td>536365</td>\n",
              "      <td>84029G</td>\n",
              "      <td>KNITTED UNION FLAG HOT WATER BOTTLE</td>\n",
              "      <td>6</td>\n",
              "      <td>12/1/2010 8:26</td>\n",
              "      <td>3.39</td>\n",
              "      <td>17850.0</td>\n",
              "      <td>United Kingdom</td>\n",
              "      <td>1</td>\n",
              "      <td>0</td>\n",
              "      <td>...</td>\n",
              "      <td>0</td>\n",
              "      <td>0</td>\n",
              "      <td>0</td>\n",
              "      <td>0</td>\n",
              "      <td>0</td>\n",
              "      <td>0</td>\n",
              "      <td>0</td>\n",
              "      <td>0</td>\n",
              "      <td>0</td>\n",
              "      <td>0</td>\n",
              "    </tr>\n",
              "    <tr>\n",
              "      <th>4</th>\n",
              "      <td>536365</td>\n",
              "      <td>84029E</td>\n",
              "      <td>RED WOOLLY HOTTIE WHITE HEART.</td>\n",
              "      <td>6</td>\n",
              "      <td>12/1/2010 8:26</td>\n",
              "      <td>3.39</td>\n",
              "      <td>17850.0</td>\n",
              "      <td>United Kingdom</td>\n",
              "      <td>8</td>\n",
              "      <td>0</td>\n",
              "      <td>...</td>\n",
              "      <td>0</td>\n",
              "      <td>0</td>\n",
              "      <td>0</td>\n",
              "      <td>0</td>\n",
              "      <td>0</td>\n",
              "      <td>0</td>\n",
              "      <td>1</td>\n",
              "      <td>0</td>\n",
              "      <td>0</td>\n",
              "      <td>0</td>\n",
              "    </tr>\n",
              "  </tbody>\n",
              "</table>\n",
              "<p>5 rows × 21 columns</p>\n",
              "</div>\n",
              "      <button class=\"colab-df-convert\" onclick=\"convertToInteractive('df-a2f849f1-96e9-4356-8e59-6d8765703d1a')\"\n",
              "              title=\"Convert this dataframe to an interactive table.\"\n",
              "              style=\"display:none;\">\n",
              "        \n",
              "  <svg xmlns=\"http://www.w3.org/2000/svg\" height=\"24px\"viewBox=\"0 0 24 24\"\n",
              "       width=\"24px\">\n",
              "    <path d=\"M0 0h24v24H0V0z\" fill=\"none\"/>\n",
              "    <path d=\"M18.56 5.44l.94 2.06.94-2.06 2.06-.94-2.06-.94-.94-2.06-.94 2.06-2.06.94zm-11 1L8.5 8.5l.94-2.06 2.06-.94-2.06-.94L8.5 2.5l-.94 2.06-2.06.94zm10 10l.94 2.06.94-2.06 2.06-.94-2.06-.94-.94-2.06-.94 2.06-2.06.94z\"/><path d=\"M17.41 7.96l-1.37-1.37c-.4-.4-.92-.59-1.43-.59-.52 0-1.04.2-1.43.59L10.3 9.45l-7.72 7.72c-.78.78-.78 2.05 0 2.83L4 21.41c.39.39.9.59 1.41.59.51 0 1.02-.2 1.41-.59l7.78-7.78 2.81-2.81c.8-.78.8-2.07 0-2.86zM5.41 20L4 18.59l7.72-7.72 1.47 1.35L5.41 20z\"/>\n",
              "  </svg>\n",
              "      </button>\n",
              "      \n",
              "  <style>\n",
              "    .colab-df-container {\n",
              "      display:flex;\n",
              "      flex-wrap:wrap;\n",
              "      gap: 12px;\n",
              "    }\n",
              "\n",
              "    .colab-df-convert {\n",
              "      background-color: #E8F0FE;\n",
              "      border: none;\n",
              "      border-radius: 50%;\n",
              "      cursor: pointer;\n",
              "      display: none;\n",
              "      fill: #1967D2;\n",
              "      height: 32px;\n",
              "      padding: 0 0 0 0;\n",
              "      width: 32px;\n",
              "    }\n",
              "\n",
              "    .colab-df-convert:hover {\n",
              "      background-color: #E2EBFA;\n",
              "      box-shadow: 0px 1px 2px rgba(60, 64, 67, 0.3), 0px 1px 3px 1px rgba(60, 64, 67, 0.15);\n",
              "      fill: #174EA6;\n",
              "    }\n",
              "\n",
              "    [theme=dark] .colab-df-convert {\n",
              "      background-color: #3B4455;\n",
              "      fill: #D2E3FC;\n",
              "    }\n",
              "\n",
              "    [theme=dark] .colab-df-convert:hover {\n",
              "      background-color: #434B5C;\n",
              "      box-shadow: 0px 1px 3px 1px rgba(0, 0, 0, 0.15);\n",
              "      filter: drop-shadow(0px 1px 2px rgba(0, 0, 0, 0.3));\n",
              "      fill: #FFFFFF;\n",
              "    }\n",
              "  </style>\n",
              "\n",
              "      <script>\n",
              "        const buttonEl =\n",
              "          document.querySelector('#df-a2f849f1-96e9-4356-8e59-6d8765703d1a button.colab-df-convert');\n",
              "        buttonEl.style.display =\n",
              "          google.colab.kernel.accessAllowed ? 'block' : 'none';\n",
              "\n",
              "        async function convertToInteractive(key) {\n",
              "          const element = document.querySelector('#df-a2f849f1-96e9-4356-8e59-6d8765703d1a');\n",
              "          const dataTable =\n",
              "            await google.colab.kernel.invokeFunction('convertToInteractive',\n",
              "                                                     [key], {});\n",
              "          if (!dataTable) return;\n",
              "\n",
              "          const docLinkHtml = 'Like what you see? Visit the ' +\n",
              "            '<a target=\"_blank\" href=https://colab.research.google.com/notebooks/data_table.ipynb>data table notebook</a>'\n",
              "            + ' to learn more about interactive tables.';\n",
              "          element.innerHTML = '';\n",
              "          dataTable['output_type'] = 'display_data';\n",
              "          await google.colab.output.renderOutput(dataTable, element);\n",
              "          const docLink = document.createElement('div');\n",
              "          docLink.innerHTML = docLinkHtml;\n",
              "          element.appendChild(docLink);\n",
              "        }\n",
              "      </script>\n",
              "    </div>\n",
              "  </div>\n",
              "  "
            ]
          },
          "metadata": {},
          "execution_count": 40
        }
      ],
      "source": [
        "df_customer.head()"
      ]
    },
    {
      "cell_type": "markdown",
      "metadata": {
        "id": "jwgPhdrKEUki"
      },
      "source": [
        "Dropping irrelevant columns for calculating customer clusters"
      ]
    },
    {
      "cell_type": "code",
      "execution_count": 41,
      "metadata": {
        "id": "pFeZvhuaElAS"
      },
      "outputs": [],
      "source": [
        "df_customer = df_customer.drop(columns =['InvoiceNo','StockCode', 'product_categ', 'Quantity'])"
      ]
    },
    {
      "cell_type": "code",
      "execution_count": 42,
      "metadata": {
        "colab": {
          "base_uri": "https://localhost:8080/",
          "height": 582
        },
        "id": "wzMkxqSwFkLP",
        "outputId": "30f39362-742d-464e-b2ab-91c96238cc38"
      },
      "outputs": [
        {
          "output_type": "execute_result",
          "data": {
            "text/plain": [
              "                           Description     InvoiceDate  UnitPrice  CustomerID  \\\n",
              "0   WHITE HANGING HEART T-LIGHT HOLDER  12/1/2010 8:26       2.55     17850.0   \n",
              "1                  WHITE METAL LANTERN  12/1/2010 8:26       3.39     17850.0   \n",
              "2       CREAM CUPID HEARTS COAT HANGER  12/1/2010 8:26       2.75     17850.0   \n",
              "3  KNITTED UNION FLAG HOT WATER BOTTLE  12/1/2010 8:26       3.39     17850.0   \n",
              "4       RED WOOLLY HOTTIE WHITE HEART.  12/1/2010 8:26       3.39     17850.0   \n",
              "\n",
              "          Country  prod_categ_0  prod_categ_1  prod_categ_2  prod_categ_3  \\\n",
              "0  United Kingdom             0             0             0             0   \n",
              "1  United Kingdom             0             0             0             0   \n",
              "2  United Kingdom             0             0             0             0   \n",
              "3  United Kingdom             0             1             0             0   \n",
              "4  United Kingdom             0             0             0             0   \n",
              "\n",
              "   prod_categ_4  prod_categ_5  prod_categ_6  prod_categ_7  prod_categ_8  \\\n",
              "0             0             0             0             0             1   \n",
              "1             0             0             1             0             0   \n",
              "2             0             0             0             0             1   \n",
              "3             0             0             0             0             0   \n",
              "4             0             0             0             0             1   \n",
              "\n",
              "   prod_categ_9  prod_categ_10  prod_categ_11  \n",
              "0             0              0              0  \n",
              "1             0              0              0  \n",
              "2             0              0              0  \n",
              "3             0              0              0  \n",
              "4             0              0              0  "
            ],
            "text/html": [
              "\n",
              "  <div id=\"df-34c833c9-c66f-4a9c-a403-0582dc0fe3c2\">\n",
              "    <div class=\"colab-df-container\">\n",
              "      <div>\n",
              "<style scoped>\n",
              "    .dataframe tbody tr th:only-of-type {\n",
              "        vertical-align: middle;\n",
              "    }\n",
              "\n",
              "    .dataframe tbody tr th {\n",
              "        vertical-align: top;\n",
              "    }\n",
              "\n",
              "    .dataframe thead th {\n",
              "        text-align: right;\n",
              "    }\n",
              "</style>\n",
              "<table border=\"1\" class=\"dataframe\">\n",
              "  <thead>\n",
              "    <tr style=\"text-align: right;\">\n",
              "      <th></th>\n",
              "      <th>Description</th>\n",
              "      <th>InvoiceDate</th>\n",
              "      <th>UnitPrice</th>\n",
              "      <th>CustomerID</th>\n",
              "      <th>Country</th>\n",
              "      <th>prod_categ_0</th>\n",
              "      <th>prod_categ_1</th>\n",
              "      <th>prod_categ_2</th>\n",
              "      <th>prod_categ_3</th>\n",
              "      <th>prod_categ_4</th>\n",
              "      <th>prod_categ_5</th>\n",
              "      <th>prod_categ_6</th>\n",
              "      <th>prod_categ_7</th>\n",
              "      <th>prod_categ_8</th>\n",
              "      <th>prod_categ_9</th>\n",
              "      <th>prod_categ_10</th>\n",
              "      <th>prod_categ_11</th>\n",
              "    </tr>\n",
              "  </thead>\n",
              "  <tbody>\n",
              "    <tr>\n",
              "      <th>0</th>\n",
              "      <td>WHITE HANGING HEART T-LIGHT HOLDER</td>\n",
              "      <td>12/1/2010 8:26</td>\n",
              "      <td>2.55</td>\n",
              "      <td>17850.0</td>\n",
              "      <td>United Kingdom</td>\n",
              "      <td>0</td>\n",
              "      <td>0</td>\n",
              "      <td>0</td>\n",
              "      <td>0</td>\n",
              "      <td>0</td>\n",
              "      <td>0</td>\n",
              "      <td>0</td>\n",
              "      <td>0</td>\n",
              "      <td>1</td>\n",
              "      <td>0</td>\n",
              "      <td>0</td>\n",
              "      <td>0</td>\n",
              "    </tr>\n",
              "    <tr>\n",
              "      <th>1</th>\n",
              "      <td>WHITE METAL LANTERN</td>\n",
              "      <td>12/1/2010 8:26</td>\n",
              "      <td>3.39</td>\n",
              "      <td>17850.0</td>\n",
              "      <td>United Kingdom</td>\n",
              "      <td>0</td>\n",
              "      <td>0</td>\n",
              "      <td>0</td>\n",
              "      <td>0</td>\n",
              "      <td>0</td>\n",
              "      <td>0</td>\n",
              "      <td>1</td>\n",
              "      <td>0</td>\n",
              "      <td>0</td>\n",
              "      <td>0</td>\n",
              "      <td>0</td>\n",
              "      <td>0</td>\n",
              "    </tr>\n",
              "    <tr>\n",
              "      <th>2</th>\n",
              "      <td>CREAM CUPID HEARTS COAT HANGER</td>\n",
              "      <td>12/1/2010 8:26</td>\n",
              "      <td>2.75</td>\n",
              "      <td>17850.0</td>\n",
              "      <td>United Kingdom</td>\n",
              "      <td>0</td>\n",
              "      <td>0</td>\n",
              "      <td>0</td>\n",
              "      <td>0</td>\n",
              "      <td>0</td>\n",
              "      <td>0</td>\n",
              "      <td>0</td>\n",
              "      <td>0</td>\n",
              "      <td>1</td>\n",
              "      <td>0</td>\n",
              "      <td>0</td>\n",
              "      <td>0</td>\n",
              "    </tr>\n",
              "    <tr>\n",
              "      <th>3</th>\n",
              "      <td>KNITTED UNION FLAG HOT WATER BOTTLE</td>\n",
              "      <td>12/1/2010 8:26</td>\n",
              "      <td>3.39</td>\n",
              "      <td>17850.0</td>\n",
              "      <td>United Kingdom</td>\n",
              "      <td>0</td>\n",
              "      <td>1</td>\n",
              "      <td>0</td>\n",
              "      <td>0</td>\n",
              "      <td>0</td>\n",
              "      <td>0</td>\n",
              "      <td>0</td>\n",
              "      <td>0</td>\n",
              "      <td>0</td>\n",
              "      <td>0</td>\n",
              "      <td>0</td>\n",
              "      <td>0</td>\n",
              "    </tr>\n",
              "    <tr>\n",
              "      <th>4</th>\n",
              "      <td>RED WOOLLY HOTTIE WHITE HEART.</td>\n",
              "      <td>12/1/2010 8:26</td>\n",
              "      <td>3.39</td>\n",
              "      <td>17850.0</td>\n",
              "      <td>United Kingdom</td>\n",
              "      <td>0</td>\n",
              "      <td>0</td>\n",
              "      <td>0</td>\n",
              "      <td>0</td>\n",
              "      <td>0</td>\n",
              "      <td>0</td>\n",
              "      <td>0</td>\n",
              "      <td>0</td>\n",
              "      <td>1</td>\n",
              "      <td>0</td>\n",
              "      <td>0</td>\n",
              "      <td>0</td>\n",
              "    </tr>\n",
              "  </tbody>\n",
              "</table>\n",
              "</div>\n",
              "      <button class=\"colab-df-convert\" onclick=\"convertToInteractive('df-34c833c9-c66f-4a9c-a403-0582dc0fe3c2')\"\n",
              "              title=\"Convert this dataframe to an interactive table.\"\n",
              "              style=\"display:none;\">\n",
              "        \n",
              "  <svg xmlns=\"http://www.w3.org/2000/svg\" height=\"24px\"viewBox=\"0 0 24 24\"\n",
              "       width=\"24px\">\n",
              "    <path d=\"M0 0h24v24H0V0z\" fill=\"none\"/>\n",
              "    <path d=\"M18.56 5.44l.94 2.06.94-2.06 2.06-.94-2.06-.94-.94-2.06-.94 2.06-2.06.94zm-11 1L8.5 8.5l.94-2.06 2.06-.94-2.06-.94L8.5 2.5l-.94 2.06-2.06.94zm10 10l.94 2.06.94-2.06 2.06-.94-2.06-.94-.94-2.06-.94 2.06-2.06.94z\"/><path d=\"M17.41 7.96l-1.37-1.37c-.4-.4-.92-.59-1.43-.59-.52 0-1.04.2-1.43.59L10.3 9.45l-7.72 7.72c-.78.78-.78 2.05 0 2.83L4 21.41c.39.39.9.59 1.41.59.51 0 1.02-.2 1.41-.59l7.78-7.78 2.81-2.81c.8-.78.8-2.07 0-2.86zM5.41 20L4 18.59l7.72-7.72 1.47 1.35L5.41 20z\"/>\n",
              "  </svg>\n",
              "      </button>\n",
              "      \n",
              "  <style>\n",
              "    .colab-df-container {\n",
              "      display:flex;\n",
              "      flex-wrap:wrap;\n",
              "      gap: 12px;\n",
              "    }\n",
              "\n",
              "    .colab-df-convert {\n",
              "      background-color: #E8F0FE;\n",
              "      border: none;\n",
              "      border-radius: 50%;\n",
              "      cursor: pointer;\n",
              "      display: none;\n",
              "      fill: #1967D2;\n",
              "      height: 32px;\n",
              "      padding: 0 0 0 0;\n",
              "      width: 32px;\n",
              "    }\n",
              "\n",
              "    .colab-df-convert:hover {\n",
              "      background-color: #E2EBFA;\n",
              "      box-shadow: 0px 1px 2px rgba(60, 64, 67, 0.3), 0px 1px 3px 1px rgba(60, 64, 67, 0.15);\n",
              "      fill: #174EA6;\n",
              "    }\n",
              "\n",
              "    [theme=dark] .colab-df-convert {\n",
              "      background-color: #3B4455;\n",
              "      fill: #D2E3FC;\n",
              "    }\n",
              "\n",
              "    [theme=dark] .colab-df-convert:hover {\n",
              "      background-color: #434B5C;\n",
              "      box-shadow: 0px 1px 3px 1px rgba(0, 0, 0, 0.15);\n",
              "      filter: drop-shadow(0px 1px 2px rgba(0, 0, 0, 0.3));\n",
              "      fill: #FFFFFF;\n",
              "    }\n",
              "  </style>\n",
              "\n",
              "      <script>\n",
              "        const buttonEl =\n",
              "          document.querySelector('#df-34c833c9-c66f-4a9c-a403-0582dc0fe3c2 button.colab-df-convert');\n",
              "        buttonEl.style.display =\n",
              "          google.colab.kernel.accessAllowed ? 'block' : 'none';\n",
              "\n",
              "        async function convertToInteractive(key) {\n",
              "          const element = document.querySelector('#df-34c833c9-c66f-4a9c-a403-0582dc0fe3c2');\n",
              "          const dataTable =\n",
              "            await google.colab.kernel.invokeFunction('convertToInteractive',\n",
              "                                                     [key], {});\n",
              "          if (!dataTable) return;\n",
              "\n",
              "          const docLinkHtml = 'Like what you see? Visit the ' +\n",
              "            '<a target=\"_blank\" href=https://colab.research.google.com/notebooks/data_table.ipynb>data table notebook</a>'\n",
              "            + ' to learn more about interactive tables.';\n",
              "          element.innerHTML = '';\n",
              "          dataTable['output_type'] = 'display_data';\n",
              "          await google.colab.output.renderOutput(dataTable, element);\n",
              "          const docLink = document.createElement('div');\n",
              "          docLink.innerHTML = docLinkHtml;\n",
              "          element.appendChild(docLink);\n",
              "        }\n",
              "      </script>\n",
              "    </div>\n",
              "  </div>\n",
              "  "
            ]
          },
          "metadata": {},
          "execution_count": 42
        }
      ],
      "source": [
        "df_customer.head()"
      ]
    },
    {
      "cell_type": "markdown",
      "metadata": {
        "id": "mSNv31PNFvB1"
      },
      "source": [
        "Grouping data using \"Customer ID\" to get a single row data for each customer "
      ]
    },
    {
      "cell_type": "code",
      "execution_count": 43,
      "metadata": {
        "colab": {
          "base_uri": "https://localhost:8080/",
          "height": 519
        },
        "id": "7thbhfcoGJV1",
        "outputId": "9c0ebe45-d38a-4e0c-a697-026167928025"
      },
      "outputs": [
        {
          "output_type": "execute_result",
          "data": {
            "text/plain": [
              "            UnitPrice  prod_categ_0  prod_categ_1  prod_categ_2  prod_categ_3  \\\n",
              "CustomerID                                                                      \n",
              "12346.0      1.040000      0.000000      1.000000      0.000000           0.0   \n",
              "12347.0      2.644011      0.159341      0.670330      0.000000           0.0   \n",
              "12348.0      5.764839      0.000000      0.774194      0.000000           0.0   \n",
              "12349.0      8.289041      0.082192      0.452055      0.013699           0.0   \n",
              "12350.0      3.841176      0.058824      0.529412      0.000000           0.0   \n",
              "...               ...           ...           ...           ...           ...   \n",
              "18280.0      4.765000      0.100000      0.800000      0.000000           0.0   \n",
              "18281.0      5.622857      0.000000      1.000000      0.000000           0.0   \n",
              "18282.0      5.199167      0.083333      0.833333      0.000000           0.0   \n",
              "18283.0      1.614987      0.076720      0.460317      0.000000           0.0   \n",
              "18287.0      1.493571      0.000000      0.571429      0.000000           0.0   \n",
              "\n",
              "            prod_categ_4  prod_categ_5  prod_categ_6  prod_categ_7  \\\n",
              "CustomerID                                                           \n",
              "12346.0         0.000000      0.000000      0.000000      0.000000   \n",
              "12347.0         0.032967      0.010989      0.005495      0.021978   \n",
              "12348.0         0.032258      0.000000      0.000000      0.000000   \n",
              "12349.0         0.164384      0.013699      0.013699      0.000000   \n",
              "12350.0         0.058824      0.117647      0.176471      0.000000   \n",
              "...                  ...           ...           ...           ...   \n",
              "18280.0         0.100000      0.000000      0.000000      0.000000   \n",
              "18281.0         0.000000      0.000000      0.000000      0.000000   \n",
              "18282.0         0.000000      0.000000      0.000000      0.000000   \n",
              "18283.0         0.078042      0.058201      0.033069      0.001323   \n",
              "18287.0         0.014286      0.000000      0.042857      0.114286   \n",
              "\n",
              "            prod_categ_8  prod_categ_9  prod_categ_10  prod_categ_11  \n",
              "CustomerID                                                            \n",
              "12346.0         0.000000      0.000000       0.000000       0.000000  \n",
              "12347.0         0.054945      0.005495       0.032967       0.005495  \n",
              "12348.0         0.064516      0.064516       0.000000       0.064516  \n",
              "12349.0         0.136986      0.082192       0.041096       0.000000  \n",
              "12350.0         0.000000      0.000000       0.058824       0.000000  \n",
              "...                  ...           ...            ...            ...  \n",
              "18280.0         0.000000      0.000000       0.000000       0.000000  \n",
              "18281.0         0.000000      0.000000       0.000000       0.000000  \n",
              "18282.0         0.000000      0.000000       0.000000       0.083333  \n",
              "18283.0         0.018519      0.169312       0.022487       0.082011  \n",
              "18287.0         0.014286      0.042857       0.071429       0.128571  \n",
              "\n",
              "[4338 rows x 13 columns]"
            ],
            "text/html": [
              "\n",
              "  <div id=\"df-5bb45a25-dc3f-4bae-ba3b-cc085c774b8c\">\n",
              "    <div class=\"colab-df-container\">\n",
              "      <div>\n",
              "<style scoped>\n",
              "    .dataframe tbody tr th:only-of-type {\n",
              "        vertical-align: middle;\n",
              "    }\n",
              "\n",
              "    .dataframe tbody tr th {\n",
              "        vertical-align: top;\n",
              "    }\n",
              "\n",
              "    .dataframe thead th {\n",
              "        text-align: right;\n",
              "    }\n",
              "</style>\n",
              "<table border=\"1\" class=\"dataframe\">\n",
              "  <thead>\n",
              "    <tr style=\"text-align: right;\">\n",
              "      <th></th>\n",
              "      <th>UnitPrice</th>\n",
              "      <th>prod_categ_0</th>\n",
              "      <th>prod_categ_1</th>\n",
              "      <th>prod_categ_2</th>\n",
              "      <th>prod_categ_3</th>\n",
              "      <th>prod_categ_4</th>\n",
              "      <th>prod_categ_5</th>\n",
              "      <th>prod_categ_6</th>\n",
              "      <th>prod_categ_7</th>\n",
              "      <th>prod_categ_8</th>\n",
              "      <th>prod_categ_9</th>\n",
              "      <th>prod_categ_10</th>\n",
              "      <th>prod_categ_11</th>\n",
              "    </tr>\n",
              "    <tr>\n",
              "      <th>CustomerID</th>\n",
              "      <th></th>\n",
              "      <th></th>\n",
              "      <th></th>\n",
              "      <th></th>\n",
              "      <th></th>\n",
              "      <th></th>\n",
              "      <th></th>\n",
              "      <th></th>\n",
              "      <th></th>\n",
              "      <th></th>\n",
              "      <th></th>\n",
              "      <th></th>\n",
              "      <th></th>\n",
              "    </tr>\n",
              "  </thead>\n",
              "  <tbody>\n",
              "    <tr>\n",
              "      <th>12346.0</th>\n",
              "      <td>1.040000</td>\n",
              "      <td>0.000000</td>\n",
              "      <td>1.000000</td>\n",
              "      <td>0.000000</td>\n",
              "      <td>0.0</td>\n",
              "      <td>0.000000</td>\n",
              "      <td>0.000000</td>\n",
              "      <td>0.000000</td>\n",
              "      <td>0.000000</td>\n",
              "      <td>0.000000</td>\n",
              "      <td>0.000000</td>\n",
              "      <td>0.000000</td>\n",
              "      <td>0.000000</td>\n",
              "    </tr>\n",
              "    <tr>\n",
              "      <th>12347.0</th>\n",
              "      <td>2.644011</td>\n",
              "      <td>0.159341</td>\n",
              "      <td>0.670330</td>\n",
              "      <td>0.000000</td>\n",
              "      <td>0.0</td>\n",
              "      <td>0.032967</td>\n",
              "      <td>0.010989</td>\n",
              "      <td>0.005495</td>\n",
              "      <td>0.021978</td>\n",
              "      <td>0.054945</td>\n",
              "      <td>0.005495</td>\n",
              "      <td>0.032967</td>\n",
              "      <td>0.005495</td>\n",
              "    </tr>\n",
              "    <tr>\n",
              "      <th>12348.0</th>\n",
              "      <td>5.764839</td>\n",
              "      <td>0.000000</td>\n",
              "      <td>0.774194</td>\n",
              "      <td>0.000000</td>\n",
              "      <td>0.0</td>\n",
              "      <td>0.032258</td>\n",
              "      <td>0.000000</td>\n",
              "      <td>0.000000</td>\n",
              "      <td>0.000000</td>\n",
              "      <td>0.064516</td>\n",
              "      <td>0.064516</td>\n",
              "      <td>0.000000</td>\n",
              "      <td>0.064516</td>\n",
              "    </tr>\n",
              "    <tr>\n",
              "      <th>12349.0</th>\n",
              "      <td>8.289041</td>\n",
              "      <td>0.082192</td>\n",
              "      <td>0.452055</td>\n",
              "      <td>0.013699</td>\n",
              "      <td>0.0</td>\n",
              "      <td>0.164384</td>\n",
              "      <td>0.013699</td>\n",
              "      <td>0.013699</td>\n",
              "      <td>0.000000</td>\n",
              "      <td>0.136986</td>\n",
              "      <td>0.082192</td>\n",
              "      <td>0.041096</td>\n",
              "      <td>0.000000</td>\n",
              "    </tr>\n",
              "    <tr>\n",
              "      <th>12350.0</th>\n",
              "      <td>3.841176</td>\n",
              "      <td>0.058824</td>\n",
              "      <td>0.529412</td>\n",
              "      <td>0.000000</td>\n",
              "      <td>0.0</td>\n",
              "      <td>0.058824</td>\n",
              "      <td>0.117647</td>\n",
              "      <td>0.176471</td>\n",
              "      <td>0.000000</td>\n",
              "      <td>0.000000</td>\n",
              "      <td>0.000000</td>\n",
              "      <td>0.058824</td>\n",
              "      <td>0.000000</td>\n",
              "    </tr>\n",
              "    <tr>\n",
              "      <th>...</th>\n",
              "      <td>...</td>\n",
              "      <td>...</td>\n",
              "      <td>...</td>\n",
              "      <td>...</td>\n",
              "      <td>...</td>\n",
              "      <td>...</td>\n",
              "      <td>...</td>\n",
              "      <td>...</td>\n",
              "      <td>...</td>\n",
              "      <td>...</td>\n",
              "      <td>...</td>\n",
              "      <td>...</td>\n",
              "      <td>...</td>\n",
              "    </tr>\n",
              "    <tr>\n",
              "      <th>18280.0</th>\n",
              "      <td>4.765000</td>\n",
              "      <td>0.100000</td>\n",
              "      <td>0.800000</td>\n",
              "      <td>0.000000</td>\n",
              "      <td>0.0</td>\n",
              "      <td>0.100000</td>\n",
              "      <td>0.000000</td>\n",
              "      <td>0.000000</td>\n",
              "      <td>0.000000</td>\n",
              "      <td>0.000000</td>\n",
              "      <td>0.000000</td>\n",
              "      <td>0.000000</td>\n",
              "      <td>0.000000</td>\n",
              "    </tr>\n",
              "    <tr>\n",
              "      <th>18281.0</th>\n",
              "      <td>5.622857</td>\n",
              "      <td>0.000000</td>\n",
              "      <td>1.000000</td>\n",
              "      <td>0.000000</td>\n",
              "      <td>0.0</td>\n",
              "      <td>0.000000</td>\n",
              "      <td>0.000000</td>\n",
              "      <td>0.000000</td>\n",
              "      <td>0.000000</td>\n",
              "      <td>0.000000</td>\n",
              "      <td>0.000000</td>\n",
              "      <td>0.000000</td>\n",
              "      <td>0.000000</td>\n",
              "    </tr>\n",
              "    <tr>\n",
              "      <th>18282.0</th>\n",
              "      <td>5.199167</td>\n",
              "      <td>0.083333</td>\n",
              "      <td>0.833333</td>\n",
              "      <td>0.000000</td>\n",
              "      <td>0.0</td>\n",
              "      <td>0.000000</td>\n",
              "      <td>0.000000</td>\n",
              "      <td>0.000000</td>\n",
              "      <td>0.000000</td>\n",
              "      <td>0.000000</td>\n",
              "      <td>0.000000</td>\n",
              "      <td>0.000000</td>\n",
              "      <td>0.083333</td>\n",
              "    </tr>\n",
              "    <tr>\n",
              "      <th>18283.0</th>\n",
              "      <td>1.614987</td>\n",
              "      <td>0.076720</td>\n",
              "      <td>0.460317</td>\n",
              "      <td>0.000000</td>\n",
              "      <td>0.0</td>\n",
              "      <td>0.078042</td>\n",
              "      <td>0.058201</td>\n",
              "      <td>0.033069</td>\n",
              "      <td>0.001323</td>\n",
              "      <td>0.018519</td>\n",
              "      <td>0.169312</td>\n",
              "      <td>0.022487</td>\n",
              "      <td>0.082011</td>\n",
              "    </tr>\n",
              "    <tr>\n",
              "      <th>18287.0</th>\n",
              "      <td>1.493571</td>\n",
              "      <td>0.000000</td>\n",
              "      <td>0.571429</td>\n",
              "      <td>0.000000</td>\n",
              "      <td>0.0</td>\n",
              "      <td>0.014286</td>\n",
              "      <td>0.000000</td>\n",
              "      <td>0.042857</td>\n",
              "      <td>0.114286</td>\n",
              "      <td>0.014286</td>\n",
              "      <td>0.042857</td>\n",
              "      <td>0.071429</td>\n",
              "      <td>0.128571</td>\n",
              "    </tr>\n",
              "  </tbody>\n",
              "</table>\n",
              "<p>4338 rows × 13 columns</p>\n",
              "</div>\n",
              "      <button class=\"colab-df-convert\" onclick=\"convertToInteractive('df-5bb45a25-dc3f-4bae-ba3b-cc085c774b8c')\"\n",
              "              title=\"Convert this dataframe to an interactive table.\"\n",
              "              style=\"display:none;\">\n",
              "        \n",
              "  <svg xmlns=\"http://www.w3.org/2000/svg\" height=\"24px\"viewBox=\"0 0 24 24\"\n",
              "       width=\"24px\">\n",
              "    <path d=\"M0 0h24v24H0V0z\" fill=\"none\"/>\n",
              "    <path d=\"M18.56 5.44l.94 2.06.94-2.06 2.06-.94-2.06-.94-.94-2.06-.94 2.06-2.06.94zm-11 1L8.5 8.5l.94-2.06 2.06-.94-2.06-.94L8.5 2.5l-.94 2.06-2.06.94zm10 10l.94 2.06.94-2.06 2.06-.94-2.06-.94-.94-2.06-.94 2.06-2.06.94z\"/><path d=\"M17.41 7.96l-1.37-1.37c-.4-.4-.92-.59-1.43-.59-.52 0-1.04.2-1.43.59L10.3 9.45l-7.72 7.72c-.78.78-.78 2.05 0 2.83L4 21.41c.39.39.9.59 1.41.59.51 0 1.02-.2 1.41-.59l7.78-7.78 2.81-2.81c.8-.78.8-2.07 0-2.86zM5.41 20L4 18.59l7.72-7.72 1.47 1.35L5.41 20z\"/>\n",
              "  </svg>\n",
              "      </button>\n",
              "      \n",
              "  <style>\n",
              "    .colab-df-container {\n",
              "      display:flex;\n",
              "      flex-wrap:wrap;\n",
              "      gap: 12px;\n",
              "    }\n",
              "\n",
              "    .colab-df-convert {\n",
              "      background-color: #E8F0FE;\n",
              "      border: none;\n",
              "      border-radius: 50%;\n",
              "      cursor: pointer;\n",
              "      display: none;\n",
              "      fill: #1967D2;\n",
              "      height: 32px;\n",
              "      padding: 0 0 0 0;\n",
              "      width: 32px;\n",
              "    }\n",
              "\n",
              "    .colab-df-convert:hover {\n",
              "      background-color: #E2EBFA;\n",
              "      box-shadow: 0px 1px 2px rgba(60, 64, 67, 0.3), 0px 1px 3px 1px rgba(60, 64, 67, 0.15);\n",
              "      fill: #174EA6;\n",
              "    }\n",
              "\n",
              "    [theme=dark] .colab-df-convert {\n",
              "      background-color: #3B4455;\n",
              "      fill: #D2E3FC;\n",
              "    }\n",
              "\n",
              "    [theme=dark] .colab-df-convert:hover {\n",
              "      background-color: #434B5C;\n",
              "      box-shadow: 0px 1px 3px 1px rgba(0, 0, 0, 0.15);\n",
              "      filter: drop-shadow(0px 1px 2px rgba(0, 0, 0, 0.3));\n",
              "      fill: #FFFFFF;\n",
              "    }\n",
              "  </style>\n",
              "\n",
              "      <script>\n",
              "        const buttonEl =\n",
              "          document.querySelector('#df-5bb45a25-dc3f-4bae-ba3b-cc085c774b8c button.colab-df-convert');\n",
              "        buttonEl.style.display =\n",
              "          google.colab.kernel.accessAllowed ? 'block' : 'none';\n",
              "\n",
              "        async function convertToInteractive(key) {\n",
              "          const element = document.querySelector('#df-5bb45a25-dc3f-4bae-ba3b-cc085c774b8c');\n",
              "          const dataTable =\n",
              "            await google.colab.kernel.invokeFunction('convertToInteractive',\n",
              "                                                     [key], {});\n",
              "          if (!dataTable) return;\n",
              "\n",
              "          const docLinkHtml = 'Like what you see? Visit the ' +\n",
              "            '<a target=\"_blank\" href=https://colab.research.google.com/notebooks/data_table.ipynb>data table notebook</a>'\n",
              "            + ' to learn more about interactive tables.';\n",
              "          element.innerHTML = '';\n",
              "          dataTable['output_type'] = 'display_data';\n",
              "          await google.colab.output.renderOutput(dataTable, element);\n",
              "          const docLink = document.createElement('div');\n",
              "          docLink.innerHTML = docLinkHtml;\n",
              "          element.appendChild(docLink);\n",
              "        }\n",
              "      </script>\n",
              "    </div>\n",
              "  </div>\n",
              "  "
            ]
          },
          "metadata": {},
          "execution_count": 43
        }
      ],
      "source": [
        "trans1 = df_customer.groupby(by=['CustomerID']).mean()\n",
        "trans1"
      ]
    },
    {
      "cell_type": "code",
      "execution_count": 44,
      "metadata": {
        "colab": {
          "base_uri": "https://localhost:8080/"
        },
        "id": "pI2_sy3-NDq4",
        "outputId": "2a7d789c-d105-4355-be20-5a247f070190"
      },
      "outputs": [
        {
          "output_type": "execute_result",
          "data": {
            "text/plain": [
              "array([[1.04000000e+00, 0.00000000e+00, 1.00000000e+00, ...,\n",
              "        0.00000000e+00, 0.00000000e+00, 0.00000000e+00],\n",
              "       [2.64401099e+00, 1.59340659e-01, 6.70329670e-01, ...,\n",
              "        5.49450549e-03, 3.29670330e-02, 5.49450549e-03],\n",
              "       [5.76483871e+00, 0.00000000e+00, 7.74193548e-01, ...,\n",
              "        6.45161290e-02, 0.00000000e+00, 6.45161290e-02],\n",
              "       ...,\n",
              "       [5.19916667e+00, 8.33333333e-02, 8.33333333e-01, ...,\n",
              "        0.00000000e+00, 0.00000000e+00, 8.33333333e-02],\n",
              "       [1.61498677e+00, 7.67195767e-02, 4.60317460e-01, ...,\n",
              "        1.69312169e-01, 2.24867725e-02, 8.20105820e-02],\n",
              "       [1.49357143e+00, 0.00000000e+00, 5.71428571e-01, ...,\n",
              "        4.28571429e-02, 7.14285714e-02, 1.28571429e-01]])"
            ]
          },
          "metadata": {},
          "execution_count": 44
        }
      ],
      "source": [
        "customer_seg = np.array(trans1)\n",
        "customer_seg"
      ]
    },
    {
      "cell_type": "markdown",
      "metadata": {
        "id": "Ath_pidxPN_9"
      },
      "source": [
        "Scaling the data"
      ]
    },
    {
      "cell_type": "code",
      "execution_count": 45,
      "metadata": {
        "colab": {
          "base_uri": "https://localhost:8080/"
        },
        "id": "xQw9ViyPPTXC",
        "outputId": "3f2d28ab-3b48-40da-cc8b-253fa96fb593"
      },
      "outputs": [
        {
          "output_type": "execute_result",
          "data": {
            "text/plain": [
              "array([[4.51308487e-04, 0.00000000e+00, 1.00000000e+00, ...,\n",
              "        0.00000000e+00, 0.00000000e+00, 0.00000000e+00],\n",
              "       [1.24030442e-03, 1.59340659e-01, 6.70329670e-01, ...,\n",
              "        6.86813187e-03, 3.29670330e-02, 5.49450549e-03],\n",
              "       [2.77540637e-03, 0.00000000e+00, 7.74193548e-01, ...,\n",
              "        8.06451613e-02, 0.00000000e+00, 6.45161290e-02],\n",
              "       ...,\n",
              "       [2.49715831e-03, 8.33333333e-02, 8.33333333e-01, ...,\n",
              "        0.00000000e+00, 0.00000000e+00, 8.33333333e-02],\n",
              "       [7.34138362e-04, 7.67195767e-02, 4.60317460e-01, ...,\n",
              "        2.11640212e-01, 2.24867725e-02, 8.20105820e-02],\n",
              "       [6.74415447e-04, 0.00000000e+00, 5.71428571e-01, ...,\n",
              "        5.35714286e-02, 7.14285714e-02, 1.28571429e-01]])"
            ]
          },
          "metadata": {},
          "execution_count": 45
        }
      ],
      "source": [
        "from sklearn.preprocessing import MinMaxScaler\n",
        "scaler= MinMaxScaler()\n",
        "scaler.fit(customer_seg)\n",
        "scaled_matrix=scaler.transform(customer_seg)\n",
        "scaled_matrix"
      ]
    },
    {
      "cell_type": "markdown",
      "metadata": {
        "id": "Cwqzh3UDQA-R"
      },
      "source": [
        "Calculating silhouette_score"
      ]
    },
    {
      "cell_type": "code",
      "execution_count": 46,
      "metadata": {
        "colab": {
          "base_uri": "https://localhost:8080/",
          "height": 547
        },
        "id": "P00VfWrVQI9Z",
        "outputId": "7221b839-5ba0-430c-c171-61af20c8ccb7"
      },
      "outputs": [
        {
          "output_type": "stream",
          "name": "stdout",
          "text": [
            "For n_cluters = 3 The average silhouette_score is : 0.1858853697545087\n",
            "For n_cluters = 4 The average silhouette_score is : 0.18953374389430724\n",
            "For n_cluters = 5 The average silhouette_score is : 0.2017178282778699\n",
            "For n_cluters = 6 The average silhouette_score is : 0.21302400510053365\n",
            "For n_cluters = 7 The average silhouette_score is : 0.15680222348560233\n",
            "For n_cluters = 8 The average silhouette_score is : 0.15899593968925926\n",
            "For n_cluters = 9 The average silhouette_score is : 0.1621416433128784\n",
            "For n_cluters = 10 The average silhouette_score is : 0.16325640588459378\n",
            "For n_cluters = 11 The average silhouette_score is : 0.1723974286993485\n",
            "For n_cluters = 12 The average silhouette_score is : 0.16070841075507614\n",
            "For n_cluters = 13 The average silhouette_score is : 0.1661240341873157\n",
            "For n_cluters = 14 The average silhouette_score is : 0.16834292866979256\n",
            "For n_cluters = 15 The average silhouette_score is : 0.16897057821643915\n"
          ]
        },
        {
          "output_type": "display_data",
          "data": {
            "text/plain": [
              "<Figure size 432x288 with 1 Axes>"
            ],
            "image/png": "[encoded data removed]"
          },
          "metadata": {}
        }
      ],
      "source": [
        "def findBestN(matrix):\n",
        "  silhouettescore_avg = []\n",
        "  range_n_cluters = [3,4,5,6,7,8,9,10,11,12,13,14,15]\n",
        "  for n in range_n_cluters:\n",
        "    kmeans = KMeans(n_clusters= n, n_init= 20, random_state=0)\n",
        "    kmeans.fit(matrix)\n",
        "    clusters = kmeans.predict(matrix)\n",
        "    cluster_labels = kmeans.labels_\n",
        "    silhouette_avg = silhouette_score(matrix,clusters)\n",
        "    print('For n_cluters =', n, 'The average silhouette_score is :', silhouette_avg)\n",
        "    silhouettescore_avg.append(silhouette_score(matrix, cluster_labels))\n",
        "  plt.plot(range_n_cluters,silhouettescore_avg,'go-')\n",
        "  plt.xlabel('Values of K')\n",
        "  plt.ylabel('Silhouette score')\n",
        "  plt.title('Silhouette score plot For Optimal k')\n",
        "  plt.show()\n",
        "findBestN(scaled_matrix) "
      ]
    },
    {
      "cell_type": "markdown",
      "metadata": {
        "id": "ZonGzsSDQ1KJ"
      },
      "source": [
        "Elbow plot"
      ]
    },
    {
      "cell_type": "code",
      "execution_count": 47,
      "metadata": {
        "colab": {
          "base_uri": "https://localhost:8080/",
          "height": 321
        },
        "id": "aUgoNPTaQ48R",
        "outputId": "2d36b1c5-546b-4162-cc11-d19aae383acf"
      },
      "outputs": [
        {
          "output_type": "display_data",
          "data": {
            "text/plain": [
              "<Figure size 432x288 with 1 Axes>"
            ],
            "image/png": "[encoded data removed]"
          },
          "metadata": {}
        }
      ],
      "source": [
        "from sklearn import cluster\n",
        "import matplotlib.style as style\n",
        "\n",
        "range_n_cluters = [3,4,5,6,7,8,9,10,11,12,13,14,15]\n",
        "avg_distance=[]\n",
        "for n_clusters in range_n_cluters:\n",
        "  cluster = KMeans(n_clusters=n_clusters,random_state=0).fit(scaled_matrix)\n",
        "  avg_distance.append(cluster.inertia_)\n",
        "\n",
        "style.use('fivethirtyeight')\n",
        "plt.plot(range_n_cluters, avg_distance)\n",
        "plt.xlabel('Number of Clusters (k)')\n",
        "plt.ylabel('Distance')\n",
        "plt.title('Elbow Plot')\n",
        "plt.show()"
      ]
    },
    {
      "cell_type": "markdown",
      "metadata": {
        "id": "lKFMCdgXRWOl"
      },
      "source": [
        "From the above plots it is reasonable to assume that number of clusters = 6 is a decent value "
      ]
    },
    {
      "cell_type": "markdown",
      "metadata": {
        "id": "UCRaAwJTRobt"
      },
      "source": [
        "Performinf K-means clustering to get customer clusters from the data"
      ]
    },
    {
      "cell_type": "code",
      "execution_count": 48,
      "metadata": {
        "id": "j_A-F3ZAR1Kx"
      },
      "outputs": [],
      "source": [
        "best_no_of_clusters=6\n",
        "kmeans_c = KMeans(n_clusters = best_no_of_clusters, n_init=20, random_state=0)\n",
        "kmeans_c.fit(scaled_matrix)\n",
        "kmc_result=kmeans_c.predict(scaled_matrix)\n"
      ]
    },
    {
      "cell_type": "code",
      "execution_count": 49,
      "metadata": {
        "colab": {
          "base_uri": "https://localhost:8080/"
        },
        "id": "AjggTa7TSfF3",
        "outputId": "c660bfc2-4c30-449c-8796-d8fa810f4f53"
      },
      "outputs": [
        {
          "output_type": "execute_result",
          "data": {
            "text/plain": [
              "array([5, 1, 5, ..., 5, 2, 1], dtype=int32)"
            ]
          },
          "metadata": {},
          "execution_count": 49
        }
      ],
      "source": [
        "kmeans_c.labels_"
      ]
    },
    {
      "cell_type": "markdown",
      "metadata": {
        "id": "WVi-WPBgTASE"
      },
      "source": [
        "No. of customers in each cluster"
      ]
    },
    {
      "cell_type": "code",
      "execution_count": 50,
      "metadata": {
        "colab": {
          "base_uri": "https://localhost:8080/",
          "height": 81
        },
        "id": "qV697aQwTLLD",
        "outputId": "a8f86d6d-cb43-4d30-c8d3-71daeda23587"
      },
      "outputs": [
        {
          "output_type": "execute_result",
          "data": {
            "text/plain": [
              "                     1    5    2    4    0    3\n",
              "no. of customers  2248  793  472  415  275  135"
            ],
            "text/html": [
              "\n",
              "  <div id=\"df-e3473e61-a174-4cc0-94b6-4d892e40f59a\">\n",
              "    <div class=\"colab-df-container\">\n",
              "      <div>\n",
              "<style scoped>\n",
              "    .dataframe tbody tr th:only-of-type {\n",
              "        vertical-align: middle;\n",
              "    }\n",
              "\n",
              "    .dataframe tbody tr th {\n",
              "        vertical-align: top;\n",
              "    }\n",
              "\n",
              "    .dataframe thead th {\n",
              "        text-align: right;\n",
              "    }\n",
              "</style>\n",
              "<table border=\"1\" class=\"dataframe\">\n",
              "  <thead>\n",
              "    <tr style=\"text-align: right;\">\n",
              "      <th></th>\n",
              "      <th>1</th>\n",
              "      <th>5</th>\n",
              "      <th>2</th>\n",
              "      <th>4</th>\n",
              "      <th>0</th>\n",
              "      <th>3</th>\n",
              "    </tr>\n",
              "  </thead>\n",
              "  <tbody>\n",
              "    <tr>\n",
              "      <th>no. of customers</th>\n",
              "      <td>2248</td>\n",
              "      <td>793</td>\n",
              "      <td>472</td>\n",
              "      <td>415</td>\n",
              "      <td>275</td>\n",
              "      <td>135</td>\n",
              "    </tr>\n",
              "  </tbody>\n",
              "</table>\n",
              "</div>\n",
              "      <button class=\"colab-df-convert\" onclick=\"convertToInteractive('df-e3473e61-a174-4cc0-94b6-4d892e40f59a')\"\n",
              "              title=\"Convert this dataframe to an interactive table.\"\n",
              "              style=\"display:none;\">\n",
              "        \n",
              "  <svg xmlns=\"http://www.w3.org/2000/svg\" height=\"24px\"viewBox=\"0 0 24 24\"\n",
              "       width=\"24px\">\n",
              "    <path d=\"M0 0h24v24H0V0z\" fill=\"none\"/>\n",
              "    <path d=\"M18.56 5.44l.94 2.06.94-2.06 2.06-.94-2.06-.94-.94-2.06-.94 2.06-2.06.94zm-11 1L8.5 8.5l.94-2.06 2.06-.94-2.06-.94L8.5 2.5l-.94 2.06-2.06.94zm10 10l.94 2.06.94-2.06 2.06-.94-2.06-.94-.94-2.06-.94 2.06-2.06.94z\"/><path d=\"M17.41 7.96l-1.37-1.37c-.4-.4-.92-.59-1.43-.59-.52 0-1.04.2-1.43.59L10.3 9.45l-7.72 7.72c-.78.78-.78 2.05 0 2.83L4 21.41c.39.39.9.59 1.41.59.51 0 1.02-.2 1.41-.59l7.78-7.78 2.81-2.81c.8-.78.8-2.07 0-2.86zM5.41 20L4 18.59l7.72-7.72 1.47 1.35L5.41 20z\"/>\n",
              "  </svg>\n",
              "      </button>\n",
              "      \n",
              "  <style>\n",
              "    .colab-df-container {\n",
              "      display:flex;\n",
              "      flex-wrap:wrap;\n",
              "      gap: 12px;\n",
              "    }\n",
              "\n",
              "    .colab-df-convert {\n",
              "      background-color: #E8F0FE;\n",
              "      border: none;\n",
              "      border-radius: 50%;\n",
              "      cursor: pointer;\n",
              "      display: none;\n",
              "      fill: #1967D2;\n",
              "      height: 32px;\n",
              "      padding: 0 0 0 0;\n",
              "      width: 32px;\n",
              "    }\n",
              "\n",
              "    .colab-df-convert:hover {\n",
              "      background-color: #E2EBFA;\n",
              "      box-shadow: 0px 1px 2px rgba(60, 64, 67, 0.3), 0px 1px 3px 1px rgba(60, 64, 67, 0.15);\n",
              "      fill: #174EA6;\n",
              "    }\n",
              "\n",
              "    [theme=dark] .colab-df-convert {\n",
              "      background-color: #3B4455;\n",
              "      fill: #D2E3FC;\n",
              "    }\n",
              "\n",
              "    [theme=dark] .colab-df-convert:hover {\n",
              "      background-color: #434B5C;\n",
              "      box-shadow: 0px 1px 3px 1px rgba(0, 0, 0, 0.15);\n",
              "      filter: drop-shadow(0px 1px 2px rgba(0, 0, 0, 0.3));\n",
              "      fill: #FFFFFF;\n",
              "    }\n",
              "  </style>\n",
              "\n",
              "      <script>\n",
              "        const buttonEl =\n",
              "          document.querySelector('#df-e3473e61-a174-4cc0-94b6-4d892e40f59a button.colab-df-convert');\n",
              "        buttonEl.style.display =\n",
              "          google.colab.kernel.accessAllowed ? 'block' : 'none';\n",
              "\n",
              "        async function convertToInteractive(key) {\n",
              "          const element = document.querySelector('#df-e3473e61-a174-4cc0-94b6-4d892e40f59a');\n",
              "          const dataTable =\n",
              "            await google.colab.kernel.invokeFunction('convertToInteractive',\n",
              "                                                     [key], {});\n",
              "          if (!dataTable) return;\n",
              "\n",
              "          const docLinkHtml = 'Like what you see? Visit the ' +\n",
              "            '<a target=\"_blank\" href=https://colab.research.google.com/notebooks/data_table.ipynb>data table notebook</a>'\n",
              "            + ' to learn more about interactive tables.';\n",
              "          element.innerHTML = '';\n",
              "          dataTable['output_type'] = 'display_data';\n",
              "          await google.colab.output.renderOutput(dataTable, element);\n",
              "          const docLink = document.createElement('div');\n",
              "          docLink.innerHTML = docLinkHtml;\n",
              "          element.appendChild(docLink);\n",
              "        }\n",
              "      </script>\n",
              "    </div>\n",
              "  </div>\n",
              "  "
            ]
          },
          "metadata": {},
          "execution_count": 50
        }
      ],
      "source": [
        "pd.DataFrame(pd.Series(kmc_result).value_counts(),columns=['no. of customers']).T"
      ]
    },
    {
      "cell_type": "code",
      "execution_count": 51,
      "metadata": {
        "id": "jA4X6ZHfTMbE"
      },
      "outputs": [],
      "source": [
        "df=df[df['UnitPrice'] !=0]"
      ]
    },
    {
      "cell_type": "code",
      "execution_count": 52,
      "metadata": {
        "id": "Ke8dGPanT-48"
      },
      "outputs": [],
      "source": [
        "df=df[df['Quantity']>0]"
      ]
    },
    {
      "cell_type": "markdown",
      "metadata": {
        "id": "3C7DmYUbULkP"
      },
      "source": [
        "Adding customer category data into the original dataset"
      ]
    },
    {
      "cell_type": "code",
      "execution_count": 53,
      "metadata": {
        "id": "XGXKj0YkUWH2"
      },
      "outputs": [],
      "source": [
        "customers_list=df['CustomerID'].unique()"
      ]
    },
    {
      "cell_type": "code",
      "execution_count": 54,
      "metadata": {
        "id": "PV9NS2TsUtca"
      },
      "outputs": [],
      "source": [
        "corresp_c= dict()\n",
        "for key, val in zip (customers_list, kmc_result):\n",
        "  corresp_c[key]= val\n",
        "df['customer_category']=df.loc[:,'CustomerID'].map(corresp_c)"
      ]
    },
    {
      "cell_type": "code",
      "execution_count": 55,
      "metadata": {
        "colab": {
          "base_uri": "https://localhost:8080/",
          "height": 612
        },
        "id": "2xc7wsJCXFIa",
        "outputId": "654ac285-657d-4cbe-e0f6-cec36a7dbedb"
      },
      "outputs": [
        {
          "output_type": "execute_result",
          "data": {
            "text/plain": [
              "  InvoiceNo StockCode                          Description  Quantity  \\\n",
              "0    536365    85123A   WHITE HANGING HEART T-LIGHT HOLDER         6   \n",
              "1    536365     71053                  WHITE METAL LANTERN         6   \n",
              "2    536365    84406B       CREAM CUPID HEARTS COAT HANGER         8   \n",
              "3    536365    84029G  KNITTED UNION FLAG HOT WATER BOTTLE         6   \n",
              "4    536365    84029E       RED WOOLLY HOTTIE WHITE HEART.         6   \n",
              "\n",
              "      InvoiceDate  UnitPrice  CustomerID         Country  product_categ  \\\n",
              "0  12/1/2010 8:26       2.55     17850.0  United Kingdom              8   \n",
              "1  12/1/2010 8:26       3.39     17850.0  United Kingdom              6   \n",
              "2  12/1/2010 8:26       2.75     17850.0  United Kingdom              8   \n",
              "3  12/1/2010 8:26       3.39     17850.0  United Kingdom              1   \n",
              "4  12/1/2010 8:26       3.39     17850.0  United Kingdom              8   \n",
              "\n",
              "   prod_categ_0  ...  prod_categ_3  prod_categ_4  prod_categ_5  prod_categ_6  \\\n",
              "0             0  ...             0             0             0             0   \n",
              "1             0  ...             0             0             0             1   \n",
              "2             0  ...             0             0             0             0   \n",
              "3             0  ...             0             0             0             0   \n",
              "4             0  ...             0             0             0             0   \n",
              "\n",
              "   prod_categ_7  prod_categ_8  prod_categ_9  prod_categ_10  prod_categ_11  \\\n",
              "0             0             1             0              0              0   \n",
              "1             0             0             0              0              0   \n",
              "2             0             1             0              0              0   \n",
              "3             0             0             0              0              0   \n",
              "4             0             1             0              0              0   \n",
              "\n",
              "   customer_category  \n",
              "0                  5  \n",
              "1                  5  \n",
              "2                  5  \n",
              "3                  5  \n",
              "4                  5  \n",
              "\n",
              "[5 rows x 22 columns]"
            ],
            "text/html": [
              "\n",
              "  <div id=\"df-6ff484e8-229a-4b21-a746-9525606e5012\">\n",
              "    <div class=\"colab-df-container\">\n",
              "      <div>\n",
              "<style scoped>\n",
              "    .dataframe tbody tr th:only-of-type {\n",
              "        vertical-align: middle;\n",
              "    }\n",
              "\n",
              "    .dataframe tbody tr th {\n",
              "        vertical-align: top;\n",
              "    }\n",
              "\n",
              "    .dataframe thead th {\n",
              "        text-align: right;\n",
              "    }\n",
              "</style>\n",
              "<table border=\"1\" class=\"dataframe\">\n",
              "  <thead>\n",
              "    <tr style=\"text-align: right;\">\n",
              "      <th></th>\n",
              "      <th>InvoiceNo</th>\n",
              "      <th>StockCode</th>\n",
              "      <th>Description</th>\n",
              "      <th>Quantity</th>\n",
              "      <th>InvoiceDate</th>\n",
              "      <th>UnitPrice</th>\n",
              "      <th>CustomerID</th>\n",
              "      <th>Country</th>\n",
              "      <th>product_categ</th>\n",
              "      <th>prod_categ_0</th>\n",
              "      <th>...</th>\n",
              "      <th>prod_categ_3</th>\n",
              "      <th>prod_categ_4</th>\n",
              "      <th>prod_categ_5</th>\n",
              "      <th>prod_categ_6</th>\n",
              "      <th>prod_categ_7</th>\n",
              "      <th>prod_categ_8</th>\n",
              "      <th>prod_categ_9</th>\n",
              "      <th>prod_categ_10</th>\n",
              "      <th>prod_categ_11</th>\n",
              "      <th>customer_category</th>\n",
              "    </tr>\n",
              "  </thead>\n",
              "  <tbody>\n",
              "    <tr>\n",
              "      <th>0</th>\n",
              "      <td>536365</td>\n",
              "      <td>85123A</td>\n",
              "      <td>WHITE HANGING HEART T-LIGHT HOLDER</td>\n",
              "      <td>6</td>\n",
              "      <td>12/1/2010 8:26</td>\n",
              "      <td>2.55</td>\n",
              "      <td>17850.0</td>\n",
              "      <td>United Kingdom</td>\n",
              "      <td>8</td>\n",
              "      <td>0</td>\n",
              "      <td>...</td>\n",
              "      <td>0</td>\n",
              "      <td>0</td>\n",
              "      <td>0</td>\n",
              "      <td>0</td>\n",
              "      <td>0</td>\n",
              "      <td>1</td>\n",
              "      <td>0</td>\n",
              "      <td>0</td>\n",
              "      <td>0</td>\n",
              "      <td>5</td>\n",
              "    </tr>\n",
              "    <tr>\n",
              "      <th>1</th>\n",
              "      <td>536365</td>\n",
              "      <td>71053</td>\n",
              "      <td>WHITE METAL LANTERN</td>\n",
              "      <td>6</td>\n",
              "      <td>12/1/2010 8:26</td>\n",
              "      <td>3.39</td>\n",
              "      <td>17850.0</td>\n",
              "      <td>United Kingdom</td>\n",
              "      <td>6</td>\n",
              "      <td>0</td>\n",
              "      <td>...</td>\n",
              "      <td>0</td>\n",
              "      <td>0</td>\n",
              "      <td>0</td>\n",
              "      <td>1</td>\n",
              "      <td>0</td>\n",
              "      <td>0</td>\n",
              "      <td>0</td>\n",
              "      <td>0</td>\n",
              "      <td>0</td>\n",
              "      <td>5</td>\n",
              "    </tr>\n",
              "    <tr>\n",
              "      <th>2</th>\n",
              "      <td>536365</td>\n",
              "      <td>84406B</td>\n",
              "      <td>CREAM CUPID HEARTS COAT HANGER</td>\n",
              "      <td>8</td>\n",
              "      <td>12/1/2010 8:26</td>\n",
              "      <td>2.75</td>\n",
              "      <td>17850.0</td>\n",
              "      <td>United Kingdom</td>\n",
              "      <td>8</td>\n",
              "      <td>0</td>\n",
              "      <td>...</td>\n",
              "      <td>0</td>\n",
              "      <td>0</td>\n",
              "      <td>0</td>\n",
              "      <td>0</td>\n",
              "      <td>0</td>\n",
              "      <td>1</td>\n",
              "      <td>0</td>\n",
              "      <td>0</td>\n",
              "      <td>0</td>\n",
              "      <td>5</td>\n",
              "    </tr>\n",
              "    <tr>\n",
              "      <th>3</th>\n",
              "      <td>536365</td>\n",
              "      <td>84029G</td>\n",
              "      <td>KNITTED UNION FLAG HOT WATER BOTTLE</td>\n",
              "      <td>6</td>\n",
              "      <td>12/1/2010 8:26</td>\n",
              "      <td>3.39</td>\n",
              "      <td>17850.0</td>\n",
              "      <td>United Kingdom</td>\n",
              "      <td>1</td>\n",
              "      <td>0</td>\n",
              "      <td>...</td>\n",
              "      <td>0</td>\n",
              "      <td>0</td>\n",
              "      <td>0</td>\n",
              "      <td>0</td>\n",
              "      <td>0</td>\n",
              "      <td>0</td>\n",
              "      <td>0</td>\n",
              "      <td>0</td>\n",
              "      <td>0</td>\n",
              "      <td>5</td>\n",
              "    </tr>\n",
              "    <tr>\n",
              "      <th>4</th>\n",
              "      <td>536365</td>\n",
              "      <td>84029E</td>\n",
              "      <td>RED WOOLLY HOTTIE WHITE HEART.</td>\n",
              "      <td>6</td>\n",
              "      <td>12/1/2010 8:26</td>\n",
              "      <td>3.39</td>\n",
              "      <td>17850.0</td>\n",
              "      <td>United Kingdom</td>\n",
              "      <td>8</td>\n",
              "      <td>0</td>\n",
              "      <td>...</td>\n",
              "      <td>0</td>\n",
              "      <td>0</td>\n",
              "      <td>0</td>\n",
              "      <td>0</td>\n",
              "      <td>0</td>\n",
              "      <td>1</td>\n",
              "      <td>0</td>\n",
              "      <td>0</td>\n",
              "      <td>0</td>\n",
              "      <td>5</td>\n",
              "    </tr>\n",
              "  </tbody>\n",
              "</table>\n",
              "<p>5 rows × 22 columns</p>\n",
              "</div>\n",
              "      <button class=\"colab-df-convert\" onclick=\"convertToInteractive('df-6ff484e8-229a-4b21-a746-9525606e5012')\"\n",
              "              title=\"Convert this dataframe to an interactive table.\"\n",
              "              style=\"display:none;\">\n",
              "        \n",
              "  <svg xmlns=\"http://www.w3.org/2000/svg\" height=\"24px\"viewBox=\"0 0 24 24\"\n",
              "       width=\"24px\">\n",
              "    <path d=\"M0 0h24v24H0V0z\" fill=\"none\"/>\n",
              "    <path d=\"M18.56 5.44l.94 2.06.94-2.06 2.06-.94-2.06-.94-.94-2.06-.94 2.06-2.06.94zm-11 1L8.5 8.5l.94-2.06 2.06-.94-2.06-.94L8.5 2.5l-.94 2.06-2.06.94zm10 10l.94 2.06.94-2.06 2.06-.94-2.06-.94-.94-2.06-.94 2.06-2.06.94z\"/><path d=\"M17.41 7.96l-1.37-1.37c-.4-.4-.92-.59-1.43-.59-.52 0-1.04.2-1.43.59L10.3 9.45l-7.72 7.72c-.78.78-.78 2.05 0 2.83L4 21.41c.39.39.9.59 1.41.59.51 0 1.02-.2 1.41-.59l7.78-7.78 2.81-2.81c.8-.78.8-2.07 0-2.86zM5.41 20L4 18.59l7.72-7.72 1.47 1.35L5.41 20z\"/>\n",
              "  </svg>\n",
              "      </button>\n",
              "      \n",
              "  <style>\n",
              "    .colab-df-container {\n",
              "      display:flex;\n",
              "      flex-wrap:wrap;\n",
              "      gap: 12px;\n",
              "    }\n",
              "\n",
              "    .colab-df-convert {\n",
              "      background-color: #E8F0FE;\n",
              "      border: none;\n",
              "      border-radius: 50%;\n",
              "      cursor: pointer;\n",
              "      display: none;\n",
              "      fill: #1967D2;\n",
              "      height: 32px;\n",
              "      padding: 0 0 0 0;\n",
              "      width: 32px;\n",
              "    }\n",
              "\n",
              "    .colab-df-convert:hover {\n",
              "      background-color: #E2EBFA;\n",
              "      box-shadow: 0px 1px 2px rgba(60, 64, 67, 0.3), 0px 1px 3px 1px rgba(60, 64, 67, 0.15);\n",
              "      fill: #174EA6;\n",
              "    }\n",
              "\n",
              "    [theme=dark] .colab-df-convert {\n",
              "      background-color: #3B4455;\n",
              "      fill: #D2E3FC;\n",
              "    }\n",
              "\n",
              "    [theme=dark] .colab-df-convert:hover {\n",
              "      background-color: #434B5C;\n",
              "      box-shadow: 0px 1px 3px 1px rgba(0, 0, 0, 0.15);\n",
              "      filter: drop-shadow(0px 1px 2px rgba(0, 0, 0, 0.3));\n",
              "      fill: #FFFFFF;\n",
              "    }\n",
              "  </style>\n",
              "\n",
              "      <script>\n",
              "        const buttonEl =\n",
              "          document.querySelector('#df-6ff484e8-229a-4b21-a746-9525606e5012 button.colab-df-convert');\n",
              "        buttonEl.style.display =\n",
              "          google.colab.kernel.accessAllowed ? 'block' : 'none';\n",
              "\n",
              "        async function convertToInteractive(key) {\n",
              "          const element = document.querySelector('#df-6ff484e8-229a-4b21-a746-9525606e5012');\n",
              "          const dataTable =\n",
              "            await google.colab.kernel.invokeFunction('convertToInteractive',\n",
              "                                                     [key], {});\n",
              "          if (!dataTable) return;\n",
              "\n",
              "          const docLinkHtml = 'Like what you see? Visit the ' +\n",
              "            '<a target=\"_blank\" href=https://colab.research.google.com/notebooks/data_table.ipynb>data table notebook</a>'\n",
              "            + ' to learn more about interactive tables.';\n",
              "          element.innerHTML = '';\n",
              "          dataTable['output_type'] = 'display_data';\n",
              "          await google.colab.output.renderOutput(dataTable, element);\n",
              "          const docLink = document.createElement('div');\n",
              "          docLink.innerHTML = docLinkHtml;\n",
              "          element.appendChild(docLink);\n",
              "        }\n",
              "      </script>\n",
              "    </div>\n",
              "  </div>\n",
              "  "
            ]
          },
          "metadata": {},
          "execution_count": 55
        }
      ],
      "source": [
        "df.head()"
      ]
    },
    {
      "cell_type": "code",
      "execution_count": 67,
      "metadata": {
        "colab": {
          "base_uri": "https://localhost:8080/"
        },
        "id": "3YZNFyWoXRej",
        "outputId": "aa14171f-1603-450e-8c04-b027045517a8"
      },
      "outputs": [
        {
          "output_type": "execute_result",
          "data": {
            "text/plain": [
              "customer_category\n",
              "0    3.998396\n",
              "1    3.038552\n",
              "2    2.979051\n",
              "3    2.952114\n",
              "4    3.015114\n",
              "5    3.129364\n",
              "Name: UnitPrice, dtype: float64"
            ]
          },
          "metadata": {},
          "execution_count": 67
        }
      ],
      "source": [
        "AvgUnitPrice=df.groupby(by=['customer_category'])['UnitPrice'].mean()\n",
        "AvgUnitPrice"
      ]
    },
    {
      "cell_type": "markdown",
      "metadata": {
        "id": "knpxN9AoX8yE"
      },
      "source": [
        "Plotting AvgUnitPrice Vs customer category"
      ]
    },
    {
      "cell_type": "code",
      "execution_count": 69,
      "metadata": {
        "colab": {
          "base_uri": "https://localhost:8080/",
          "height": 321
        },
        "id": "QQGFetXsYLzN",
        "outputId": "187cb14a-bdcc-48d4-f4a8-14525a122db0"
      },
      "outputs": [
        {
          "output_type": "display_data",
          "data": {
            "text/plain": [
              "<Figure size 432x288 with 1 Axes>"
            ],
            "image/png": "[encoded data removed]"
          },
          "metadata": {}
        }
      ],
      "source": [
        "from matplotlib import patches\n",
        "#df.set_index('customer_category',inplace=True)\n",
        "ax1=df.groupby(by=['customer_category'])['UnitPrice'].mean().plot(kind='bar',color=['C0','C1','C2','C3','C4','C5'])\n",
        "for p in ax1.patches:\n",
        "  ax1.annotate(np.round(p.get_height(),decimals=2),(p.get_x()+p.get_width()/2.,p.get_height()),ha='center',va='center',xytext=(0,10),textcoords='offset points')\n",
        "plt.title('Avg UnitPrice vs Customer_category')\n",
        "plt.ylabel('Avg UnitPrice')\n",
        "plt.xticks(rotation = 0)\n",
        "plt.show()"
      ]
    },
    {
      "cell_type": "markdown",
      "source": [],
      "metadata": {
        "id": "q86FAFW9K9le"
      }
    },
    {
      "cell_type": "markdown",
      "source": [
        "from the graph it is known that the avg unit price is high for category 0 and low for category 3"
      ],
      "metadata": {
        "id": "IyW0kSGoEhpa"
      }
    },
    {
      "cell_type": "code",
      "source": [
        "AvgQuantityprod=df.groupby(by=['customer_category'])['Quantity'].mean()\n",
        "AvgQuantityprod.astype(int)"
      ],
      "metadata": {
        "colab": {
          "base_uri": "https://localhost:8080/"
        },
        "id": "fLERmjibH74p",
        "outputId": "24d8edae-ab13-44a7-d8ab-b8a155f9b6bb"
      },
      "execution_count": 59,
      "outputs": [
        {
          "output_type": "execute_result",
          "data": {
            "text/plain": [
              "customer_category\n",
              "0     9\n",
              "1    12\n",
              "2    16\n",
              "3    11\n",
              "4    12\n",
              "5    14\n",
              "Name: Quantity, dtype: int64"
            ]
          },
          "metadata": {},
          "execution_count": 59
        }
      ]
    },
    {
      "cell_type": "markdown",
      "source": [
        "plotting avg quantity of products v/s customer Category"
      ],
      "metadata": {
        "id": "BEUxc8zNI0tx"
      }
    },
    {
      "cell_type": "code",
      "source": [
        "from matplotlib import patches\n",
        "\n",
        "ax2=df.groupby(by=['customer_category'])['Quantity'].mean().plot(kind='bar',color=['C0','C1','C2','C3','C4','C5'])\n",
        "for p in ax2.patches:\n",
        "  ax2.annotate(np.round(p.get_height(),decimals=2),(p.get_x()+p.get_width()/2.,p.get_height()),ha='center',va='center',xytext=(0,10),textcoords='offset points')\n",
        "plt.title('Avg Quantity of products vs Customer_category')\n",
        "plt.ylabel('Avg Quantity of products')\n",
        "plt.xticks(rotation = 0)\n",
        "plt.show()"
      ],
      "metadata": {
        "colab": {
          "base_uri": "https://localhost:8080/",
          "height": 321
        },
        "id": "nOWeXqTzI0Md",
        "outputId": "eb269b53-2e00-439b-abd5-1168e85160d0"
      },
      "execution_count": 64,
      "outputs": [
        {
          "output_type": "display_data",
          "data": {
            "text/plain": [
              "<Figure size 432x288 with 1 Axes>"
            ],
            "image/png": "[encoded data removed]"
          },
          "metadata": {}
        }
      ]
    },
    {
      "cell_type": "markdown",
      "source": [
        "From the above graph avg quantity of products per cluster is high in category 2 and low in category 0"
      ],
      "metadata": {
        "id": "2Cjb7-A9LAjR"
      }
    },
    {
      "cell_type": "markdown",
      "source": [
        "Adding a new column TotalPrice which is product of UnitPrice with Quantity"
      ],
      "metadata": {
        "id": "Hn9JPEzWLUuY"
      }
    },
    {
      "cell_type": "code",
      "source": [
        "df['TotalPrice']= df['UnitPrice'] * df['Quantity']"
      ],
      "metadata": {
        "id": "49WeonMcLmTf"
      },
      "execution_count": 72,
      "outputs": []
    },
    {
      "cell_type": "code",
      "source": [
        "AvgTotalPrice=df.groupby(by=['customer_category'])['TotalPrice'].mean()\n",
        "AvgTotalPrice"
      ],
      "metadata": {
        "colab": {
          "base_uri": "https://localhost:8080/"
        },
        "id": "ref4bHsEL009",
        "outputId": "a17ae0e8-5d6e-4ef2-885e-eff68fdb1bf5"
      },
      "execution_count": 74,
      "outputs": [
        {
          "output_type": "execute_result",
          "data": {
            "text/plain": [
              "customer_category\n",
              "0    16.754748\n",
              "1    22.335991\n",
              "2    25.502460\n",
              "3    20.947474\n",
              "4    20.741661\n",
              "5    23.771955\n",
              "Name: TotalPrice, dtype: float64"
            ]
          },
          "metadata": {},
          "execution_count": 74
        }
      ]
    },
    {
      "cell_type": "markdown",
      "source": [
        "Plotting AvgTotalPrice VS Custmer Category"
      ],
      "metadata": {
        "id": "GFpItb6ZMfR1"
      }
    },
    {
      "cell_type": "code",
      "source": [
        "from matplotlib import patches\n",
        "ax3=df.groupby(by=['customer_category'])['TotalPrice'].mean().plot(kind='bar',color=['C1','C2','C3','C4','C5','C0'])\n",
        "for p in ax3.patches:\n",
        "  ax3.annotate(np.round(p.get_height(),decimals=2),(p.get_x()+p.get_width()/2.,p.get_height()),ha='center',va='center',xytext=(0,10),textcoords='offset points')\n",
        "plt.title('Avg TotalPrice vs Customer_category')\n",
        "plt.ylabel('Avg TotalPrice')\n",
        "plt.xticks(rotation = 0)\n",
        "plt.show()"
      ],
      "metadata": {
        "colab": {
          "base_uri": "https://localhost:8080/",
          "height": 321
        },
        "id": "QoozTW_6MptP",
        "outputId": "162b4c7d-403e-4001-af63-fd3a63796e1c"
      },
      "execution_count": 78,
      "outputs": [
        {
          "output_type": "display_data",
          "data": {
            "text/plain": [
              "<Figure size 432x288 with 1 Axes>"
            ],
            "image/png": "[encoded data removed]"
          },
          "metadata": {}
        }
      ]
    },
    {
      "cell_type": "markdown",
      "source": [
        "Avg Total Price is high for Category 2 and low for category 0"
      ],
      "metadata": {
        "id": "NrpBBp0zNTXU"
      }
    },
    {
      "cell_type": "code",
      "source": [
        "ProdCat = df.groupby(by=['customer_category'])['product_categ'].unique()\n",
        "ProdCat"
      ],
      "metadata": {
        "colab": {
          "base_uri": "https://localhost:8080/"
        },
        "id": "eQMINQq8Ni6M",
        "outputId": "5fb0a960-6a22-43fc-fc5e-1e4a2617dd23"
      },
      "execution_count": 79,
      "outputs": [
        {
          "output_type": "execute_result",
          "data": {
            "text/plain": [
              "customer_category\n",
              "0       [9, 1, 10, 8, 11, 0, 6, 4, 5, 7, 2]\n",
              "1    [1, 10, 8, 6, 9, 11, 4, 5, 7, 0, 2, 3]\n",
              "2    [11, 1, 8, 7, 0, 4, 5, 2, 10, 9, 6, 3]\n",
              "3       [9, 8, 1, 4, 10, 6, 5, 0, 11, 7, 2]\n",
              "4    [1, 0, 4, 5, 6, 10, 8, 3, 7, 9, 11, 2]\n",
              "5    [8, 6, 1, 10, 0, 4, 9, 5, 11, 7, 2, 3]\n",
              "Name: product_categ, dtype: object"
            ]
          },
          "metadata": {},
          "execution_count": 79
        }
      ]
    },
    {
      "cell_type": "markdown",
      "source": [
        "Customer categories 1,2,4,5 contains all 12 products categories 1 and 3 contains only 11 products categories"
      ],
      "metadata": {
        "id": "6HvLmqY-OE7E"
      }
    },
    {
      "cell_type": "markdown",
      "source": [
        "This segmentation will help in coming up with dedicated marketing strategies like Targeted Ads, Targeted Discounts, Special offers and giving product recommendations to different user bases"
      ],
      "metadata": {
        "id": "IMIj2jXkOiz7"
      }
    },
    {
      "cell_type": "markdown",
      "source": [
        "**Conclusion:**\n",
        "\n",
        "\n",
        "*   From the data, only unique values from the product description column were taken and NLP techniques were applied to convert to numerical data\n",
        "\n",
        "*   Then K-Means clustering is applied and used Silhouette_score plot and elbow curve to determine the value of K as 12\n",
        "\n",
        "*   List of all products present in the 12 products categories are also shown\n",
        "\n",
        "*   Then using the categories customers were grouped into different clusters using similarity between purchased products between the users\n",
        "\n",
        "*   i have grouped the data using Customer Id to get a single row data for each customer\n",
        "*   Then K-Means clustering is applies and used silhouette score plot and elbow curve to determine the value of K=6 as a reasonable value for customer categories(clusters)\n",
        "\n",
        "*   Data vizualization is performed to get values like avg unit price per cluster,avg quantity of products per cluster and the product categories present in each customer category is also shown\n",
        "*   Creating customer segmentation will help in coming up with dedicated marketing strategies like Targeted discounts, Targeted Ads , spcl offers and will aid us in recommending products to different user bases\n",
        "\n",
        "\n",
        "\n",
        "\n",
        "\n",
        "\n",
        "\n"
      ],
      "metadata": {
        "id": "XHNmJzTjPQGA"
      }
    }
  ],
  "metadata": {
    "colab": {
      "provenance": [],
      "authorship_tag": "ABX9TyP6aZp0k7ONKBn90li4LvO2",
      "include_colab_link": true
    },
    "kernelspec": {
      "display_name": "Python 3",
      "name": "python3"
    },
    "language_info": {
      "name": "python"
    }
  },
  "nbformat": 4,
  "nbformat_minor": 0
}