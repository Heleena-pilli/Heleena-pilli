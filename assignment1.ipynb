{
  "nbformat": 4,
  "nbformat_minor": 0,
  "metadata": {
    "colab": {
      "name": "assignment1.ipynb",
      "provenance": [],
      "authorship_tag": "ABX9TyOPN6qbrTahvvCVJx5lGd7+",
      "include_colab_link": true
    },
    "kernelspec": {
      "name": "python3",
      "display_name": "Python 3"
    },
    "language_info": {
      "name": "python"
    }
  },
  "cells": [
    {
      "cell_type": "markdown",
      "metadata": {
        "id": "view-in-github",
        "colab_type": "text"
      },
      "source": [
        "<a href=\"https://colab.research.google.com/github/Heleena-pilli/Heleena-pilli/blob/main/assignment1.ipynb\" target=\"_parent\"><img src=\"https://colab.research.google.com/assets/colab-badge.svg\" alt=\"Open In Colab\"/></a>"
      ]
    },
    {
      "cell_type": "code",
      "source": [
        ""
      ],
      "metadata": {
        "id": "C9lUIlpBFZeF"
      },
      "execution_count": null,
      "outputs": []
    },
    {
      "cell_type": "code",
      "source": [
        "import re\n",
        "\n",
        "\n",
        "def checkemailid(emailid):\n",
        "  regex=r'\\b\\A[A-Za-z][A-Za-z0-9._%+-]+@[A-Za-z0-9.-]+\\.[A-Z|a-z]{2,}\\b'\n",
        "  if(re.fullmatch(regex, emailid)):\n",
        "    print(\"Valid Email\")\n",
        "    return emailid\n",
        "  else:\n",
        "    print(\"Invalid Email\")\n",
        "    return False\n",
        "\n",
        "\n",
        "def checkpwd(password):\n",
        "  flag = 0\n",
        "  while flag==0:\n",
        "    if(len(password)<5) or (len(password)>16):\n",
        "      flag = -1\n",
        "      break\n",
        "    elif not re.search(\"[a-z]\", password):\n",
        "      flag =-1\n",
        "      break\n",
        "    elif not re.search(\"[A-Z]\", password):\n",
        "      flag=-1\n",
        "      break\n",
        "    elif not re.search(\"[!#$%&'()*+,-./:;<=>?@[\\]^_`{|}~]\", password):\n",
        "      flag=-1\n",
        "      break\n",
        "    elif  re.search(\"\\s\",password):\n",
        "      flag= -1\n",
        "      break\n",
        "    else:\n",
        "      flag = 0\n",
        "      print(\"Valid Password\")\n",
        "      return password\n",
        "  if flag ==-1:\n",
        "    print(\"Not a Valid Password\")\n",
        "    return False\n",
        "\n",
        "\n",
        "def getdetails():\n",
        "    print(\"Please Provide\")\n",
        "    emailid=input(\"EmailID:  \")\n",
        "    g=0\n",
        "    if checkemailid (emailid)==False:\n",
        "      print(\"Please enter valid EmailID\")\n",
        "      g=g+1\n",
        "                                                                                   \n",
        "    else:\n",
        "      password=input(\"Password: \")\n",
        "      if checkpwd(password)==False:\n",
        "        print(\"Please enter valid Password\")\n",
        "        g=g+1\n",
        "\n",
        "\n",
        "    if g==0:\n",
        "      file1= open(\"UserData1.txt\",\"a\")\n",
        "      L=[emailid,password,\"\\n\"]\n",
        "      file1.writelines(L)\n",
        "      print(\"Registration is successful\")\n",
        "\n",
        "def get_existing_users(Emailid, Password):\n",
        "  V=Emailid+Password\n",
        "  p=0\n",
        "  with open(\"UserData1.txt\") as f:\n",
        "    for line in f:\n",
        "      if V in line:\n",
        "        p=1\n",
        "      if p==1:\n",
        "        print(\"Login Successful\")\n",
        "      else:\n",
        "        print(\"Please Register\")\n",
        "\n",
        "\n",
        "def checkdetails():\n",
        "  print(\"Please Provide\")\n",
        "  Emailid = input(\"Email-ID: \")\n",
        "  Password = input(\"Password: \")\n",
        "  get_existing_users(Emailid,Password)\n",
        "\n",
        "\n",
        "def checkuser(Forgotid):\n",
        "  with open(\"UserData1.txt\") as f:\n",
        "    c=0\n",
        "    for line in f:\n",
        "      if Forgotid in line:\n",
        "        c=1\n",
        "      if c==1:\n",
        "        print(\"Please provide a new password\")\n",
        "        Npwd=input(\"password: \")\n",
        "        file1=open(\"UserData1.txt\",\"a\")\n",
        "        N=[Forgotid,Npwd,\"\\n\"]\n",
        "        file1.writelines(N)\n",
        "        print(\"Password is saved\")\n",
        "      else:\n",
        "        print(\"Please Register\")\n",
        "\n",
        "\n",
        "def forgotpwd():\n",
        "  print(\"Please Provide\")\n",
        "  Forgotid=input(\"Email-ID: \")\n",
        "  checkuser(Forgotid)\n",
        "\n",
        "\n",
        "print(\"Please select on of the options from below:\")\n",
        "choice=int(input(\"Registration:1 \\n\" \"Login: 2 \\n\" \"Forgot Password: 3 \\n\" ))\n",
        "if choice ==1:\n",
        "  getdetails()\n",
        "elif choice==2:\n",
        "  checkdetails()\n",
        "elif choice==3:\n",
        "  forgotpwd()\n",
        "\n",
        "\n",
        "             \n",
        "\n",
        "\n"
      ],
      "metadata": {
        "id": "w-Pc1bmnUdV1",
        "colab": {
          "base_uri": "https://localhost:8080/"
        },
        "outputId": "1210bd5a-a45b-4e73-e882-7420b9274dde"
      },
      "execution_count": 1,
      "outputs": [
        {
          "output_type": "stream",
          "name": "stdout",
          "text": [
            "Please select on of the options from below:\n",
            "Registration:1 \n",
            "Login: 2 \n",
            "Forgot Password: 3 \n",
            "1\n",
            "Please Provide\n",
            "EmailID:  james123@hmail.com\n",
            "Valid Email\n",
            "Password: James@1234\n",
            "Valid Password\n",
            "Registration is successful\n"
          ]
        }
      ]
    }
  ]
}